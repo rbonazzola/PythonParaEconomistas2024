{
 "cells": [
  {
   "cell_type": "markdown",
   "id": "e0cba9f8",
   "metadata": {},
   "source": [
    "# Clase Nº 5"
   ]
  },
  {
   "cell_type": "markdown",
   "id": "ca6dacef",
   "metadata": {},
   "source": [
    "**Plan de la clase:**  \n",
    "**(1)** Preguntas sobre la clase asincrónica. <br>\n",
    "**(2)** Repaso de `pd.DataFrame.merge`. <br>\n",
    "**(3)** Unir un dataframe con un geodataframe y visualizar atributos en un mapa <br>\n",
    "**(4)** Unir dos geodataframes en base a atributos espaciales <br>\n",
    "**(5)** Unir dos geodataframes en base a atributos espaciales <br>"
   ]
  },
  {
   "cell_type": "markdown",
   "id": "f2e6c347",
   "metadata": {},
   "source": [
    "### Preguntas sobre la clase asincrónica"
   ]
  },
  {
   "cell_type": "code",
   "execution_count": null,
   "id": "551f7b10",
   "metadata": {},
   "outputs": [],
   "source": []
  },
  {
   "cell_type": "markdown",
   "id": "7a5b4258",
   "metadata": {},
   "source": [
    "### Repaso de `pd.DataFrame.merge`"
   ]
  },
  {
   "cell_type": "code",
   "execution_count": null,
   "id": "7dd0fc96",
   "metadata": {},
   "outputs": [],
   "source": [
    "import pandas as pd"
   ]
  },
  {
   "cell_type": "markdown",
   "id": "036a0202",
   "metadata": {},
   "source": [
    "Creamos algunos DataFrame's de ejemplo"
   ]
  },
  {
   "cell_type": "code",
   "execution_count": null,
   "id": "b425e8a3",
   "metadata": {},
   "outputs": [],
   "source": [
    "# \n",
    "df1 = [[\"a\", \"b\", \"c\", \"d\"], [1, 2, 3, 4]]\n",
    "df1 = pd.DataFrame(df1).transpose()\n",
    "df1\n",
    "\n",
    "df2 = [[\"a\", \"b\", \"d\"], [5, 6, 7]]\n",
    "df2 = pd.DataFrame(df2).transpose()\n",
    "\n",
    "# Como df3 pero le cambiamos el nombre a las columnas\n",
    "df3 = [[\"a\", \"b\", \"c\"], [8, 9, 10]]\n",
    "df3 = pd.DataFrame(df3).transpose()\n",
    "\n",
    "# Como df3 pero le cambiamos el nombre a las columnas\n",
    "df4 = [[\"a\", \"b\", \"c\"], [8, 9, 10]]\n",
    "df4 = pd.DataFrame(df4).transpose()\n",
    "df4.columns = [\"a\", \"b\"]\n",
    "\n",
    "display(df1)\n",
    "display(df2)\n",
    "display(df3)\n",
    "display(df4)"
   ]
  },
  {
   "cell_type": "markdown",
   "id": "17da8134",
   "metadata": {},
   "source": [
    "Si no especificamos nada, el tipo de merge es `inner` y las columnas utilizadas son todas aquellas con el mismo nombre, para ambos DataFrames. En este caso, `df1` y `df2`, son ambas columnas: `0` y `1`. En este ejemplo no hay valores compartidos en la columna `1` para esos dos DataFrames, por lo tanto nos la operación nos devuelve un DataFrame vacío."
   ]
  },
  {
   "cell_type": "code",
   "execution_count": null,
   "id": "7d0e8c3a",
   "metadata": {},
   "outputs": [],
   "source": [
    "pd.merge(df1, df2)"
   ]
  },
  {
   "cell_type": "markdown",
   "id": "3798a445",
   "metadata": {},
   "source": [
    "Si no especificamos nombres de columnas y no hay columnas con el mismo nombre, (ej. `df1` y `df4`), nos da un error de tipo `MergeError`:"
   ]
  },
  {
   "cell_type": "code",
   "execution_count": null,
   "id": "d76fb2e1",
   "metadata": {},
   "outputs": [],
   "source": [
    "try:\n",
    "    pd.merge(df1, df4)\n",
    "except pd.errors.MergeError:\n",
    "    print(\"Estos DataFrame's no tiene columnas compartidas\")"
   ]
  },
  {
   "cell_type": "markdown",
   "id": "8d4f4d47",
   "metadata": {},
   "source": [
    "Especificamos que la unión sea en base a la columna `0`:"
   ]
  },
  {
   "cell_type": "code",
   "execution_count": null,
   "id": "7b53cffd",
   "metadata": {},
   "outputs": [],
   "source": [
    "pd.merge(df1, df2, on=0) # how=\"inner\" por defecto"
   ]
  },
  {
   "cell_type": "markdown",
   "id": "1e4273e5",
   "metadata": {},
   "source": [
    "Podemos examinar distintos tipos de unión:"
   ]
  },
  {
   "cell_type": "code",
   "execution_count": null,
   "id": "98333c69",
   "metadata": {},
   "outputs": [],
   "source": [
    "display(pd.merge(df1, df2, on=0, how=\"inner\"))\n",
    "display(pd.merge(df1, df2, on=0, how=\"left\"))\n",
    "display(pd.merge(df2, df1, on=0, how=\"right\"))\n",
    "display(pd.merge(df2, df3, on=0, how=\"outer\"))"
   ]
  },
  {
   "cell_type": "markdown",
   "id": "304b1fa8",
   "metadata": {},
   "source": [
    "Especificamos distintos sufijos para aquellas columnas que tienen el mismo nombre en los distintos DF's"
   ]
  },
  {
   "cell_type": "code",
   "execution_count": null,
   "id": "7c7ae488",
   "metadata": {},
   "outputs": [],
   "source": [
    "pd.merge(df1, df2, on=0, suffixes=(\"_1\", \"_2\"), how=\"outer\")"
   ]
  },
  {
   "cell_type": "markdown",
   "id": "c25cb3b4",
   "metadata": {},
   "source": [
    "Usando los argumentos `left_on` y `right_on` para especificar distintas columnas de unión en cada DataFrame"
   ]
  },
  {
   "cell_type": "code",
   "execution_count": null,
   "id": "d1479ea0",
   "metadata": {},
   "outputs": [],
   "source": [
    "pd.merge(df2, df4, left_on=0, right_on=\"a\", suffixes=(\"_1\", \"_2\"), how=\"right\")"
   ]
  },
  {
   "cell_type": "markdown",
   "id": "a6be5bf7",
   "metadata": {},
   "source": [
    "#### `cross`\n",
    "Este tipo de `merge` es diferente, lo podemos describir como \"todos con todos\". No se especifica en base a qué columnas unir, porque el DataFrame resultante es simplemente la combinación de todas las filas del primero con todas las filas del segundo."
   ]
  },
  {
   "cell_type": "code",
   "execution_count": null,
   "id": "79afd83f",
   "metadata": {},
   "outputs": [],
   "source": [
    "pd.merge(df2, df3, how='cross')"
   ]
  },
  {
   "cell_type": "code",
   "execution_count": null,
   "id": "e7c80fc7-1dae-4af4-8964-ece0bc7df001",
   "metadata": {},
   "outputs": [],
   "source": []
  },
  {
   "cell_type": "markdown",
   "id": "9f63e92c",
   "metadata": {},
   "source": [
    "___"
   ]
  },
  {
   "cell_type": "markdown",
   "id": "b6f7641b",
   "metadata": {},
   "source": [
    "### Unir un geodataframe con un dataframe a través de un atributo no espacial"
   ]
  },
  {
   "cell_type": "markdown",
   "id": "b4ce232a",
   "metadata": {},
   "source": [
    "Vamos a ejemplificar cómo unir un `DataFrame` de Pandas con un `GeoDataFrame` de Geopandas.\n",
    "Para eso vamos a utilizar una tabla que contiene la población de las distintas provincias argentinas, y el shapefile de las provincias que ya vimos en la clase asincrónica."
   ]
  },
  {
   "cell_type": "code",
   "execution_count": null,
   "id": "67fbecba",
   "metadata": {},
   "outputs": [],
   "source": [
    "import numpy as np\n",
    "import pandas as pd\n",
    "import geopandas as gpd"
   ]
  },
  {
   "cell_type": "markdown",
   "id": "def82bf1",
   "metadata": {},
   "source": [
    "Descarguemos la tabla de población por provincia de [esta página](https://www.ign.gob.ar/NuestrasActividades/Geografia/DatosArgentina/Poblacion2) del sitio del IGN.\n",
    "Para eso utilizamos la función `read_html` de `Pandas` que es capaz de extraer tablas de un archivo `html`.\n",
    "Pueden necesitar instalar el paquete `lxml`, con `pip install lxml` en la terminal/cmd."
   ]
  },
  {
   "cell_type": "code",
   "execution_count": null,
   "id": "13c600e6",
   "metadata": {},
   "outputs": [],
   "source": [
    "url_pob = \"https://www.ign.gob.ar/NuestrasActividades/Geografia/DatosArgentina/Poblacion2\"\n",
    "tablas = pd.read_html(url_pob)"
   ]
  },
  {
   "cell_type": "code",
   "execution_count": null,
   "id": "251202a3",
   "metadata": {},
   "outputs": [],
   "source": [
    "len(tablas)"
   ]
  },
  {
   "cell_type": "code",
   "execution_count": null,
   "id": "24142e02",
   "metadata": {},
   "outputs": [],
   "source": [
    "poblacion_df = tablas[2]"
   ]
  },
  {
   "cell_type": "code",
   "execution_count": null,
   "id": "b6bbcbdb",
   "metadata": {},
   "outputs": [],
   "source": [
    "poblacion_df.dtypes"
   ]
  },
  {
   "cell_type": "markdown",
   "id": "8167b134",
   "metadata": {},
   "source": [
    "Preprocesamos el dataframe de población:"
   ]
  },
  {
   "cell_type": "code",
   "execution_count": null,
   "id": "70e2a0c9",
   "metadata": {},
   "outputs": [],
   "source": [
    "def convertir_a_int(fila, cols=[\"Año 2010\", \"Año 2015\", \"Año 2020\"]):    \n",
    "\n",
    "    '''\n",
    "    Convertir cols, que contienen strings de números con \".\" como separador de miles, a tipo entero.\n",
    "    '''\n",
    "    \n",
    "    try:\n",
    "        for col in cols:\n",
    "            fila[col] = int(fila[col].replace(\".\",\"\"))\n",
    "    except:\n",
    "        pass\n",
    "        \n",
    "    return fila"
   ]
  },
  {
   "cell_type": "code",
   "execution_count": null,
   "id": "74e7e0f0",
   "metadata": {},
   "outputs": [],
   "source": [
    "poblacion_df = poblacion_df.apply(convertir_a_int, axis=1)"
   ]
  },
  {
   "cell_type": "code",
   "execution_count": null,
   "id": "2efa9c7b",
   "metadata": {},
   "outputs": [],
   "source": [
    "poblacion_df.dtypes"
   ]
  },
  {
   "cell_type": "markdown",
   "id": "cb43609b",
   "metadata": {},
   "source": [
    "___"
   ]
  },
  {
   "cell_type": "markdown",
   "id": "e81d1d5d",
   "metadata": {},
   "source": [
    "Ahora carguemos un GeoDataFrame con las provincias de Argentina:"
   ]
  },
  {
   "cell_type": "code",
   "execution_count": null,
   "id": "9ef7cf69",
   "metadata": {},
   "outputs": [],
   "source": [
    "provincias_gdf = gpd.read_file(filename=\"datos_asincronica/provincia/provincia.zip\")\n",
    "provincias_gdf = provincias_gdf[[\"nam\", \"geometry\"]]\n",
    "provincias_gdf"
   ]
  },
  {
   "cell_type": "markdown",
   "id": "ea63b577",
   "metadata": {},
   "source": [
    "Examinemos el mapa generado al plotear la geometría asociada a este `GeoDataFrame`."
   ]
  },
  {
   "cell_type": "code",
   "execution_count": null,
   "id": "1351ed1e",
   "metadata": {},
   "outputs": [],
   "source": [
    "provincias_gdf.plot();"
   ]
  },
  {
   "cell_type": "markdown",
   "id": "f3e6fff2",
   "metadata": {},
   "source": [
    "Bounding box para excluir a la Antártida:"
   ]
  },
  {
   "cell_type": "code",
   "execution_count": null,
   "id": "44b947ca",
   "metadata": {},
   "outputs": [],
   "source": [
    "TdF_bounding_box = (-75,-60,-40,-55)\n",
    "xmin, ymin, xmax, ymax = TdF_bounding_box"
   ]
  },
  {
   "cell_type": "markdown",
   "id": "a18771d3",
   "metadata": {},
   "source": [
    "Usemos indexado de `GeoDataFrame`s (`gpd.GeoDataFrame.cx`) para seleccionar la fila correspondiente a Tierra del Fuego."
   ]
  },
  {
   "cell_type": "code",
   "execution_count": null,
   "id": "83a75e02",
   "metadata": {},
   "outputs": [],
   "source": [
    "TdF_Antartida_islas = provincias_gdf.cx[xmin:xmax, ymin:ymax]"
   ]
  },
  {
   "cell_type": "markdown",
   "id": "4ab86849",
   "metadata": {},
   "source": [
    "¿Cómo luce el mapa para esta fila sola?"
   ]
  },
  {
   "cell_type": "code",
   "execution_count": null,
   "id": "40b885f0",
   "metadata": {},
   "outputs": [],
   "source": [
    "provincias_gdf.cx[xmin:xmax, ymin:ymax].plot();"
   ]
  },
  {
   "cell_type": "markdown",
   "id": "aeb3e14a",
   "metadata": {},
   "source": [
    "Notar que pese a que utilizamos una bounding box que excluía a la Antártida, el indexado por coordenadas no funcionó para excluirla. La razón es que esta jurisdicción es un multipolígono (`MultiPolygon`) y el indexado por coordenadas nos trae el multipolígono completo, no los polígonos individuales que pertenecen a la bounding box."
   ]
  },
  {
   "cell_type": "code",
   "execution_count": null,
   "id": "7e6aeb61",
   "metadata": {},
   "outputs": [],
   "source": [
    "from shapely.geometry.multipolygon import MultiPolygon"
   ]
  },
  {
   "cell_type": "code",
   "execution_count": null,
   "id": "86d32182",
   "metadata": {},
   "outputs": [],
   "source": [
    "TdF_bounding_box = (-75,-60,-40,-55)\n",
    "xmin, ymin, xmax, ymax = TdF_bounding_box\n",
    "\n",
    "TdF_muchos_poligonos = TdF_Antartida_islas.geometry.explode(index_parts=True)\n",
    "TdF_muchos_poligonos = TdF_muchos_poligonos.cx[xmin:xmax, ymin:ymax]\n",
    "TdF_muchos_poligonos = TdF_muchos_poligonos.to_list()"
   ]
  },
  {
   "cell_type": "code",
   "execution_count": null,
   "id": "a847969e",
   "metadata": {},
   "outputs": [],
   "source": [
    "TdF_multipol = MultiPolygon(TdF_muchos_poligonos)\n",
    "TdF_multipol"
   ]
  },
  {
   "cell_type": "markdown",
   "id": "12cafc52",
   "metadata": {},
   "source": [
    "___"
   ]
  },
  {
   "cell_type": "markdown",
   "id": "c1c97ba1",
   "metadata": {},
   "source": [
    "### Ejercicio 1 (entre todos)"
   ]
  },
  {
   "cell_type": "markdown",
   "id": "1e7dbdd4",
   "metadata": {},
   "source": [
    "Crear una _bounding box_ similar a la creada para Tierra del Fuego, pero ahora para las Islas Malvinas. Seguir un procedimiento similar al realizado para Tierra del Fuego, finalmente agregar la geometría de las Islas Malvinas al multipolígono de Tierra del Fuego creado anteriormente. \n",
    "\n",
    "Modificar el Geodataframe original reemplazando el original por este."
   ]
  },
  {
   "cell_type": "code",
   "execution_count": null,
   "id": "b0a044af-ec86-43b5-9874-069bebcf99b7",
   "metadata": {},
   "outputs": [],
   "source": []
  },
  {
   "cell_type": "code",
   "execution_count": null,
   "id": "dcd96b80-4356-4447-9b03-f8e5671be299",
   "metadata": {},
   "outputs": [],
   "source": []
  },
  {
   "cell_type": "code",
   "execution_count": null,
   "id": "14b3efdf-ab6a-40db-9a37-3e76277a6f9f",
   "metadata": {},
   "outputs": [],
   "source": []
  },
  {
   "cell_type": "code",
   "execution_count": null,
   "id": "36be4256-e66f-46fd-96e1-4e403c39e8c8",
   "metadata": {},
   "outputs": [],
   "source": []
  },
  {
   "cell_type": "markdown",
   "id": "a2c60c98-3073-4484-9abf-68e93ef97f95",
   "metadata": {},
   "source": [
    "### Sistemas de coordenadas de referencia"
   ]
  },
  {
   "cell_type": "code",
   "execution_count": null,
   "id": "493aa69a-e96a-4e6f-acec-d796e63eb318",
   "metadata": {},
   "outputs": [],
   "source": [
    "provincias_gdf.crs"
   ]
  },
  {
   "cell_type": "markdown",
   "id": "81d56719-643a-4d0b-afbe-a7bc15e90478",
   "metadata": {},
   "source": [
    "Los CRS **geográficos** no permiten calcular el área en kilómetros cuadrados. Necesitamos pasar a un CRS **proyectado**."
   ]
  },
  {
   "cell_type": "code",
   "execution_count": null,
   "id": "10bfd682-c4fa-4d63-94ab-974143a687f5",
   "metadata": {},
   "outputs": [],
   "source": [
    "provincias_gdf.area"
   ]
  },
  {
   "cell_type": "code",
   "execution_count": null,
   "id": "f014b91c-3a9a-490e-b611-683d6d0f5f26",
   "metadata": {},
   "outputs": [],
   "source": [
    "def auto_utm_zone(gdf):\n",
    "    \"\"\"Determinar la zona UTM y el hemisferio a partir de los valores de la bounding box.\"\"\"\n",
    "    \n",
    "    # Calcular el centro de la bounding box\n",
    "    centroid_lon = gdf.geometry.total_bounds[[0, 2]].mean()\n",
    "    centroid_lat = gdf.geometry.total_bounds[[1, 3]].mean()\n",
    "    \n",
    "    # Determinar la zona UTM a partir de la longitud\n",
    "    zone = int((centroid_lon + 180) // 6) + 1\n",
    "    \n",
    "    # Determinar el hemisferio (norte o sur) a partir del signo de la latitud\n",
    "    hemisphere = 'north' if centroid_lat >= 0 else 'south'\n",
    "    \n",
    "    # El código EPSG para UTM depende de la zona, de la siguiente manera:\n",
    "    epsg_code = f\"EPSG:{32600 + zone if hemisphere == 'north' else 32700 + zone}\"\n",
    "    return epsg_code\n",
    "\n",
    "\n",
    "utm_crs = auto_utm_zone(provincias_gdf)\n",
    "\n",
    "# Ahora sí podemos calcular el área\n",
    "provincias_gdf.to_crs(utm_crs).area / 1e6"
   ]
  },
  {
   "cell_type": "code",
   "execution_count": null,
   "id": "9741b019-3e0a-4440-86f4-b0933e3d6f5f",
   "metadata": {},
   "outputs": [],
   "source": []
  },
  {
   "cell_type": "markdown",
   "id": "9f35cc5a",
   "metadata": {},
   "source": [
    "### Ejercicio 2\n",
    "\n",
    "Unir las bases `provincias_gdf` y `poblacion_df` por el nombre de la provincia. Notar que necesitamos especificar `left_on` y `right_on` porque los nombres de las columnas correspondientes son diferentes (o bien cambiar el nombre de una de las columnas).\n",
    "\n",
    "- Examinar el tipo de objeto que resulta del `merge` usando `provincias_gdf` a la izquierda y `poblacion_df` a la derecha.\n",
    "- Ídem anterior, con `poblacion_df` a la izquierda y `provincias_gdf` a la derecha.\n",
    "\n",
    "A continuación, representar un mapa del país coloreando cada provincia en base a la variación relativa en su población en el período 2015-2020. Para el merge, usar el orden de (Geo)DataFrame's que corresponda."
   ]
  },
  {
   "cell_type": "code",
   "execution_count": null,
   "id": "9315a699-3e5c-43a3-a3bb-31ba8b54946c",
   "metadata": {},
   "outputs": [],
   "source": []
  },
  {
   "cell_type": "code",
   "execution_count": null,
   "id": "472ada93-cdad-4585-8a5b-e18a4dfe002a",
   "metadata": {},
   "outputs": [],
   "source": []
  },
  {
   "cell_type": "code",
   "execution_count": null,
   "id": "62639f6e-ddcc-4e18-b05d-e9a570ceeeec",
   "metadata": {},
   "outputs": [],
   "source": []
  },
  {
   "cell_type": "code",
   "execution_count": null,
   "id": "afea1ad4-4c19-44c0-9a97-ee4d752e44d5",
   "metadata": {},
   "outputs": [],
   "source": []
  },
  {
   "cell_type": "code",
   "execution_count": null,
   "id": "9624d0d7-5e9c-480c-a388-87517c6e5983",
   "metadata": {},
   "outputs": [],
   "source": []
  },
  {
   "cell_type": "markdown",
   "id": "baf663b5-2602-4058-828e-6eea2c64e59d",
   "metadata": {},
   "source": [
    "### Ejercicio 3"
   ]
  },
  {
   "cell_type": "markdown",
   "id": "19430488-8f46-4cb7-8482-1d77520876c0",
   "metadata": {},
   "source": [
    "Repetir el mapa anterior pero ahora colorear por densidad de población. Para eso, calcular previamente el área de cada provincia usando Geopandas. Recordar que necesitamos pasar a un CRS \"proyectado\" como hicimos arriba. Quitar a Capital Federal para que no desplace la escala demasiado. \n",
    "\n",
    "(_Ayuda_: cuando pasamos al CRS UTM, las coordenadas nos quedan en metros. Por lo tanto, como hicimos arriba, al calcular el área hay que dividir por 1.000.000)"
   ]
  },
  {
   "cell_type": "code",
   "execution_count": null,
   "id": "1d276ba2-48e8-438e-a54c-c35f9f96a488",
   "metadata": {},
   "outputs": [],
   "source": []
  },
  {
   "cell_type": "code",
   "execution_count": null,
   "id": "09b71c35-f972-4eb9-93ac-5944433dc8a6",
   "metadata": {},
   "outputs": [],
   "source": []
  },
  {
   "cell_type": "code",
   "execution_count": null,
   "id": "4f4b6925-5642-4655-a404-011498ffd819",
   "metadata": {},
   "outputs": [],
   "source": []
  },
  {
   "cell_type": "code",
   "execution_count": null,
   "id": "7afc2247-e89f-4049-b950-bf898c1dccc9",
   "metadata": {},
   "outputs": [],
   "source": []
  },
  {
   "cell_type": "markdown",
   "id": "b125974e",
   "metadata": {},
   "source": [
    "___"
   ]
  },
  {
   "cell_type": "markdown",
   "id": "3a33b8aa",
   "metadata": {},
   "source": [
    "### Unir geodatraframes por un atributo espacial: `sjoin`"
   ]
  },
  {
   "cell_type": "markdown",
   "id": "681f626d",
   "metadata": {},
   "source": [
    "**Ejercicio:** Leer el shapefile de departamentos como GeoDataFrame. Crear un widget reactivo que permita elegir una provincia y muestre un mapa con la división departamental de la misma."
   ]
  },
  {
   "cell_type": "markdown",
   "id": "d44ce1ba",
   "metadata": {},
   "source": [
    "Geopandas permite unir dos GeoDataFrames en base a relaciones espaciales entre las observaciones (filas) de cada uno."
   ]
  },
  {
   "cell_type": "markdown",
   "id": "7b2f345f",
   "metadata": {},
   "source": [
    "Vamos a usar estas relaciones espaciales para poder vincular departamentos con provincias."
   ]
  },
  {
   "cell_type": "code",
   "execution_count": null,
   "id": "77e5910d",
   "metadata": {},
   "outputs": [],
   "source": [
    "departamentos_gdf = gpd.read_file(\"datos/departamento.zip\")\n",
    "\n",
    "# Extraemos las columnas de interés\n",
    "# objectid es un identificador único para cada departamento a nivel país \n",
    "# Lo necesitamos porque hay departamentos cuyos nombres se repiten en distintas provincias.\n",
    "departamentos_gdf = departamentos_gdf[[\"objectid\", \"nam\", \"geometry\"]]\n",
    "\n",
    "# Renombramos la columna que da el nombre del departamento\n",
    "departamentos_gdf = departamentos_gdf.rename({\"nam\": \"departamento\"}, axis=1)"
   ]
  },
  {
   "cell_type": "markdown",
   "id": "8b404f86",
   "metadata": {},
   "source": [
    "Examinemos este GeoDataFrame. ¿Qué problema nos encontramos?"
   ]
  },
  {
   "cell_type": "code",
   "execution_count": null,
   "id": "111ac7f2",
   "metadata": {},
   "outputs": [],
   "source": [
    "departamentos_gdf"
   ]
  },
  {
   "cell_type": "markdown",
   "id": "3104a140",
   "metadata": {},
   "source": [
    "El problema es que **no tenemos la provincia** asociada a cada departamento. \n",
    "\n",
    "Claro que podríamos conseguir esta relación de alguna forma pero, en lugar de eso, vamos a inferirla mediante **relaciones espaciales**.\n",
    "\n",
    "Vamos a hacer lo siguiente: dado que conocemos los polígonos correspondientes a las provincias y a los departamentos, podemos preguntarnos _cuáles departamentos están dentro de qué provincias_.\n",
    "\n",
    "El plan, entonces, será:\n",
    "- obtener un punto que esté **dentro** de cada departamento del país, guardando el ID del departamento correspondiente. El nombre del departamento no sirve a este fin pues los nombres de departamento se repiten en distintas provincias.\n",
    "    - Una opción sería usar el centroide (promedio de las coordenadas de los puntos), sin embargo esto puede fallar (¿en qué casos?).\n",
    "    - En lugar de eso vamos a usar un método llamado `.representative_point()`.\n",
    "- determinar qué puntos están ubicados dentro de qué (multi)polígonos de provincias. Esto nos daría la relación departamento -> provincia."
   ]
  },
  {
   "cell_type": "markdown",
   "id": "4517a30f",
   "metadata": {},
   "source": [
    "___"
   ]
  },
  {
   "cell_type": "markdown",
   "id": "3ef688d3",
   "metadata": {},
   "source": [
    "Primero, obtenemos los centroides de cada departamento.\n",
    "Esto nos va a dar un `UserWarning`. ¿Por qué? Porque queremos calcular el centroide en un CRS geográfico: vamos a estar promediando latitudes y longitudes en lugar de distancias. Esto no nos preocupa, pues no estamos interesados en el valor exacto del centroide y, por otro lado, los departamentos son lo suficientemente chicos como para que esta diferencia no importe."
   ]
  },
  {
   "cell_type": "code",
   "execution_count": null,
   "id": "dcb6b11c",
   "metadata": {},
   "outputs": [],
   "source": [
    "departamentos_punto_adentro_gdf = departamentos_gdf.copy()\n",
    "departamentos_punto_adentro_gdf[\"geometry\"] = departamentos_gdf.geometry.representative_point();"
   ]
  },
  {
   "cell_type": "markdown",
   "id": "2fe55459",
   "metadata": {},
   "source": [
    "Ahora realizamos el **join espacial** con `sjoin`. Para hacer un sjoin necesitamos un **predicado**, la relación espacial según la cual queremos unir.\n",
    "\n",
    "Utilizamos el predicado `within`. Este es el tipo de relación que deseamos: queremos que el centroide de cada departamento esté adentro de (_within_) la geometría de la provincia.\n",
    "Para ver una lista extensiva de predicados posibles se puede consultar [esta página de documentación de Shapely](https://shapely.readthedocs.io/en/stable/manual.html) (sección **Relationships**) o [este PDF](https://giswiki.hsr.ch/images/3/3d/9dem_springer.pdf). Otros valores posibles son `intersects`, `contains`, `overlaps` y `touches`."
   ]
  },
  {
   "cell_type": "code",
   "execution_count": null,
   "id": "ad913c81",
   "metadata": {},
   "outputs": [],
   "source": [
    "prov_dep_gdf = departamentos_centroid_gdf.sjoin(provincias_gdf, predicate=\"within\")"
   ]
  },
  {
   "cell_type": "code",
   "execution_count": null,
   "id": "521bd44f",
   "metadata": {},
   "outputs": [],
   "source": [
    "prov_dep_df = prov_dep_gdf[[\"objectid\", \"nam\"]]"
   ]
  },
  {
   "cell_type": "code",
   "execution_count": null,
   "id": "d1b3f35c",
   "metadata": {},
   "outputs": [],
   "source": [
    "prov_dep_df"
   ]
  },
  {
   "cell_type": "code",
   "execution_count": null,
   "id": "2931c63e",
   "metadata": {},
   "outputs": [],
   "source": [
    "departamentos_gdf = departamentos_gdf.merge(prov_dep_df, how=\"inner\", on=\"objectid\")"
   ]
  },
  {
   "cell_type": "code",
   "execution_count": null,
   "id": "781bdc0e",
   "metadata": {},
   "outputs": [],
   "source": [
    "provincias = set(departamentos_gdf.nam.to_list())"
   ]
  },
  {
   "cell_type": "code",
   "execution_count": null,
   "id": "c8035357-b536-4a79-8c02-a2dafba5d923",
   "metadata": {},
   "outputs": [],
   "source": [
    "departamentos_gdf"
   ]
  },
  {
   "cell_type": "markdown",
   "id": "e472a162",
   "metadata": {},
   "source": [
    "Ahora representamos la división departamental de cada provincia en un mapa."
   ]
  },
  {
   "cell_type": "code",
   "execution_count": null,
   "id": "a4dd9a67",
   "metadata": {},
   "outputs": [],
   "source": [
    "import ipywidgets as widgets \n",
    "from ipywidgets import interact\n",
    "from matplotlib import pyplot as plt\n",
    "\n",
    "provincias_w = widgets.Dropdown(options=sorted(list(provincias)))  # ordenamos alfabéticamente\n",
    "\n",
    "@interact\n",
    "def mostrar_deptos_por_provincia(provincia=provincias_w):\n",
    "\n",
    "    provincia_gdf = departamentos_gdf.query(\"nam == @provincia\")\n",
    "    \n",
    "    provincia_gdf.plot(cmap=\"tab10\", figsize=(10,10), edgecolor='black')\n",
    "    \n",
    "    # Añadir etiquetas\n",
    "    for idx, row in provincia_gdf.iterrows():        \n",
    "        depto = \"\\n\".join(row['departamento'].split(maxsplit=1)\n",
    "        plt.annotate(\n",
    "            text=depto, \n",
    "            xy=(row['geometry'].centroid.x, row['geometry'].centroid.y),\n",
    "            horizontalalignment='center', size=7\n",
    "        )"
   ]
  },
  {
   "cell_type": "code",
   "execution_count": null,
   "id": "3b8b36e5-a36e-44c0-9fd3-7e3cfcdf84c4",
   "metadata": {},
   "outputs": [],
   "source": []
  }
 ],
 "metadata": {
  "kernelspec": {
   "display_name": "Python 3 (ipykernel)",
   "language": "python",
   "name": "python3"
  },
  "language_info": {
   "codemirror_mode": {
    "name": "ipython",
    "version": 3
   },
   "file_extension": ".py",
   "mimetype": "text/x-python",
   "name": "python",
   "nbconvert_exporter": "python",
   "pygments_lexer": "ipython3",
   "version": "3.10.12"
  }
 },
 "nbformat": 4,
 "nbformat_minor": 5
}

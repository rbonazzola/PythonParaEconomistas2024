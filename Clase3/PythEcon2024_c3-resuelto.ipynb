{
 "cells": [
  {
   "cell_type": "markdown",
   "metadata": {},
   "source": [
    "# Python para Economistas - Clase 3"
   ]
  },
  {
   "cell_type": "markdown",
   "metadata": {},
   "source": [
    "**Plan de clase:**  \n",
    "**(1)** GitHub para entregar tarea \\\n",
    "**(2)** Repaso de `Pandas` \\\n",
    "**(3)** `Pandas`: temas nuevos \\\n",
    "**(4)** `Matplotlib` \\\n",
    "**(5)** Ejercicios"
   ]
  },
  {
   "cell_type": "markdown",
   "metadata": {},
   "source": [
    "___\n",
    "## (1) GitHub\n",
    "\n",
    "A partir de esta clase, **los trabajos prácticos se entregarán a través de GitHub** (ya no a través de Slack).\\\n",
    "Supondremos que ya tienen una cuenta personal de GitHub. Vamos a ver:\n",
    "\n",
    "\n",
    " **(a)** Cómo crear un repo privado: https://docs.github.com/en/get-started/quickstart/create-a-repo  \n",
    " **(b)** Cómo agregar colaboradores: https://docs.github.com/en/account-and-profile/setting-up-and-managing-your-github-user-account/managing-access-to-your-personal-repositories/inviting-collaborators-to-a-personal-repository  \n",
    " **(c)** Clonar repo en computadora  \n",
    " **(d)** Comandos nuevos: `status`, `add`, `commit` y `push`  \n",
    " \n",
    " _Si es necesario: https://docs.github.com/en/authentication/keeping-your-account-and-data-secure/creating-a-personal-access-token_"
   ]
  },
  {
   "cell_type": "markdown",
   "metadata": {},
   "source": [
    "Los nombres de usuario de GitHub de los profesores están en el notebook correspondiente al trabajo práctico."
   ]
  },
  {
   "cell_type": "markdown",
   "metadata": {},
   "source": [
    "___"
   ]
  },
  {
   "cell_type": "markdown",
   "metadata": {},
   "source": [
    "**_Recordatorio:_**\n",
    "Como siempre, para seguir esta clase, pueden ejecutar `git pull` para bajarse este notebook. Recuerden guardar los cambios en los archivos del repositorio que hayan modificado (y que quieran preservar) con \"Save as...\", luego ejecutar `git reset --hard` para volver los archivos al estado original y así evitar conflictos al hacer el pull."
   ]
  },
  {
   "cell_type": "markdown",
   "metadata": {
    "id": "EcNl9ORpsP9e"
   },
   "source": [
    "___\n",
    "## (2) Repaso de Pandas\n",
    "Vamos a trabajar sobre un archivo CSV que contiene una serie temporal con la potencia de distintas centrales eléctricas de Argentina.\n",
    "\n",
    "- abrir archivos\n",
    "- inspeccionar los datos\n",
    "- crear columnas\n",
    "- seleccionar y dropear columnas\n",
    "- seleccionar segmentos de una base (filtrar, slice, loc)"
   ]
  },
  {
   "cell_type": "markdown",
   "metadata": {},
   "source": [
    "**(a)** cargar los datos en el archivo `potencia_instalada_mod.csv`. (_Nota: van a tener que definir el parámetro_ `encoding='latin1'`_)_  \n",
    "**(b)** identificar cuántas columnas y filas hay, cantidades según tipo de dato y si alguna tiene valores faltantes.  \n",
    "**(c)** inspeccionemos las primeras 5 líneas: ¿qué problema ven?  \n",
    "**(d)** armar un dataframe llamado `df` que tenga las siguientes columnas: periodo, el agente, la descripcion del agente, la fuente de generación y la potencia instalada.  \n",
    "**(e)** redondear la columna de potencia instalada al _entero más cercano_.  \n",
    "**(f)** cambiar el formato de la columna de potencia instalada a `int`. \\\n",
    "**(g)** cortar la base para quedarnos únicamente con las primeras 11497 filas"
   ]
  },
  {
   "cell_type": "markdown",
   "metadata": {},
   "source": [
    "**(a)** Leemos los datos en un Dataframe"
   ]
  },
  {
   "cell_type": "code",
   "execution_count": 1,
   "metadata": {
    "tags": []
   },
   "outputs": [],
   "source": [
    "import pandas as pd"
   ]
  },
  {
   "cell_type": "code",
   "execution_count": 17,
   "metadata": {},
   "outputs": [],
   "source": [
    "potencia_df = pd.read_csv(\"potencia_instalada_mod.csv\", encoding='latin1', sep=\"|\")"
   ]
  },
  {
   "cell_type": "code",
   "execution_count": 18,
   "metadata": {},
   "outputs": [
    {
     "data": {
      "text/plain": [
       "(15793, 16)"
      ]
     },
     "execution_count": 18,
     "metadata": {},
     "output_type": "execute_result"
    }
   ],
   "source": [
    "potencia_df.shape"
   ]
  },
  {
   "cell_type": "markdown",
   "metadata": {},
   "source": [
    "**_Nota para curiosos_**: la razón por la que necesitamos `encoding='latin1'` es que hay caracteres que no se pueden leer con el encoding por defecto (un encoding es una forma de interpretar los bytes como caracteres, por ejemplo UTF-8). De hecho, si tratamos de leer sin este argumento nos dice que nos encontramos un error en el byte 288. Esto significa que el carácter en la posición 288 no puede ser decodificado. Si nos da curiosidad, podemos usar el siguiente código para ver qué carácter es:"
   ]
  },
  {
   "cell_type": "code",
   "execution_count": 19,
   "metadata": {},
   "outputs": [
    {
     "data": {
      "text/plain": [
       "'Unnamed: 0|id|periodo|central|agente|agente_descripcion|region|categoria_region|tipo_maquina|fuente_generacion|tecnologia|potencia_instalada_mw|fecha_proceso|lote_id_log|mes|indice_tiempo\\n0|2|01/10/2015 0:00|ABRO|CTBROWNG|C.T. ALMIRANTE BROWN|GRAN BS.AS.|Gba - Litoral - Buenos Aires|DI|Térmica|Motor Diesel|25.0|47:17.9|4|10|2015-10\\n1|3|01/10/2015 0:00|ACAJ|CAPEXSAG|C.T. AGUA DEL CAJON|COMAHUE|Comahue|TG|Térmica|Ciclos Combinados|184.4|47:17.9|4|10|2015-10\\n2|4|01/10/2015 0:00|ADTOHI|HIDIAMAG|H. DIAMANTE SA|CUYO|Cuyo|HI|Hidráulica|Hidráulica|150.0|47:17.9|4|10|2015-10\\n3|5|01/10/2015 0:00|AESP|CTAESPAG|C.T. AES PARANA|BUENOS AIRES|Gba - Litoral - Buenos Aires|TG|Térmica|Ciclos Combinados|525.96|47:17.9|4|10|2015-10\\n4|6|01/10/2015 0:00|AESP|CTAESPAG|C.T. AES PARANA|BUENOS AIRES|Gba - Litoral - Buenos Aires|TV|Térmica|Ciclos Combinados|319.3|47:17.9|4|10|2015-10\\n5|7|01/10/2015 0:00|ALEM|CTALEMAG|CT ALEM - AGGREKO|NORESTE|Nea|DI|Térmica|Motor Diesel|15.0|47:17.9|4|10|2015-10\\n6|8|01/10/2015 0'"
      ]
     },
     "execution_count": 19,
     "metadata": {},
     "output_type": "execute_result"
    }
   ],
   "source": [
    "texto = open(\"potencia_instalada_mod.csv\", \"rt\", encoding=\"latin1\").read()\n",
    "texto[:1000]"
   ]
  },
  {
   "cell_type": "markdown",
   "metadata": {},
   "source": [
    "`.read()` lee el contenido del archivo como una única string, y luego podemos usar `[288]` para ver qué carácter hay en esa posición:"
   ]
  },
  {
   "cell_type": "code",
   "execution_count": 20,
   "metadata": {},
   "outputs": [
    {
     "data": {
      "text/plain": [
       "'é'"
      ]
     },
     "execution_count": 20,
     "metadata": {},
     "output_type": "execute_result"
    }
   ],
   "source": [
    "texto[288]"
   ]
  },
  {
   "cell_type": "markdown",
   "metadata": {},
   "source": [
    "Vemos que el carácter problemático es la é (e con acento). En realidad este es el primer carácter problemático que encuentra: el resto de vocales con acento también lo son."
   ]
  },
  {
   "cell_type": "markdown",
   "metadata": {},
   "source": [
    "**_Fin de nota para curiosos_**"
   ]
  },
  {
   "cell_type": "markdown",
   "metadata": {},
   "source": [
    "**(b)** identificar cuántas columnas y filas hay, cantidades según tipo de dato y si alguna tiene valores faltantes.  "
   ]
  },
  {
   "cell_type": "code",
   "execution_count": 21,
   "metadata": {},
   "outputs": [
    {
     "name": "stdout",
     "output_type": "stream",
     "text": [
      "<class 'pandas.core.frame.DataFrame'>\n",
      "RangeIndex: 15793 entries, 0 to 15792\n",
      "Data columns (total 16 columns):\n",
      " #   Column                 Non-Null Count  Dtype  \n",
      "---  ------                 --------------  -----  \n",
      " 0   Unnamed: 0             15793 non-null  int64  \n",
      " 1   id                     15793 non-null  int64  \n",
      " 2   periodo                15793 non-null  object \n",
      " 3   central                15793 non-null  object \n",
      " 4   agente                 15789 non-null  object \n",
      " 5   agente_descripcion     15789 non-null  object \n",
      " 6   region                 15793 non-null  object \n",
      " 7   categoria_region       15793 non-null  object \n",
      " 8   tipo_maquina           15793 non-null  object \n",
      " 9   fuente_generacion      15793 non-null  object \n",
      " 10  tecnologia             15793 non-null  object \n",
      " 11  potencia_instalada_mw  15793 non-null  float64\n",
      " 12  fecha_proceso          15793 non-null  object \n",
      " 13  lote_id_log            15793 non-null  int64  \n",
      " 14  mes                    15793 non-null  int64  \n",
      " 15  indice_tiempo          15793 non-null  object \n",
      "dtypes: float64(1), int64(4), object(11)\n",
      "memory usage: 1.9+ MB\n"
     ]
    }
   ],
   "source": [
    "potencia_df.dtypes\n",
    "potencia_df.info(verbose=True)"
   ]
  },
  {
   "cell_type": "markdown",
   "metadata": {},
   "source": [
    "**(c)** inspeccionemos las primeras 5 líneas: ¿qué problema ven?  "
   ]
  },
  {
   "cell_type": "code",
   "execution_count": 22,
   "metadata": {},
   "outputs": [
    {
     "data": {
      "text/html": [
       "<div>\n",
       "<style scoped>\n",
       "    .dataframe tbody tr th:only-of-type {\n",
       "        vertical-align: middle;\n",
       "    }\n",
       "\n",
       "    .dataframe tbody tr th {\n",
       "        vertical-align: top;\n",
       "    }\n",
       "\n",
       "    .dataframe thead th {\n",
       "        text-align: right;\n",
       "    }\n",
       "</style>\n",
       "<table border=\"1\" class=\"dataframe\">\n",
       "  <thead>\n",
       "    <tr style=\"text-align: right;\">\n",
       "      <th></th>\n",
       "      <th>Unnamed: 0</th>\n",
       "      <th>id</th>\n",
       "      <th>periodo</th>\n",
       "      <th>central</th>\n",
       "      <th>agente</th>\n",
       "      <th>agente_descripcion</th>\n",
       "      <th>region</th>\n",
       "      <th>categoria_region</th>\n",
       "      <th>tipo_maquina</th>\n",
       "      <th>fuente_generacion</th>\n",
       "      <th>tecnologia</th>\n",
       "      <th>potencia_instalada_mw</th>\n",
       "      <th>fecha_proceso</th>\n",
       "      <th>lote_id_log</th>\n",
       "      <th>mes</th>\n",
       "      <th>indice_tiempo</th>\n",
       "    </tr>\n",
       "  </thead>\n",
       "  <tbody>\n",
       "    <tr>\n",
       "      <th>0</th>\n",
       "      <td>0</td>\n",
       "      <td>2</td>\n",
       "      <td>01/10/2015 0:00</td>\n",
       "      <td>ABRO</td>\n",
       "      <td>CTBROWNG</td>\n",
       "      <td>C.T. ALMIRANTE BROWN</td>\n",
       "      <td>GRAN BS.AS.</td>\n",
       "      <td>Gba - Litoral - Buenos Aires</td>\n",
       "      <td>DI</td>\n",
       "      <td>Térmica</td>\n",
       "      <td>Motor Diesel</td>\n",
       "      <td>25.00</td>\n",
       "      <td>47:17.9</td>\n",
       "      <td>4</td>\n",
       "      <td>10</td>\n",
       "      <td>2015-10</td>\n",
       "    </tr>\n",
       "    <tr>\n",
       "      <th>1</th>\n",
       "      <td>1</td>\n",
       "      <td>3</td>\n",
       "      <td>01/10/2015 0:00</td>\n",
       "      <td>ACAJ</td>\n",
       "      <td>CAPEXSAG</td>\n",
       "      <td>C.T. AGUA DEL CAJON</td>\n",
       "      <td>COMAHUE</td>\n",
       "      <td>Comahue</td>\n",
       "      <td>TG</td>\n",
       "      <td>Térmica</td>\n",
       "      <td>Ciclos Combinados</td>\n",
       "      <td>184.40</td>\n",
       "      <td>47:17.9</td>\n",
       "      <td>4</td>\n",
       "      <td>10</td>\n",
       "      <td>2015-10</td>\n",
       "    </tr>\n",
       "    <tr>\n",
       "      <th>2</th>\n",
       "      <td>2</td>\n",
       "      <td>4</td>\n",
       "      <td>01/10/2015 0:00</td>\n",
       "      <td>ADTOHI</td>\n",
       "      <td>HIDIAMAG</td>\n",
       "      <td>H. DIAMANTE SA</td>\n",
       "      <td>CUYO</td>\n",
       "      <td>Cuyo</td>\n",
       "      <td>HI</td>\n",
       "      <td>Hidráulica</td>\n",
       "      <td>Hidráulica</td>\n",
       "      <td>150.00</td>\n",
       "      <td>47:17.9</td>\n",
       "      <td>4</td>\n",
       "      <td>10</td>\n",
       "      <td>2015-10</td>\n",
       "    </tr>\n",
       "    <tr>\n",
       "      <th>3</th>\n",
       "      <td>3</td>\n",
       "      <td>5</td>\n",
       "      <td>01/10/2015 0:00</td>\n",
       "      <td>AESP</td>\n",
       "      <td>CTAESPAG</td>\n",
       "      <td>C.T. AES PARANA</td>\n",
       "      <td>BUENOS AIRES</td>\n",
       "      <td>Gba - Litoral - Buenos Aires</td>\n",
       "      <td>TG</td>\n",
       "      <td>Térmica</td>\n",
       "      <td>Ciclos Combinados</td>\n",
       "      <td>525.96</td>\n",
       "      <td>47:17.9</td>\n",
       "      <td>4</td>\n",
       "      <td>10</td>\n",
       "      <td>2015-10</td>\n",
       "    </tr>\n",
       "    <tr>\n",
       "      <th>4</th>\n",
       "      <td>4</td>\n",
       "      <td>6</td>\n",
       "      <td>01/10/2015 0:00</td>\n",
       "      <td>AESP</td>\n",
       "      <td>CTAESPAG</td>\n",
       "      <td>C.T. AES PARANA</td>\n",
       "      <td>BUENOS AIRES</td>\n",
       "      <td>Gba - Litoral - Buenos Aires</td>\n",
       "      <td>TV</td>\n",
       "      <td>Térmica</td>\n",
       "      <td>Ciclos Combinados</td>\n",
       "      <td>319.30</td>\n",
       "      <td>47:17.9</td>\n",
       "      <td>4</td>\n",
       "      <td>10</td>\n",
       "      <td>2015-10</td>\n",
       "    </tr>\n",
       "  </tbody>\n",
       "</table>\n",
       "</div>"
      ],
      "text/plain": [
       "   Unnamed: 0  id          periodo central    agente    agente_descripcion  \\\n",
       "0           0   2  01/10/2015 0:00    ABRO  CTBROWNG  C.T. ALMIRANTE BROWN   \n",
       "1           1   3  01/10/2015 0:00    ACAJ  CAPEXSAG   C.T. AGUA DEL CAJON   \n",
       "2           2   4  01/10/2015 0:00  ADTOHI  HIDIAMAG        H. DIAMANTE SA   \n",
       "3           3   5  01/10/2015 0:00    AESP  CTAESPAG       C.T. AES PARANA   \n",
       "4           4   6  01/10/2015 0:00    AESP  CTAESPAG       C.T. AES PARANA   \n",
       "\n",
       "         region              categoria_region tipo_maquina fuente_generacion  \\\n",
       "0   GRAN BS.AS.  Gba - Litoral - Buenos Aires           DI           Térmica   \n",
       "1       COMAHUE                       Comahue           TG           Térmica   \n",
       "2          CUYO                          Cuyo           HI        Hidráulica   \n",
       "3  BUENOS AIRES  Gba - Litoral - Buenos Aires           TG           Térmica   \n",
       "4  BUENOS AIRES  Gba - Litoral - Buenos Aires           TV           Térmica   \n",
       "\n",
       "          tecnologia  potencia_instalada_mw fecha_proceso  lote_id_log  mes  \\\n",
       "0       Motor Diesel                  25.00       47:17.9            4   10   \n",
       "1  Ciclos Combinados                 184.40       47:17.9            4   10   \n",
       "2         Hidráulica                 150.00       47:17.9            4   10   \n",
       "3  Ciclos Combinados                 525.96       47:17.9            4   10   \n",
       "4  Ciclos Combinados                 319.30       47:17.9            4   10   \n",
       "\n",
       "  indice_tiempo  \n",
       "0       2015-10  \n",
       "1       2015-10  \n",
       "2       2015-10  \n",
       "3       2015-10  \n",
       "4       2015-10  "
      ]
     },
     "execution_count": 22,
     "metadata": {},
     "output_type": "execute_result"
    }
   ],
   "source": [
    "potencia_df.head(5)"
   ]
  },
  {
   "cell_type": "markdown",
   "metadata": {},
   "source": [
    "Pueden haber encontrado más de un problema, aquí nos enfocaremos en la columna `\"Unnamed: 0\"` que parece contener un índice y haber sido guardada por error."
   ]
  },
  {
   "cell_type": "markdown",
   "metadata": {},
   "source": [
    "Con `drop` (usando el argumento `axis=1`) podemos eliminar columnas:"
   ]
  },
  {
   "cell_type": "code",
   "execution_count": 23,
   "metadata": {},
   "outputs": [
    {
     "data": {
      "text/html": [
       "<div>\n",
       "<style scoped>\n",
       "    .dataframe tbody tr th:only-of-type {\n",
       "        vertical-align: middle;\n",
       "    }\n",
       "\n",
       "    .dataframe tbody tr th {\n",
       "        vertical-align: top;\n",
       "    }\n",
       "\n",
       "    .dataframe thead th {\n",
       "        text-align: right;\n",
       "    }\n",
       "</style>\n",
       "<table border=\"1\" class=\"dataframe\">\n",
       "  <thead>\n",
       "    <tr style=\"text-align: right;\">\n",
       "      <th></th>\n",
       "      <th>id</th>\n",
       "      <th>periodo</th>\n",
       "      <th>central</th>\n",
       "      <th>agente</th>\n",
       "      <th>agente_descripcion</th>\n",
       "      <th>region</th>\n",
       "      <th>categoria_region</th>\n",
       "      <th>tipo_maquina</th>\n",
       "      <th>fuente_generacion</th>\n",
       "      <th>tecnologia</th>\n",
       "      <th>potencia_instalada_mw</th>\n",
       "      <th>fecha_proceso</th>\n",
       "      <th>lote_id_log</th>\n",
       "      <th>mes</th>\n",
       "      <th>indice_tiempo</th>\n",
       "    </tr>\n",
       "  </thead>\n",
       "  <tbody>\n",
       "    <tr>\n",
       "      <th>0</th>\n",
       "      <td>2</td>\n",
       "      <td>01/10/2015 0:00</td>\n",
       "      <td>ABRO</td>\n",
       "      <td>CTBROWNG</td>\n",
       "      <td>C.T. ALMIRANTE BROWN</td>\n",
       "      <td>GRAN BS.AS.</td>\n",
       "      <td>Gba - Litoral - Buenos Aires</td>\n",
       "      <td>DI</td>\n",
       "      <td>Térmica</td>\n",
       "      <td>Motor Diesel</td>\n",
       "      <td>25.00</td>\n",
       "      <td>47:17.9</td>\n",
       "      <td>4</td>\n",
       "      <td>10</td>\n",
       "      <td>2015-10</td>\n",
       "    </tr>\n",
       "    <tr>\n",
       "      <th>1</th>\n",
       "      <td>3</td>\n",
       "      <td>01/10/2015 0:00</td>\n",
       "      <td>ACAJ</td>\n",
       "      <td>CAPEXSAG</td>\n",
       "      <td>C.T. AGUA DEL CAJON</td>\n",
       "      <td>COMAHUE</td>\n",
       "      <td>Comahue</td>\n",
       "      <td>TG</td>\n",
       "      <td>Térmica</td>\n",
       "      <td>Ciclos Combinados</td>\n",
       "      <td>184.40</td>\n",
       "      <td>47:17.9</td>\n",
       "      <td>4</td>\n",
       "      <td>10</td>\n",
       "      <td>2015-10</td>\n",
       "    </tr>\n",
       "    <tr>\n",
       "      <th>2</th>\n",
       "      <td>4</td>\n",
       "      <td>01/10/2015 0:00</td>\n",
       "      <td>ADTOHI</td>\n",
       "      <td>HIDIAMAG</td>\n",
       "      <td>H. DIAMANTE SA</td>\n",
       "      <td>CUYO</td>\n",
       "      <td>Cuyo</td>\n",
       "      <td>HI</td>\n",
       "      <td>Hidráulica</td>\n",
       "      <td>Hidráulica</td>\n",
       "      <td>150.00</td>\n",
       "      <td>47:17.9</td>\n",
       "      <td>4</td>\n",
       "      <td>10</td>\n",
       "      <td>2015-10</td>\n",
       "    </tr>\n",
       "    <tr>\n",
       "      <th>3</th>\n",
       "      <td>5</td>\n",
       "      <td>01/10/2015 0:00</td>\n",
       "      <td>AESP</td>\n",
       "      <td>CTAESPAG</td>\n",
       "      <td>C.T. AES PARANA</td>\n",
       "      <td>BUENOS AIRES</td>\n",
       "      <td>Gba - Litoral - Buenos Aires</td>\n",
       "      <td>TG</td>\n",
       "      <td>Térmica</td>\n",
       "      <td>Ciclos Combinados</td>\n",
       "      <td>525.96</td>\n",
       "      <td>47:17.9</td>\n",
       "      <td>4</td>\n",
       "      <td>10</td>\n",
       "      <td>2015-10</td>\n",
       "    </tr>\n",
       "    <tr>\n",
       "      <th>4</th>\n",
       "      <td>6</td>\n",
       "      <td>01/10/2015 0:00</td>\n",
       "      <td>AESP</td>\n",
       "      <td>CTAESPAG</td>\n",
       "      <td>C.T. AES PARANA</td>\n",
       "      <td>BUENOS AIRES</td>\n",
       "      <td>Gba - Litoral - Buenos Aires</td>\n",
       "      <td>TV</td>\n",
       "      <td>Térmica</td>\n",
       "      <td>Ciclos Combinados</td>\n",
       "      <td>319.30</td>\n",
       "      <td>47:17.9</td>\n",
       "      <td>4</td>\n",
       "      <td>10</td>\n",
       "      <td>2015-10</td>\n",
       "    </tr>\n",
       "    <tr>\n",
       "      <th>...</th>\n",
       "      <td>...</td>\n",
       "      <td>...</td>\n",
       "      <td>...</td>\n",
       "      <td>...</td>\n",
       "      <td>...</td>\n",
       "      <td>...</td>\n",
       "      <td>...</td>\n",
       "      <td>...</td>\n",
       "      <td>...</td>\n",
       "      <td>...</td>\n",
       "      <td>...</td>\n",
       "      <td>...</td>\n",
       "      <td>...</td>\n",
       "      <td>...</td>\n",
       "      <td>...</td>\n",
       "    </tr>\n",
       "    <tr>\n",
       "      <th>15788</th>\n",
       "      <td>16810</td>\n",
       "      <td>01/02/2020 0:00</td>\n",
       "      <td>LOM2EO</td>\n",
       "      <td>PELOMA2G</td>\n",
       "      <td>P.EOLICO LOMA BLANCA 2</td>\n",
       "      <td>PATAGONICA</td>\n",
       "      <td>Patagonia</td>\n",
       "      <td>EO</td>\n",
       "      <td>Renovable</td>\n",
       "      <td>Eólica</td>\n",
       "      <td>51.20</td>\n",
       "      <td>06:12.2</td>\n",
       "      <td>67</td>\n",
       "      <td>2</td>\n",
       "      <td>2020-02</td>\n",
       "    </tr>\n",
       "    <tr>\n",
       "      <th>15789</th>\n",
       "      <td>16811</td>\n",
       "      <td>01/02/2020 0:00</td>\n",
       "      <td>ENE1EO</td>\n",
       "      <td>PEENER2G</td>\n",
       "      <td>P.EOLICO LA ENERGETICA Renov2</td>\n",
       "      <td>BUENOS AIRES</td>\n",
       "      <td>Gba - Litoral - Buenos Aires</td>\n",
       "      <td>EO</td>\n",
       "      <td>Renovable</td>\n",
       "      <td>Eólica</td>\n",
       "      <td>79.80</td>\n",
       "      <td>06:12.2</td>\n",
       "      <td>67</td>\n",
       "      <td>2</td>\n",
       "      <td>2020-02</td>\n",
       "    </tr>\n",
       "    <tr>\n",
       "      <th>15790</th>\n",
       "      <td>16812</td>\n",
       "      <td>01/02/2020 0:00</td>\n",
       "      <td>SANDFV</td>\n",
       "      <td>PFSOLAAG</td>\n",
       "      <td>PQUE FOTOV.SOLAR DE LOS ANDES</td>\n",
       "      <td>CUYO</td>\n",
       "      <td>Cuyo</td>\n",
       "      <td>FV</td>\n",
       "      <td>Renovable</td>\n",
       "      <td>Solar</td>\n",
       "      <td>5.00</td>\n",
       "      <td>06:12.2</td>\n",
       "      <td>67</td>\n",
       "      <td>2</td>\n",
       "      <td>2020-02</td>\n",
       "    </tr>\n",
       "    <tr>\n",
       "      <th>15791</th>\n",
       "      <td>16813</td>\n",
       "      <td>01/02/2020 0:00</td>\n",
       "      <td>OLIVEO</td>\n",
       "      <td>PEOLIVOG</td>\n",
       "      <td>P.EOLICO LOS OLIVOS MATER</td>\n",
       "      <td>CENTRO</td>\n",
       "      <td>Centro</td>\n",
       "      <td>EO</td>\n",
       "      <td>Renovable</td>\n",
       "      <td>Eólica</td>\n",
       "      <td>22.80</td>\n",
       "      <td>06:12.2</td>\n",
       "      <td>67</td>\n",
       "      <td>2</td>\n",
       "      <td>2020-02</td>\n",
       "    </tr>\n",
       "    <tr>\n",
       "      <th>15792</th>\n",
       "      <td>16814</td>\n",
       "      <td>01/02/2020 0:00</td>\n",
       "      <td>NEC1EO</td>\n",
       "      <td>PEVINECG</td>\n",
       "      <td>P.EOLICO VIENTOS DE NECOCHEA</td>\n",
       "      <td>BUENOS AIRES</td>\n",
       "      <td>Gba - Litoral - Buenos Aires</td>\n",
       "      <td>EO</td>\n",
       "      <td>Renovable</td>\n",
       "      <td>Eólica</td>\n",
       "      <td>37.95</td>\n",
       "      <td>06:12.2</td>\n",
       "      <td>67</td>\n",
       "      <td>2</td>\n",
       "      <td>2020-02</td>\n",
       "    </tr>\n",
       "  </tbody>\n",
       "</table>\n",
       "<p>15793 rows × 15 columns</p>\n",
       "</div>"
      ],
      "text/plain": [
       "          id          periodo central    agente  \\\n",
       "0          2  01/10/2015 0:00    ABRO  CTBROWNG   \n",
       "1          3  01/10/2015 0:00    ACAJ  CAPEXSAG   \n",
       "2          4  01/10/2015 0:00  ADTOHI  HIDIAMAG   \n",
       "3          5  01/10/2015 0:00    AESP  CTAESPAG   \n",
       "4          6  01/10/2015 0:00    AESP  CTAESPAG   \n",
       "...      ...              ...     ...       ...   \n",
       "15788  16810  01/02/2020 0:00  LOM2EO  PELOMA2G   \n",
       "15789  16811  01/02/2020 0:00  ENE1EO  PEENER2G   \n",
       "15790  16812  01/02/2020 0:00  SANDFV  PFSOLAAG   \n",
       "15791  16813  01/02/2020 0:00  OLIVEO  PEOLIVOG   \n",
       "15792  16814  01/02/2020 0:00  NEC1EO  PEVINECG   \n",
       "\n",
       "                  agente_descripcion        region  \\\n",
       "0               C.T. ALMIRANTE BROWN   GRAN BS.AS.   \n",
       "1                C.T. AGUA DEL CAJON       COMAHUE   \n",
       "2                     H. DIAMANTE SA          CUYO   \n",
       "3                    C.T. AES PARANA  BUENOS AIRES   \n",
       "4                    C.T. AES PARANA  BUENOS AIRES   \n",
       "...                              ...           ...   \n",
       "15788         P.EOLICO LOMA BLANCA 2    PATAGONICA   \n",
       "15789  P.EOLICO LA ENERGETICA Renov2  BUENOS AIRES   \n",
       "15790  PQUE FOTOV.SOLAR DE LOS ANDES          CUYO   \n",
       "15791      P.EOLICO LOS OLIVOS MATER        CENTRO   \n",
       "15792   P.EOLICO VIENTOS DE NECOCHEA  BUENOS AIRES   \n",
       "\n",
       "                   categoria_region tipo_maquina fuente_generacion  \\\n",
       "0      Gba - Litoral - Buenos Aires           DI           Térmica   \n",
       "1                           Comahue           TG           Térmica   \n",
       "2                              Cuyo           HI        Hidráulica   \n",
       "3      Gba - Litoral - Buenos Aires           TG           Térmica   \n",
       "4      Gba - Litoral - Buenos Aires           TV           Térmica   \n",
       "...                             ...          ...               ...   \n",
       "15788                     Patagonia           EO         Renovable   \n",
       "15789  Gba - Litoral - Buenos Aires           EO         Renovable   \n",
       "15790                          Cuyo           FV         Renovable   \n",
       "15791                        Centro           EO         Renovable   \n",
       "15792  Gba - Litoral - Buenos Aires           EO         Renovable   \n",
       "\n",
       "              tecnologia  potencia_instalada_mw fecha_proceso  lote_id_log  \\\n",
       "0           Motor Diesel                  25.00       47:17.9            4   \n",
       "1      Ciclos Combinados                 184.40       47:17.9            4   \n",
       "2             Hidráulica                 150.00       47:17.9            4   \n",
       "3      Ciclos Combinados                 525.96       47:17.9            4   \n",
       "4      Ciclos Combinados                 319.30       47:17.9            4   \n",
       "...                  ...                    ...           ...          ...   \n",
       "15788             Eólica                  51.20       06:12.2           67   \n",
       "15789             Eólica                  79.80       06:12.2           67   \n",
       "15790              Solar                   5.00       06:12.2           67   \n",
       "15791             Eólica                  22.80       06:12.2           67   \n",
       "15792             Eólica                  37.95       06:12.2           67   \n",
       "\n",
       "       mes indice_tiempo  \n",
       "0       10       2015-10  \n",
       "1       10       2015-10  \n",
       "2       10       2015-10  \n",
       "3       10       2015-10  \n",
       "4       10       2015-10  \n",
       "...    ...           ...  \n",
       "15788    2       2020-02  \n",
       "15789    2       2020-02  \n",
       "15790    2       2020-02  \n",
       "15791    2       2020-02  \n",
       "15792    2       2020-02  \n",
       "\n",
       "[15793 rows x 15 columns]"
      ]
     },
     "execution_count": 23,
     "metadata": {},
     "output_type": "execute_result"
    }
   ],
   "source": [
    "potencia_df.drop(\"Unnamed: 0\", axis=1)"
   ]
  },
  {
   "cell_type": "code",
   "execution_count": 24,
   "metadata": {
    "collapsed": true,
    "jupyter": {
     "outputs_hidden": true
    },
    "tags": []
   },
   "outputs": [],
   "source": [
    "potencia_df = potencia_df.drop(\"Unnamed: 0\", axis=1)"
   ]
  },
  {
   "cell_type": "code",
   "execution_count": 25,
   "metadata": {},
   "outputs": [
    {
     "data": {
      "text/html": [
       "<div>\n",
       "<style scoped>\n",
       "    .dataframe tbody tr th:only-of-type {\n",
       "        vertical-align: middle;\n",
       "    }\n",
       "\n",
       "    .dataframe tbody tr th {\n",
       "        vertical-align: top;\n",
       "    }\n",
       "\n",
       "    .dataframe thead th {\n",
       "        text-align: right;\n",
       "    }\n",
       "</style>\n",
       "<table border=\"1\" class=\"dataframe\">\n",
       "  <thead>\n",
       "    <tr style=\"text-align: right;\">\n",
       "      <th></th>\n",
       "      <th>id</th>\n",
       "      <th>periodo</th>\n",
       "      <th>central</th>\n",
       "      <th>agente</th>\n",
       "      <th>agente_descripcion</th>\n",
       "      <th>region</th>\n",
       "      <th>categoria_region</th>\n",
       "      <th>tipo_maquina</th>\n",
       "      <th>fuente_generacion</th>\n",
       "      <th>tecnologia</th>\n",
       "      <th>potencia_instalada_mw</th>\n",
       "      <th>fecha_proceso</th>\n",
       "      <th>lote_id_log</th>\n",
       "      <th>mes</th>\n",
       "      <th>indice_tiempo</th>\n",
       "    </tr>\n",
       "  </thead>\n",
       "  <tbody>\n",
       "    <tr>\n",
       "      <th>0</th>\n",
       "      <td>2</td>\n",
       "      <td>01/10/2015 0:00</td>\n",
       "      <td>ABRO</td>\n",
       "      <td>CTBROWNG</td>\n",
       "      <td>C.T. ALMIRANTE BROWN</td>\n",
       "      <td>GRAN BS.AS.</td>\n",
       "      <td>Gba - Litoral - Buenos Aires</td>\n",
       "      <td>DI</td>\n",
       "      <td>Térmica</td>\n",
       "      <td>Motor Diesel</td>\n",
       "      <td>25.00</td>\n",
       "      <td>47:17.9</td>\n",
       "      <td>4</td>\n",
       "      <td>10</td>\n",
       "      <td>2015-10</td>\n",
       "    </tr>\n",
       "    <tr>\n",
       "      <th>1</th>\n",
       "      <td>3</td>\n",
       "      <td>01/10/2015 0:00</td>\n",
       "      <td>ACAJ</td>\n",
       "      <td>CAPEXSAG</td>\n",
       "      <td>C.T. AGUA DEL CAJON</td>\n",
       "      <td>COMAHUE</td>\n",
       "      <td>Comahue</td>\n",
       "      <td>TG</td>\n",
       "      <td>Térmica</td>\n",
       "      <td>Ciclos Combinados</td>\n",
       "      <td>184.40</td>\n",
       "      <td>47:17.9</td>\n",
       "      <td>4</td>\n",
       "      <td>10</td>\n",
       "      <td>2015-10</td>\n",
       "    </tr>\n",
       "    <tr>\n",
       "      <th>2</th>\n",
       "      <td>4</td>\n",
       "      <td>01/10/2015 0:00</td>\n",
       "      <td>ADTOHI</td>\n",
       "      <td>HIDIAMAG</td>\n",
       "      <td>H. DIAMANTE SA</td>\n",
       "      <td>CUYO</td>\n",
       "      <td>Cuyo</td>\n",
       "      <td>HI</td>\n",
       "      <td>Hidráulica</td>\n",
       "      <td>Hidráulica</td>\n",
       "      <td>150.00</td>\n",
       "      <td>47:17.9</td>\n",
       "      <td>4</td>\n",
       "      <td>10</td>\n",
       "      <td>2015-10</td>\n",
       "    </tr>\n",
       "    <tr>\n",
       "      <th>3</th>\n",
       "      <td>5</td>\n",
       "      <td>01/10/2015 0:00</td>\n",
       "      <td>AESP</td>\n",
       "      <td>CTAESPAG</td>\n",
       "      <td>C.T. AES PARANA</td>\n",
       "      <td>BUENOS AIRES</td>\n",
       "      <td>Gba - Litoral - Buenos Aires</td>\n",
       "      <td>TG</td>\n",
       "      <td>Térmica</td>\n",
       "      <td>Ciclos Combinados</td>\n",
       "      <td>525.96</td>\n",
       "      <td>47:17.9</td>\n",
       "      <td>4</td>\n",
       "      <td>10</td>\n",
       "      <td>2015-10</td>\n",
       "    </tr>\n",
       "    <tr>\n",
       "      <th>4</th>\n",
       "      <td>6</td>\n",
       "      <td>01/10/2015 0:00</td>\n",
       "      <td>AESP</td>\n",
       "      <td>CTAESPAG</td>\n",
       "      <td>C.T. AES PARANA</td>\n",
       "      <td>BUENOS AIRES</td>\n",
       "      <td>Gba - Litoral - Buenos Aires</td>\n",
       "      <td>TV</td>\n",
       "      <td>Térmica</td>\n",
       "      <td>Ciclos Combinados</td>\n",
       "      <td>319.30</td>\n",
       "      <td>47:17.9</td>\n",
       "      <td>4</td>\n",
       "      <td>10</td>\n",
       "      <td>2015-10</td>\n",
       "    </tr>\n",
       "    <tr>\n",
       "      <th>...</th>\n",
       "      <td>...</td>\n",
       "      <td>...</td>\n",
       "      <td>...</td>\n",
       "      <td>...</td>\n",
       "      <td>...</td>\n",
       "      <td>...</td>\n",
       "      <td>...</td>\n",
       "      <td>...</td>\n",
       "      <td>...</td>\n",
       "      <td>...</td>\n",
       "      <td>...</td>\n",
       "      <td>...</td>\n",
       "      <td>...</td>\n",
       "      <td>...</td>\n",
       "      <td>...</td>\n",
       "    </tr>\n",
       "    <tr>\n",
       "      <th>15788</th>\n",
       "      <td>16810</td>\n",
       "      <td>01/02/2020 0:00</td>\n",
       "      <td>LOM2EO</td>\n",
       "      <td>PELOMA2G</td>\n",
       "      <td>P.EOLICO LOMA BLANCA 2</td>\n",
       "      <td>PATAGONICA</td>\n",
       "      <td>Patagonia</td>\n",
       "      <td>EO</td>\n",
       "      <td>Renovable</td>\n",
       "      <td>Eólica</td>\n",
       "      <td>51.20</td>\n",
       "      <td>06:12.2</td>\n",
       "      <td>67</td>\n",
       "      <td>2</td>\n",
       "      <td>2020-02</td>\n",
       "    </tr>\n",
       "    <tr>\n",
       "      <th>15789</th>\n",
       "      <td>16811</td>\n",
       "      <td>01/02/2020 0:00</td>\n",
       "      <td>ENE1EO</td>\n",
       "      <td>PEENER2G</td>\n",
       "      <td>P.EOLICO LA ENERGETICA Renov2</td>\n",
       "      <td>BUENOS AIRES</td>\n",
       "      <td>Gba - Litoral - Buenos Aires</td>\n",
       "      <td>EO</td>\n",
       "      <td>Renovable</td>\n",
       "      <td>Eólica</td>\n",
       "      <td>79.80</td>\n",
       "      <td>06:12.2</td>\n",
       "      <td>67</td>\n",
       "      <td>2</td>\n",
       "      <td>2020-02</td>\n",
       "    </tr>\n",
       "    <tr>\n",
       "      <th>15790</th>\n",
       "      <td>16812</td>\n",
       "      <td>01/02/2020 0:00</td>\n",
       "      <td>SANDFV</td>\n",
       "      <td>PFSOLAAG</td>\n",
       "      <td>PQUE FOTOV.SOLAR DE LOS ANDES</td>\n",
       "      <td>CUYO</td>\n",
       "      <td>Cuyo</td>\n",
       "      <td>FV</td>\n",
       "      <td>Renovable</td>\n",
       "      <td>Solar</td>\n",
       "      <td>5.00</td>\n",
       "      <td>06:12.2</td>\n",
       "      <td>67</td>\n",
       "      <td>2</td>\n",
       "      <td>2020-02</td>\n",
       "    </tr>\n",
       "    <tr>\n",
       "      <th>15791</th>\n",
       "      <td>16813</td>\n",
       "      <td>01/02/2020 0:00</td>\n",
       "      <td>OLIVEO</td>\n",
       "      <td>PEOLIVOG</td>\n",
       "      <td>P.EOLICO LOS OLIVOS MATER</td>\n",
       "      <td>CENTRO</td>\n",
       "      <td>Centro</td>\n",
       "      <td>EO</td>\n",
       "      <td>Renovable</td>\n",
       "      <td>Eólica</td>\n",
       "      <td>22.80</td>\n",
       "      <td>06:12.2</td>\n",
       "      <td>67</td>\n",
       "      <td>2</td>\n",
       "      <td>2020-02</td>\n",
       "    </tr>\n",
       "    <tr>\n",
       "      <th>15792</th>\n",
       "      <td>16814</td>\n",
       "      <td>01/02/2020 0:00</td>\n",
       "      <td>NEC1EO</td>\n",
       "      <td>PEVINECG</td>\n",
       "      <td>P.EOLICO VIENTOS DE NECOCHEA</td>\n",
       "      <td>BUENOS AIRES</td>\n",
       "      <td>Gba - Litoral - Buenos Aires</td>\n",
       "      <td>EO</td>\n",
       "      <td>Renovable</td>\n",
       "      <td>Eólica</td>\n",
       "      <td>37.95</td>\n",
       "      <td>06:12.2</td>\n",
       "      <td>67</td>\n",
       "      <td>2</td>\n",
       "      <td>2020-02</td>\n",
       "    </tr>\n",
       "  </tbody>\n",
       "</table>\n",
       "<p>15793 rows × 15 columns</p>\n",
       "</div>"
      ],
      "text/plain": [
       "          id          periodo central    agente  \\\n",
       "0          2  01/10/2015 0:00    ABRO  CTBROWNG   \n",
       "1          3  01/10/2015 0:00    ACAJ  CAPEXSAG   \n",
       "2          4  01/10/2015 0:00  ADTOHI  HIDIAMAG   \n",
       "3          5  01/10/2015 0:00    AESP  CTAESPAG   \n",
       "4          6  01/10/2015 0:00    AESP  CTAESPAG   \n",
       "...      ...              ...     ...       ...   \n",
       "15788  16810  01/02/2020 0:00  LOM2EO  PELOMA2G   \n",
       "15789  16811  01/02/2020 0:00  ENE1EO  PEENER2G   \n",
       "15790  16812  01/02/2020 0:00  SANDFV  PFSOLAAG   \n",
       "15791  16813  01/02/2020 0:00  OLIVEO  PEOLIVOG   \n",
       "15792  16814  01/02/2020 0:00  NEC1EO  PEVINECG   \n",
       "\n",
       "                  agente_descripcion        region  \\\n",
       "0               C.T. ALMIRANTE BROWN   GRAN BS.AS.   \n",
       "1                C.T. AGUA DEL CAJON       COMAHUE   \n",
       "2                     H. DIAMANTE SA          CUYO   \n",
       "3                    C.T. AES PARANA  BUENOS AIRES   \n",
       "4                    C.T. AES PARANA  BUENOS AIRES   \n",
       "...                              ...           ...   \n",
       "15788         P.EOLICO LOMA BLANCA 2    PATAGONICA   \n",
       "15789  P.EOLICO LA ENERGETICA Renov2  BUENOS AIRES   \n",
       "15790  PQUE FOTOV.SOLAR DE LOS ANDES          CUYO   \n",
       "15791      P.EOLICO LOS OLIVOS MATER        CENTRO   \n",
       "15792   P.EOLICO VIENTOS DE NECOCHEA  BUENOS AIRES   \n",
       "\n",
       "                   categoria_region tipo_maquina fuente_generacion  \\\n",
       "0      Gba - Litoral - Buenos Aires           DI           Térmica   \n",
       "1                           Comahue           TG           Térmica   \n",
       "2                              Cuyo           HI        Hidráulica   \n",
       "3      Gba - Litoral - Buenos Aires           TG           Térmica   \n",
       "4      Gba - Litoral - Buenos Aires           TV           Térmica   \n",
       "...                             ...          ...               ...   \n",
       "15788                     Patagonia           EO         Renovable   \n",
       "15789  Gba - Litoral - Buenos Aires           EO         Renovable   \n",
       "15790                          Cuyo           FV         Renovable   \n",
       "15791                        Centro           EO         Renovable   \n",
       "15792  Gba - Litoral - Buenos Aires           EO         Renovable   \n",
       "\n",
       "              tecnologia  potencia_instalada_mw fecha_proceso  lote_id_log  \\\n",
       "0           Motor Diesel                  25.00       47:17.9            4   \n",
       "1      Ciclos Combinados                 184.40       47:17.9            4   \n",
       "2             Hidráulica                 150.00       47:17.9            4   \n",
       "3      Ciclos Combinados                 525.96       47:17.9            4   \n",
       "4      Ciclos Combinados                 319.30       47:17.9            4   \n",
       "...                  ...                    ...           ...          ...   \n",
       "15788             Eólica                  51.20       06:12.2           67   \n",
       "15789             Eólica                  79.80       06:12.2           67   \n",
       "15790              Solar                   5.00       06:12.2           67   \n",
       "15791             Eólica                  22.80       06:12.2           67   \n",
       "15792             Eólica                  37.95       06:12.2           67   \n",
       "\n",
       "       mes indice_tiempo  \n",
       "0       10       2015-10  \n",
       "1       10       2015-10  \n",
       "2       10       2015-10  \n",
       "3       10       2015-10  \n",
       "4       10       2015-10  \n",
       "...    ...           ...  \n",
       "15788    2       2020-02  \n",
       "15789    2       2020-02  \n",
       "15790    2       2020-02  \n",
       "15791    2       2020-02  \n",
       "15792    2       2020-02  \n",
       "\n",
       "[15793 rows x 15 columns]"
      ]
     },
     "execution_count": 25,
     "metadata": {},
     "output_type": "execute_result"
    }
   ],
   "source": [
    "potencia_df"
   ]
  },
  {
   "cell_type": "markdown",
   "metadata": {},
   "source": [
    "**(d)** armar un dataframe llamado `df` que tenga las siguientes columnas: periodo, el agente, la descripcion del agente, la fuente de generación y la potencia instalada.  "
   ]
  },
  {
   "cell_type": "markdown",
   "metadata": {},
   "source": [
    "Creamos una lista con las columnas a conservar:"
   ]
  },
  {
   "cell_type": "code",
   "execution_count": 26,
   "metadata": {},
   "outputs": [],
   "source": [
    "columnas_deseadas = [\"periodo\", \"agente\", \"agente_descripcion\", \"fuente_generacion\", \"potencia_instalada_mw\"]"
   ]
  },
  {
   "cell_type": "code",
   "execution_count": 27,
   "metadata": {},
   "outputs": [],
   "source": [
    "df = potencia_df[columnas_deseadas]"
   ]
  },
  {
   "cell_type": "markdown",
   "metadata": {},
   "source": [
    "**(e)** redondear la columna de potencia instalada al _entero más cercano_.  \n",
    "**(f)** cambiar el formato de la columna de potencia instalada a `int`."
   ]
  },
  {
   "cell_type": "markdown",
   "metadata": {},
   "source": [
    "Redondeamos con `.round`:"
   ]
  },
  {
   "cell_type": "code",
   "execution_count": 28,
   "metadata": {},
   "outputs": [
    {
     "name": "stderr",
     "output_type": "stream",
     "text": [
      "/tmp/ipykernel_474549/2022278539.py:1: SettingWithCopyWarning: \n",
      "A value is trying to be set on a copy of a slice from a DataFrame.\n",
      "Try using .loc[row_indexer,col_indexer] = value instead\n",
      "\n",
      "See the caveats in the documentation: https://pandas.pydata.org/pandas-docs/stable/user_guide/indexing.html#returning-a-view-versus-a-copy\n",
      "  df.potencia_instalada_mw = df.potencia_instalada_mw.round()\n"
     ]
    }
   ],
   "source": [
    "df.potencia_instalada_mw = df.potencia_instalada_mw.round()\n",
    "# df.potencia_instalada_mw = round(df.potencia_instalada_mw) # también funciona\n",
    "# df.potencia_instalada_mw = df.potencia_instalada_mw.apply(int) # esta solución trunca, no redondea!"
   ]
  },
  {
   "cell_type": "markdown",
   "metadata": {},
   "source": [
    "Casteamos con `astype`:"
   ]
  },
  {
   "cell_type": "code",
   "execution_count": 29,
   "metadata": {},
   "outputs": [
    {
     "name": "stderr",
     "output_type": "stream",
     "text": [
      "/tmp/ipykernel_474549/3647397309.py:1: SettingWithCopyWarning: \n",
      "A value is trying to be set on a copy of a slice from a DataFrame.\n",
      "Try using .loc[row_indexer,col_indexer] = value instead\n",
      "\n",
      "See the caveats in the documentation: https://pandas.pydata.org/pandas-docs/stable/user_guide/indexing.html#returning-a-view-versus-a-copy\n",
      "  df.potencia_instalada_mw = df.potencia_instalada_mw.astype(int)\n"
     ]
    }
   ],
   "source": [
    "df.potencia_instalada_mw = df.potencia_instalada_mw.astype(int)"
   ]
  },
  {
   "cell_type": "markdown",
   "metadata": {},
   "source": [
    "Confirmemos que el tipo de dato es correcto:"
   ]
  },
  {
   "cell_type": "code",
   "execution_count": 30,
   "metadata": {},
   "outputs": [
    {
     "data": {
      "text/plain": [
       "dtype('int64')"
      ]
     },
     "execution_count": 30,
     "metadata": {},
     "output_type": "execute_result"
    }
   ],
   "source": [
    "df.potencia_instalada_mw.dtype"
   ]
  },
  {
   "cell_type": "markdown",
   "metadata": {},
   "source": [
    "**(g)** cortar la base para quedarnos únicamente con las primeras 11497 filas"
   ]
  },
  {
   "cell_type": "code",
   "execution_count": 31,
   "metadata": {},
   "outputs": [],
   "source": [
    "N = 11497\n",
    "# para esta solución usamos el hecho de que los indices son los enteros de 0 a N-1 (no siempre va a ser el caso)\n",
    "df.loc[:N-1]\n",
    "# lo mismo para la siguiente solución, que utiliza indexado con booleanos\n",
    "df[df.index < N]\n",
    "\n",
    "\n",
    "# por otra parte, estas soluciones son siempre válidas\n",
    "df.iloc[:N]\n",
    "df = df.head(N)"
   ]
  },
  {
   "cell_type": "code",
   "execution_count": 32,
   "metadata": {},
   "outputs": [
    {
     "data": {
      "text/html": [
       "<div>\n",
       "<style scoped>\n",
       "    .dataframe tbody tr th:only-of-type {\n",
       "        vertical-align: middle;\n",
       "    }\n",
       "\n",
       "    .dataframe tbody tr th {\n",
       "        vertical-align: top;\n",
       "    }\n",
       "\n",
       "    .dataframe thead th {\n",
       "        text-align: right;\n",
       "    }\n",
       "</style>\n",
       "<table border=\"1\" class=\"dataframe\">\n",
       "  <thead>\n",
       "    <tr style=\"text-align: right;\">\n",
       "      <th></th>\n",
       "      <th>periodo</th>\n",
       "      <th>agente</th>\n",
       "      <th>agente_descripcion</th>\n",
       "      <th>fuente_generacion</th>\n",
       "      <th>potencia_instalada_mw</th>\n",
       "    </tr>\n",
       "  </thead>\n",
       "  <tbody>\n",
       "    <tr>\n",
       "      <th>11492</th>\n",
       "      <td>01/04/2019 0:00</td>\n",
       "      <td>CTENSENG</td>\n",
       "      <td>BIOGAS RS CT ENSENADA SECCO</td>\n",
       "      <td>Renovable</td>\n",
       "      <td>5</td>\n",
       "    </tr>\n",
       "    <tr>\n",
       "      <th>11493</th>\n",
       "      <td>01/04/2019 0:00</td>\n",
       "      <td>CTAVELLG</td>\n",
       "      <td>BIOGAS CT AVELLANEDA SECCO</td>\n",
       "      <td>Renovable</td>\n",
       "      <td>6</td>\n",
       "    </tr>\n",
       "    <tr>\n",
       "      <th>11494</th>\n",
       "      <td>01/04/2019 0:00</td>\n",
       "      <td>PSTINO2G</td>\n",
       "      <td>PQUE SOLAR TINOGASTA II</td>\n",
       "      <td>Renovable</td>\n",
       "      <td>7</td>\n",
       "    </tr>\n",
       "    <tr>\n",
       "      <th>11495</th>\n",
       "      <td>01/04/2019 0:00</td>\n",
       "      <td>PEBICE2G</td>\n",
       "      <td>P.EOLICO BICENTENARIO 2</td>\n",
       "      <td>Renovable</td>\n",
       "      <td>25</td>\n",
       "    </tr>\n",
       "    <tr>\n",
       "      <th>11496</th>\n",
       "      <td>01/04/2019 0:00</td>\n",
       "      <td>PEBANDEG</td>\n",
       "      <td>P.EOLICO LA BANDERITA</td>\n",
       "      <td>Renovable</td>\n",
       "      <td>40</td>\n",
       "    </tr>\n",
       "  </tbody>\n",
       "</table>\n",
       "</div>"
      ],
      "text/plain": [
       "               periodo    agente           agente_descripcion  \\\n",
       "11492  01/04/2019 0:00  CTENSENG  BIOGAS RS CT ENSENADA SECCO   \n",
       "11493  01/04/2019 0:00  CTAVELLG   BIOGAS CT AVELLANEDA SECCO   \n",
       "11494  01/04/2019 0:00  PSTINO2G      PQUE SOLAR TINOGASTA II   \n",
       "11495  01/04/2019 0:00  PEBICE2G      P.EOLICO BICENTENARIO 2   \n",
       "11496  01/04/2019 0:00  PEBANDEG        P.EOLICO LA BANDERITA   \n",
       "\n",
       "      fuente_generacion  potencia_instalada_mw  \n",
       "11492         Renovable                      5  \n",
       "11493         Renovable                      6  \n",
       "11494         Renovable                      7  \n",
       "11495         Renovable                     25  \n",
       "11496         Renovable                     40  "
      ]
     },
     "execution_count": 32,
     "metadata": {},
     "output_type": "execute_result"
    }
   ],
   "source": [
    "df.tail()"
   ]
  },
  {
   "cell_type": "markdown",
   "metadata": {},
   "source": [
    "___"
   ]
  },
  {
   "cell_type": "markdown",
   "metadata": {},
   "source": [
    "_Recreo_"
   ]
  },
  {
   "cell_type": "markdown",
   "metadata": {},
   "source": [
    "___\n",
    "## (3) Pandas: temas nuevos"
   ]
  },
  {
   "cell_type": "markdown",
   "metadata": {},
   "source": [
    "### Operaciones a nivel de grupos"
   ]
  },
  {
   "cell_type": "markdown",
   "metadata": {},
   "source": [
    "Si queremos agrupar nuestras filas de acuerdo al valor de alguna columna, debemos usar el método `.groupby()`. \n",
    "Usemos esto para calcular:\n",
    "1) la potencia total instalada en el primer período, para cada tipo de fuente de energía.\n",
    "2) la potencia total instalada para cada período, para cada tipo de energía."
   ]
  },
  {
   "cell_type": "markdown",
   "metadata": {},
   "source": [
    "1. **Resolución** (uso el metodo `.query`):"
   ]
  },
  {
   "cell_type": "code",
   "execution_count": 33,
   "metadata": {},
   "outputs": [],
   "source": [
    "# primer_periodo_df = df2[df2.periodo == df2.periodo[0]] # forma equivalente sin query\n",
    "\n",
    "primer_periodo = df2.periodo[0] \n",
    "primer_periodo_df = df2.query(\"periodo == @primer_periodo\") # para variables hay que anteponer @, para columnas del dataframe no"
   ]
  },
  {
   "cell_type": "markdown",
   "metadata": {},
   "source": [
    "Dado que la columna periodo tiene siempre el mismo valor, la podemos quitar del Dataframe"
   ]
  },
  {
   "cell_type": "markdown",
   "metadata": {},
   "source": [
    "Examinemos cuáles son los valores posible de la columna `fuente_generacion`. Casteando la columna a `set`, nos devuelve un set donde cada elemento aparece una vez:"
   ]
  },
  {
   "cell_type": "code",
   "execution_count": 71,
   "metadata": {},
   "outputs": [
    {
     "data": {
      "text/plain": [
       "{'Hidráulica', 'Nuclear', 'Renovable', 'Térmica'}"
      ]
     },
     "execution_count": 71,
     "metadata": {},
     "output_type": "execute_result"
    }
   ],
   "source": [
    "set(primer_periodo_df.fuente_generacion)"
   ]
  },
  {
   "cell_type": "markdown",
   "metadata": {},
   "source": [
    "También podemos hacer algo similar con `.unique`:"
   ]
  },
  {
   "cell_type": "code",
   "execution_count": 50,
   "metadata": {},
   "outputs": [
    {
     "data": {
      "text/plain": [
       "array(['Térmica', 'Hidráulica', 'Renovable', 'Nuclear'], dtype=object)"
      ]
     },
     "execution_count": 50,
     "metadata": {},
     "output_type": "execute_result"
    }
   ],
   "source": [
    "primer_periodo_df.fuente_generacion.unique()"
   ]
  },
  {
   "cell_type": "code",
   "execution_count": 73,
   "metadata": {},
   "outputs": [
    {
     "data": {
      "text/html": [
       "<div>\n",
       "<style scoped>\n",
       "    .dataframe tbody tr th:only-of-type {\n",
       "        vertical-align: middle;\n",
       "    }\n",
       "\n",
       "    .dataframe tbody tr th {\n",
       "        vertical-align: top;\n",
       "    }\n",
       "\n",
       "    .dataframe thead th {\n",
       "        text-align: right;\n",
       "    }\n",
       "</style>\n",
       "<table border=\"1\" class=\"dataframe\">\n",
       "  <thead>\n",
       "    <tr style=\"text-align: right;\">\n",
       "      <th></th>\n",
       "      <th>agente</th>\n",
       "      <th>agente_descripcion</th>\n",
       "      <th>fuente_generacion</th>\n",
       "      <th>potencia_instalada_mw</th>\n",
       "    </tr>\n",
       "    <tr>\n",
       "      <th>indice</th>\n",
       "      <th></th>\n",
       "      <th></th>\n",
       "      <th></th>\n",
       "      <th></th>\n",
       "    </tr>\n",
       "  </thead>\n",
       "  <tbody>\n",
       "    <tr>\n",
       "      <th>0</th>\n",
       "      <td>CTBROWNG</td>\n",
       "      <td>C.T. ALMIRANTE BROWN</td>\n",
       "      <td>Térmica</td>\n",
       "      <td>25</td>\n",
       "    </tr>\n",
       "    <tr>\n",
       "      <th>1</th>\n",
       "      <td>CAPEXSAG</td>\n",
       "      <td>C.T. AGUA DEL CAJON</td>\n",
       "      <td>Térmica</td>\n",
       "      <td>184</td>\n",
       "    </tr>\n",
       "    <tr>\n",
       "      <th>2</th>\n",
       "      <td>HIDIAMAG</td>\n",
       "      <td>H. DIAMANTE SA</td>\n",
       "      <td>Hidráulica</td>\n",
       "      <td>150</td>\n",
       "    </tr>\n",
       "    <tr>\n",
       "      <th>3</th>\n",
       "      <td>CTAESPAG</td>\n",
       "      <td>C.T. AES PARANA</td>\n",
       "      <td>Térmica</td>\n",
       "      <td>526</td>\n",
       "    </tr>\n",
       "    <tr>\n",
       "      <th>4</th>\n",
       "      <td>CTAESPAG</td>\n",
       "      <td>C.T. AES PARANA</td>\n",
       "      <td>Térmica</td>\n",
       "      <td>319</td>\n",
       "    </tr>\n",
       "  </tbody>\n",
       "</table>\n",
       "</div>"
      ],
      "text/plain": [
       "          agente    agente_descripcion fuente_generacion  \\\n",
       "indice                                                     \n",
       "0       CTBROWNG  C.T. ALMIRANTE BROWN           Térmica   \n",
       "1       CAPEXSAG   C.T. AGUA DEL CAJON           Térmica   \n",
       "2       HIDIAMAG        H. DIAMANTE SA        Hidráulica   \n",
       "3       CTAESPAG       C.T. AES PARANA           Térmica   \n",
       "4       CTAESPAG       C.T. AES PARANA           Térmica   \n",
       "\n",
       "        potencia_instalada_mw  \n",
       "indice                         \n",
       "0                          25  \n",
       "1                         184  \n",
       "2                         150  \n",
       "3                         526  \n",
       "4                         319  "
      ]
     },
     "execution_count": 73,
     "metadata": {},
     "output_type": "execute_result"
    }
   ],
   "source": [
    "primer_periodo_df.head()"
   ]
  },
  {
   "cell_type": "code",
   "execution_count": 41,
   "metadata": {},
   "outputs": [
    {
     "data": {
      "text/html": [
       "<div>\n",
       "<style scoped>\n",
       "    .dataframe tbody tr th:only-of-type {\n",
       "        vertical-align: middle;\n",
       "    }\n",
       "\n",
       "    .dataframe tbody tr th {\n",
       "        vertical-align: top;\n",
       "    }\n",
       "\n",
       "    .dataframe thead th {\n",
       "        text-align: right;\n",
       "    }\n",
       "</style>\n",
       "<table border=\"1\" class=\"dataframe\">\n",
       "  <thead>\n",
       "    <tr style=\"text-align: right;\">\n",
       "      <th></th>\n",
       "      <th>potencia_por_fuente</th>\n",
       "    </tr>\n",
       "    <tr>\n",
       "      <th>fuente_generacion</th>\n",
       "      <th></th>\n",
       "    </tr>\n",
       "  </thead>\n",
       "  <tbody>\n",
       "    <tr>\n",
       "      <th>Hidráulica</th>\n",
       "      <td>11106</td>\n",
       "    </tr>\n",
       "    <tr>\n",
       "      <th>Nuclear</th>\n",
       "      <td>1730</td>\n",
       "    </tr>\n",
       "    <tr>\n",
       "      <th>Renovable</th>\n",
       "      <td>213</td>\n",
       "    </tr>\n",
       "    <tr>\n",
       "      <th>Térmica</th>\n",
       "      <td>20276</td>\n",
       "    </tr>\n",
       "  </tbody>\n",
       "</table>\n",
       "</div>"
      ],
      "text/plain": [
       "                   potencia_por_fuente\n",
       "fuente_generacion                     \n",
       "Hidráulica                       11106\n",
       "Nuclear                           1730\n",
       "Renovable                          213\n",
       "Térmica                          20276"
      ]
     },
     "execution_count": 41,
     "metadata": {},
     "output_type": "execute_result"
    }
   ],
   "source": [
    "primer_periodo_df.groupby(by=\"fuente_generacion\").agg({\"potencia_instalada_mw\": \"sum\"}).rename({\"potencia_instalada_mw\": \"potencia_por_fuente\"}, axis=1)"
   ]
  },
  {
   "cell_type": "markdown",
   "metadata": {},
   "source": [
    "También podemos seleccionar la columna de interés y luego hacer la agregación, en ese caso no necesitamos un diccionario, basta con poner `.sum()` y el resultado es una serie. La podemos convertir a DataFrame con `.to_frame()` si queremos."
   ]
  },
  {
   "cell_type": "code",
   "execution_count": 42,
   "metadata": {},
   "outputs": [
    {
     "data": {
      "text/html": [
       "<div>\n",
       "<style scoped>\n",
       "    .dataframe tbody tr th:only-of-type {\n",
       "        vertical-align: middle;\n",
       "    }\n",
       "\n",
       "    .dataframe tbody tr th {\n",
       "        vertical-align: top;\n",
       "    }\n",
       "\n",
       "    .dataframe thead th {\n",
       "        text-align: right;\n",
       "    }\n",
       "</style>\n",
       "<table border=\"1\" class=\"dataframe\">\n",
       "  <thead>\n",
       "    <tr style=\"text-align: right;\">\n",
       "      <th></th>\n",
       "      <th>potencia_por_fuente</th>\n",
       "    </tr>\n",
       "    <tr>\n",
       "      <th>fuente_generacion</th>\n",
       "      <th></th>\n",
       "    </tr>\n",
       "  </thead>\n",
       "  <tbody>\n",
       "    <tr>\n",
       "      <th>Hidráulica</th>\n",
       "      <td>11106</td>\n",
       "    </tr>\n",
       "    <tr>\n",
       "      <th>Nuclear</th>\n",
       "      <td>1730</td>\n",
       "    </tr>\n",
       "    <tr>\n",
       "      <th>Renovable</th>\n",
       "      <td>213</td>\n",
       "    </tr>\n",
       "    <tr>\n",
       "      <th>Térmica</th>\n",
       "      <td>20276</td>\n",
       "    </tr>\n",
       "  </tbody>\n",
       "</table>\n",
       "</div>"
      ],
      "text/plain": [
       "                   potencia_por_fuente\n",
       "fuente_generacion                     \n",
       "Hidráulica                       11106\n",
       "Nuclear                           1730\n",
       "Renovable                          213\n",
       "Térmica                          20276"
      ]
     },
     "execution_count": 42,
     "metadata": {},
     "output_type": "execute_result"
    }
   ],
   "source": [
    "primer_periodo_df.groupby(by=\"fuente_generacion\")[\"potencia_instalada_mw\"].sum() # como Series\n",
    "primer_periodo_df.groupby(by=\"fuente_generacion\")[\"potencia_instalada_mw\"].sum().to_frame(name=\"potencia_por_fuente\") # como DataFrame"
   ]
  },
  {
   "cell_type": "markdown",
   "metadata": {},
   "source": [
    "Otras operaciones de agregación:"
   ]
  },
  {
   "cell_type": "code",
   "execution_count": 35,
   "metadata": {},
   "outputs": [
    {
     "data": {
      "text/html": [
       "<div>\n",
       "<style scoped>\n",
       "    .dataframe tbody tr th:only-of-type {\n",
       "        vertical-align: middle;\n",
       "    }\n",
       "\n",
       "    .dataframe tbody tr th {\n",
       "        vertical-align: top;\n",
       "    }\n",
       "\n",
       "    .dataframe thead th {\n",
       "        text-align: right;\n",
       "    }\n",
       "</style>\n",
       "<table border=\"1\" class=\"dataframe\">\n",
       "  <thead>\n",
       "    <tr style=\"text-align: right;\">\n",
       "      <th></th>\n",
       "      <th>n_centrales</th>\n",
       "    </tr>\n",
       "    <tr>\n",
       "      <th>fuente_generacion</th>\n",
       "      <th></th>\n",
       "    </tr>\n",
       "  </thead>\n",
       "  <tbody>\n",
       "    <tr>\n",
       "      <th>Hidráulica</th>\n",
       "      <td>56</td>\n",
       "    </tr>\n",
       "    <tr>\n",
       "      <th>Nuclear</th>\n",
       "      <td>3</td>\n",
       "    </tr>\n",
       "    <tr>\n",
       "      <th>Renovable</th>\n",
       "      <td>16</td>\n",
       "    </tr>\n",
       "    <tr>\n",
       "      <th>Térmica</th>\n",
       "      <td>207</td>\n",
       "    </tr>\n",
       "  </tbody>\n",
       "</table>\n",
       "</div>"
      ],
      "text/plain": [
       "                   n_centrales\n",
       "fuente_generacion             \n",
       "Hidráulica                  56\n",
       "Nuclear                      3\n",
       "Renovable                   16\n",
       "Térmica                    207"
      ]
     },
     "execution_count": 35,
     "metadata": {},
     "output_type": "execute_result"
    }
   ],
   "source": [
    "primer_periodo_df.groupby(by=\"fuente_generacion\").agg({\"potencia_instalada_mw\": \"count\"}).rename({\"potencia_instalada_mw\": \"n_centrales\"}, axis=1)"
   ]
  },
  {
   "cell_type": "code",
   "execution_count": 79,
   "metadata": {},
   "outputs": [
    {
     "data": {
      "text/html": [
       "<div>\n",
       "<style scoped>\n",
       "    .dataframe tbody tr th:only-of-type {\n",
       "        vertical-align: middle;\n",
       "    }\n",
       "\n",
       "    .dataframe tbody tr th {\n",
       "        vertical-align: top;\n",
       "    }\n",
       "\n",
       "    .dataframe thead th {\n",
       "        text-align: right;\n",
       "    }\n",
       "</style>\n",
       "<table border=\"1\" class=\"dataframe\">\n",
       "  <thead>\n",
       "    <tr style=\"text-align: right;\">\n",
       "      <th></th>\n",
       "      <th>potencia_media_mw</th>\n",
       "    </tr>\n",
       "    <tr>\n",
       "      <th>fuente_generacion</th>\n",
       "      <th></th>\n",
       "    </tr>\n",
       "  </thead>\n",
       "  <tbody>\n",
       "    <tr>\n",
       "      <th>Hidráulica</th>\n",
       "      <td>198.321429</td>\n",
       "    </tr>\n",
       "    <tr>\n",
       "      <th>Nuclear</th>\n",
       "      <td>576.666667</td>\n",
       "    </tr>\n",
       "    <tr>\n",
       "      <th>Renovable</th>\n",
       "      <td>13.312500</td>\n",
       "    </tr>\n",
       "    <tr>\n",
       "      <th>Térmica</th>\n",
       "      <td>97.951691</td>\n",
       "    </tr>\n",
       "  </tbody>\n",
       "</table>\n",
       "</div>"
      ],
      "text/plain": [
       "                   potencia_media_mw\n",
       "fuente_generacion                   \n",
       "Hidráulica                198.321429\n",
       "Nuclear                   576.666667\n",
       "Renovable                  13.312500\n",
       "Térmica                    97.951691"
      ]
     },
     "execution_count": 79,
     "metadata": {},
     "output_type": "execute_result"
    }
   ],
   "source": [
    "primer_periodo_df.groupby(by=\"fuente_generacion\").agg({\"potencia_instalada_mw\": \"mean\"}).rename({\"potencia_instalada_mw\": \"potencia_media_mw\"}, axis=1)"
   ]
  },
  {
   "cell_type": "code",
   "execution_count": 44,
   "metadata": {},
   "outputs": [
    {
     "data": {
      "text/html": [
       "<div>\n",
       "<style scoped>\n",
       "    .dataframe tbody tr th:only-of-type {\n",
       "        vertical-align: middle;\n",
       "    }\n",
       "\n",
       "    .dataframe tbody tr th {\n",
       "        vertical-align: top;\n",
       "    }\n",
       "\n",
       "    .dataframe thead th {\n",
       "        text-align: right;\n",
       "    }\n",
       "</style>\n",
       "<table border=\"1\" class=\"dataframe\">\n",
       "  <thead>\n",
       "    <tr style=\"text-align: right;\">\n",
       "      <th></th>\n",
       "      <th></th>\n",
       "      <th>potencia_instalada_mw</th>\n",
       "    </tr>\n",
       "    <tr>\n",
       "      <th>periodo</th>\n",
       "      <th>fuente_generacion</th>\n",
       "      <th></th>\n",
       "    </tr>\n",
       "  </thead>\n",
       "  <tbody>\n",
       "    <tr>\n",
       "      <th rowspan=\"4\" valign=\"top\">01/01/2016 0:00</th>\n",
       "      <th>Hidráulica</th>\n",
       "      <td>11106</td>\n",
       "    </tr>\n",
       "    <tr>\n",
       "      <th>Nuclear</th>\n",
       "      <td>1755</td>\n",
       "    </tr>\n",
       "    <tr>\n",
       "      <th>Renovable</th>\n",
       "      <td>213</td>\n",
       "    </tr>\n",
       "    <tr>\n",
       "      <th>Térmica</th>\n",
       "      <td>20554</td>\n",
       "    </tr>\n",
       "    <tr>\n",
       "      <th>01/01/2017 0:00</th>\n",
       "      <th>Hidráulica</th>\n",
       "      <td>10681</td>\n",
       "    </tr>\n",
       "    <tr>\n",
       "      <th>...</th>\n",
       "      <th>...</th>\n",
       "      <td>...</td>\n",
       "    </tr>\n",
       "    <tr>\n",
       "      <th>01/12/2016 0:00</th>\n",
       "      <th>Térmica</th>\n",
       "      <td>20766</td>\n",
       "    </tr>\n",
       "    <tr>\n",
       "      <th rowspan=\"4\" valign=\"top\">01/12/2017 0:00</th>\n",
       "      <th>Hidráulica</th>\n",
       "      <td>10745</td>\n",
       "    </tr>\n",
       "    <tr>\n",
       "      <th>Nuclear</th>\n",
       "      <td>1755</td>\n",
       "    </tr>\n",
       "    <tr>\n",
       "      <th>Renovable</th>\n",
       "      <td>751</td>\n",
       "    </tr>\n",
       "    <tr>\n",
       "      <th>Térmica</th>\n",
       "      <td>22897</td>\n",
       "    </tr>\n",
       "  </tbody>\n",
       "</table>\n",
       "<p>152 rows × 1 columns</p>\n",
       "</div>"
      ],
      "text/plain": [
       "                                   potencia_instalada_mw\n",
       "periodo         fuente_generacion                       \n",
       "01/01/2016 0:00 Hidráulica                         11106\n",
       "                Nuclear                             1755\n",
       "                Renovable                            213\n",
       "                Térmica                            20554\n",
       "01/01/2017 0:00 Hidráulica                         10681\n",
       "...                                                  ...\n",
       "01/12/2016 0:00 Térmica                            20766\n",
       "01/12/2017 0:00 Hidráulica                         10745\n",
       "                Nuclear                             1755\n",
       "                Renovable                            751\n",
       "                Térmica                            22897\n",
       "\n",
       "[152 rows x 1 columns]"
      ]
     },
     "execution_count": 44,
     "metadata": {},
     "output_type": "execute_result"
    }
   ],
   "source": [
    "# 2.\n",
    "df.groupby(by=[\"periodo\", \"fuente_generacion\"])['potencia_instalada_mw'].sum().to_frame()"
   ]
  },
  {
   "cell_type": "markdown",
   "metadata": {},
   "source": [
    "2. **Resolución:** Veamos algunas formas sin `.groupby()` primero. Esto es sólo para repasar cómo lo haríamos con los loops tradicionales, pero pueden saltar a la parte de `.groupby()` directamente, que es la que interesa aquí."
   ]
  },
  {
   "cell_type": "markdown",
   "metadata": {},
   "source": [
    "Podríamos hacerlo iterando fila por fila y agregando los resultados cada vez que cambia el período."
   ]
  },
  {
   "cell_type": "code",
   "execution_count": 61,
   "metadata": {},
   "outputs": [
    {
     "name": "stdout",
     "output_type": "stream",
     "text": [
      "Procesando periodo 01/10/2015 0:00\n",
      "Procesando periodo 01/11/2015 0:00\n",
      "Procesando periodo 01/12/2015 0:00\n",
      "Procesando periodo 01/01/2016 0:00\n",
      "Procesando periodo 01/02/2016 0:00\n",
      "Procesando periodo 01/03/2016 0:00\n",
      "Procesando periodo 01/04/2016 0:00\n",
      "Procesando periodo 01/05/2016 0:00\n",
      "Procesando periodo 01/04/2016 0:00\n",
      "Procesando periodo 01/05/2016 0:00\n",
      "Procesando periodo 01/06/2016 0:00\n",
      "Procesando periodo 01/07/2016 0:00\n",
      "Procesando periodo 01/08/2016 0:00\n",
      "Procesando periodo 01/09/2016 0:00\n",
      "Procesando periodo 01/10/2016 0:00\n",
      "Procesando periodo 01/11/2016 0:00\n",
      "Procesando periodo 01/12/2016 0:00\n",
      "Procesando periodo 01/01/2017 0:00\n",
      "Procesando periodo 01/03/2017 0:00\n",
      "Procesando periodo 01/04/2017 0:00\n",
      "Procesando periodo 01/06/2017 0:00\n",
      "Procesando periodo 01/07/2017 0:00\n",
      "Procesando periodo 01/06/2017 0:00\n",
      "Procesando periodo 01/07/2017 0:00\n",
      "Procesando periodo 01/08/2017 0:00\n",
      "Procesando periodo 01/09/2017 0:00\n",
      "Procesando periodo 01/10/2017 0:00\n",
      "Procesando periodo 01/11/2017 0:00\n",
      "Procesando periodo 01/02/2017 0:00\n",
      "Procesando periodo 01/05/2017 0:00\n",
      "Procesando periodo 01/01/2018 0:00\n",
      "Procesando periodo 01/05/2017 0:00\n",
      "Procesando periodo 01/12/2017 0:00\n",
      "Procesando periodo 01/01/2018 0:00\n",
      "Procesando periodo 01/02/2018 0:00\n",
      "Procesando periodo 01/03/2018 0:00\n",
      "Procesando periodo 01/04/2018 0:00\n",
      "Procesando periodo 01/03/2018 0:00\n",
      "Procesando periodo 01/04/2018 0:00\n",
      "Procesando periodo 01/05/2018 0:00\n",
      "Procesando periodo 01/07/2018 0:00\n",
      "Procesando periodo 01/08/2018 0:00\n",
      "Procesando periodo 01/09/2018 0:00\n",
      "Procesando periodo 01/08/2018 0:00\n",
      "Procesando periodo 01/09/2018 0:00\n",
      "Procesando periodo 01/06/2018 0:00\n",
      "Procesando periodo 01/01/2019 0:00\n"
     ]
    }
   ],
   "source": [
    "lista_filas = []\n",
    "periodo_actual = df.periodo[0]\n",
    "\n",
    "potencia_periodo = {\n",
    "    \"Térmica\": 0,\n",
    "    \"Hidráulica\": 0,\n",
    "    \"Nuclear\": 0,\n",
    "    \"Renovable\": 0,\n",
    "}\n",
    "\n",
    "for i, fila in df.iterrows():    \n",
    "\n",
    "    if fila.periodo != periodo_actual:\n",
    "        print(f\"Procesando periodo {periodo_actual}\")\n",
    "        lista_filas.append([periodo_actual, \"Térmica\", potencia_periodo[\"Térmica\"]])\n",
    "        lista_filas.append([periodo_actual, \"Hidráulica\", potencia_periodo[\"Hidráulica\"]])\n",
    "        lista_filas.append([periodo_actual, \"Nuclear\", potencia_periodo[\"Nuclear\"]])\n",
    "        lista_filas.append([periodo_actual, \"Renovable\", potencia_periodo[\"Renovable\"]])\n",
    "        periodo_actual = fila.periodo\n",
    "        potencia_periodo = {\n",
    "          \"Térmica\": 0,\n",
    "          \"Hidráulica\": 0,\n",
    "          \"Nuclear\": 0,\n",
    "          \"Renovable\": 0,\n",
    "        }\n",
    "    \n",
    "    potencia_periodo[fila.fuente_generacion] += fila.potencia_instalada_mw"
   ]
  },
  {
   "cell_type": "code",
   "execution_count": 62,
   "metadata": {},
   "outputs": [
    {
     "data": {
      "text/html": [
       "<div>\n",
       "<style scoped>\n",
       "    .dataframe tbody tr th:only-of-type {\n",
       "        vertical-align: middle;\n",
       "    }\n",
       "\n",
       "    .dataframe tbody tr th {\n",
       "        vertical-align: top;\n",
       "    }\n",
       "\n",
       "    .dataframe thead th {\n",
       "        text-align: right;\n",
       "    }\n",
       "</style>\n",
       "<table border=\"1\" class=\"dataframe\">\n",
       "  <thead>\n",
       "    <tr style=\"text-align: right;\">\n",
       "      <th></th>\n",
       "      <th>periodo</th>\n",
       "      <th>fuente_de_generacion</th>\n",
       "      <th>potencia_instalada_mw</th>\n",
       "    </tr>\n",
       "  </thead>\n",
       "  <tbody>\n",
       "    <tr>\n",
       "      <th>0</th>\n",
       "      <td>01/10/2015 0:00</td>\n",
       "      <td>Térmica</td>\n",
       "      <td>20276</td>\n",
       "    </tr>\n",
       "    <tr>\n",
       "      <th>1</th>\n",
       "      <td>01/10/2015 0:00</td>\n",
       "      <td>Hidráulica</td>\n",
       "      <td>11106</td>\n",
       "    </tr>\n",
       "    <tr>\n",
       "      <th>2</th>\n",
       "      <td>01/10/2015 0:00</td>\n",
       "      <td>Nuclear</td>\n",
       "      <td>1730</td>\n",
       "    </tr>\n",
       "    <tr>\n",
       "      <th>3</th>\n",
       "      <td>01/10/2015 0:00</td>\n",
       "      <td>Renovable</td>\n",
       "      <td>213</td>\n",
       "    </tr>\n",
       "    <tr>\n",
       "      <th>4</th>\n",
       "      <td>01/11/2015 0:00</td>\n",
       "      <td>Térmica</td>\n",
       "      <td>20289</td>\n",
       "    </tr>\n",
       "  </tbody>\n",
       "</table>\n",
       "</div>"
      ],
      "text/plain": [
       "           periodo fuente_de_generacion  potencia_instalada_mw\n",
       "0  01/10/2015 0:00              Térmica                  20276\n",
       "1  01/10/2015 0:00           Hidráulica                  11106\n",
       "2  01/10/2015 0:00              Nuclear                   1730\n",
       "3  01/10/2015 0:00            Renovable                    213\n",
       "4  01/11/2015 0:00              Térmica                  20289"
      ]
     },
     "execution_count": 62,
     "metadata": {},
     "output_type": "execute_result"
    }
   ],
   "source": [
    "pd.DataFrame(lista_filas, columns=[\"periodo\", \"fuente_de_generacion\", \"potencia_instalada_mw\"]).head()"
   ]
  },
  {
   "cell_type": "code",
   "execution_count": null,
   "metadata": {},
   "outputs": [],
   "source": []
  },
  {
   "cell_type": "markdown",
   "metadata": {},
   "source": [
    "Podríamos hacerlo repitiendo iterativamente el procedimiento realizado antes para el primer período (solución propuesta en clase), iterando sobre los distintos períodos:"
   ]
  },
  {
   "cell_type": "code",
   "execution_count": 51,
   "metadata": {},
   "outputs": [],
   "source": [
    "lista_dfs = []\n",
    "for periodo in df.periodo.unique(): \n",
    "    df_por_periodo = df[df.periodo == periodo].groupby(\"fuente_generacion\").aggregate({\"potencia_instalada_mw\": \"sum\"})\n",
    "    df_por_periodo[\"periodo\"] = periodo\n",
    "    lista_dfs.append(df_por_periodo)"
   ]
  },
  {
   "cell_type": "markdown",
   "metadata": {},
   "source": [
    "Esto nos da una lista donde cada elemento es un Dataframe para un período:"
   ]
  },
  {
   "cell_type": "code",
   "execution_count": 57,
   "metadata": {},
   "outputs": [
    {
     "data": {
      "text/html": [
       "<div>\n",
       "<style scoped>\n",
       "    .dataframe tbody tr th:only-of-type {\n",
       "        vertical-align: middle;\n",
       "    }\n",
       "\n",
       "    .dataframe tbody tr th {\n",
       "        vertical-align: top;\n",
       "    }\n",
       "\n",
       "    .dataframe thead th {\n",
       "        text-align: right;\n",
       "    }\n",
       "</style>\n",
       "<table border=\"1\" class=\"dataframe\">\n",
       "  <thead>\n",
       "    <tr style=\"text-align: right;\">\n",
       "      <th></th>\n",
       "      <th>potencia_instalada_mw</th>\n",
       "      <th>periodo</th>\n",
       "    </tr>\n",
       "    <tr>\n",
       "      <th>fuente_generacion</th>\n",
       "      <th></th>\n",
       "      <th></th>\n",
       "    </tr>\n",
       "  </thead>\n",
       "  <tbody>\n",
       "    <tr>\n",
       "      <th>Hidráulica</th>\n",
       "      <td>11106</td>\n",
       "      <td>01/10/2015 0:00</td>\n",
       "    </tr>\n",
       "    <tr>\n",
       "      <th>Nuclear</th>\n",
       "      <td>1730</td>\n",
       "      <td>01/10/2015 0:00</td>\n",
       "    </tr>\n",
       "    <tr>\n",
       "      <th>Renovable</th>\n",
       "      <td>213</td>\n",
       "      <td>01/10/2015 0:00</td>\n",
       "    </tr>\n",
       "    <tr>\n",
       "      <th>Térmica</th>\n",
       "      <td>20276</td>\n",
       "      <td>01/10/2015 0:00</td>\n",
       "    </tr>\n",
       "  </tbody>\n",
       "</table>\n",
       "</div>"
      ],
      "text/plain": [
       "                   potencia_instalada_mw          periodo\n",
       "fuente_generacion                                        \n",
       "Hidráulica                         11106  01/10/2015 0:00\n",
       "Nuclear                             1730  01/10/2015 0:00\n",
       "Renovable                            213  01/10/2015 0:00\n",
       "Térmica                            20276  01/10/2015 0:00"
      ]
     },
     "execution_count": 57,
     "metadata": {},
     "output_type": "execute_result"
    }
   ],
   "source": [
    "lista_dfs[0]"
   ]
  },
  {
   "cell_type": "code",
   "execution_count": 60,
   "metadata": {},
   "outputs": [
    {
     "data": {
      "text/html": [
       "<div>\n",
       "<style scoped>\n",
       "    .dataframe tbody tr th:only-of-type {\n",
       "        vertical-align: middle;\n",
       "    }\n",
       "\n",
       "    .dataframe tbody tr th {\n",
       "        vertical-align: top;\n",
       "    }\n",
       "\n",
       "    .dataframe thead th {\n",
       "        text-align: right;\n",
       "    }\n",
       "</style>\n",
       "<table border=\"1\" class=\"dataframe\">\n",
       "  <thead>\n",
       "    <tr style=\"text-align: right;\">\n",
       "      <th></th>\n",
       "      <th>potencia_instalada_mw</th>\n",
       "      <th>periodo</th>\n",
       "    </tr>\n",
       "    <tr>\n",
       "      <th>fuente_generacion</th>\n",
       "      <th></th>\n",
       "      <th></th>\n",
       "    </tr>\n",
       "  </thead>\n",
       "  <tbody>\n",
       "    <tr>\n",
       "      <th>Hidráulica</th>\n",
       "      <td>11106</td>\n",
       "      <td>01/11/2015 0:00</td>\n",
       "    </tr>\n",
       "    <tr>\n",
       "      <th>Nuclear</th>\n",
       "      <td>1730</td>\n",
       "      <td>01/11/2015 0:00</td>\n",
       "    </tr>\n",
       "    <tr>\n",
       "      <th>Renovable</th>\n",
       "      <td>213</td>\n",
       "      <td>01/11/2015 0:00</td>\n",
       "    </tr>\n",
       "    <tr>\n",
       "      <th>Térmica</th>\n",
       "      <td>20289</td>\n",
       "      <td>01/11/2015 0:00</td>\n",
       "    </tr>\n",
       "  </tbody>\n",
       "</table>\n",
       "</div>"
      ],
      "text/plain": [
       "                   potencia_instalada_mw          periodo\n",
       "fuente_generacion                                        \n",
       "Hidráulica                         11106  01/11/2015 0:00\n",
       "Nuclear                             1730  01/11/2015 0:00\n",
       "Renovable                            213  01/11/2015 0:00\n",
       "Térmica                            20289  01/11/2015 0:00"
      ]
     },
     "execution_count": 60,
     "metadata": {},
     "output_type": "execute_result"
    }
   ],
   "source": [
    "lista_dfs[1]"
   ]
  },
  {
   "cell_type": "markdown",
   "metadata": {},
   "source": [
    "Esta lista se puede luego concatenar para dar un único Dataframe (esto usa `pd.concat` lo cual vemos en la siguiente sección)"
   ]
  },
  {
   "cell_type": "code",
   "execution_count": 61,
   "metadata": {},
   "outputs": [
    {
     "data": {
      "text/html": [
       "<div>\n",
       "<style scoped>\n",
       "    .dataframe tbody tr th:only-of-type {\n",
       "        vertical-align: middle;\n",
       "    }\n",
       "\n",
       "    .dataframe tbody tr th {\n",
       "        vertical-align: top;\n",
       "    }\n",
       "\n",
       "    .dataframe thead th {\n",
       "        text-align: right;\n",
       "    }\n",
       "</style>\n",
       "<table border=\"1\" class=\"dataframe\">\n",
       "  <thead>\n",
       "    <tr style=\"text-align: right;\">\n",
       "      <th></th>\n",
       "      <th>potencia_instalada_mw</th>\n",
       "      <th>periodo</th>\n",
       "    </tr>\n",
       "    <tr>\n",
       "      <th>fuente_generacion</th>\n",
       "      <th></th>\n",
       "      <th></th>\n",
       "    </tr>\n",
       "  </thead>\n",
       "  <tbody>\n",
       "    <tr>\n",
       "      <th>Hidráulica</th>\n",
       "      <td>11106</td>\n",
       "      <td>01/10/2015 0:00</td>\n",
       "    </tr>\n",
       "    <tr>\n",
       "      <th>Nuclear</th>\n",
       "      <td>1730</td>\n",
       "      <td>01/10/2015 0:00</td>\n",
       "    </tr>\n",
       "    <tr>\n",
       "      <th>Renovable</th>\n",
       "      <td>213</td>\n",
       "      <td>01/10/2015 0:00</td>\n",
       "    </tr>\n",
       "    <tr>\n",
       "      <th>Térmica</th>\n",
       "      <td>20276</td>\n",
       "      <td>01/10/2015 0:00</td>\n",
       "    </tr>\n",
       "    <tr>\n",
       "      <th>Hidráulica</th>\n",
       "      <td>11106</td>\n",
       "      <td>01/11/2015 0:00</td>\n",
       "    </tr>\n",
       "    <tr>\n",
       "      <th>...</th>\n",
       "      <td>...</td>\n",
       "      <td>...</td>\n",
       "    </tr>\n",
       "    <tr>\n",
       "      <th>Térmica</th>\n",
       "      <td>24530</td>\n",
       "      <td>01/01/2019 0:00</td>\n",
       "    </tr>\n",
       "    <tr>\n",
       "      <th>Hidráulica</th>\n",
       "      <td>10789</td>\n",
       "      <td>01/04/2019 0:00</td>\n",
       "    </tr>\n",
       "    <tr>\n",
       "      <th>Nuclear</th>\n",
       "      <td>1755</td>\n",
       "      <td>01/04/2019 0:00</td>\n",
       "    </tr>\n",
       "    <tr>\n",
       "      <th>Renovable</th>\n",
       "      <td>1802</td>\n",
       "      <td>01/04/2019 0:00</td>\n",
       "    </tr>\n",
       "    <tr>\n",
       "      <th>Térmica</th>\n",
       "      <td>24557</td>\n",
       "      <td>01/04/2019 0:00</td>\n",
       "    </tr>\n",
       "  </tbody>\n",
       "</table>\n",
       "<p>152 rows × 2 columns</p>\n",
       "</div>"
      ],
      "text/plain": [
       "                   potencia_instalada_mw          periodo\n",
       "fuente_generacion                                        \n",
       "Hidráulica                         11106  01/10/2015 0:00\n",
       "Nuclear                             1730  01/10/2015 0:00\n",
       "Renovable                            213  01/10/2015 0:00\n",
       "Térmica                            20276  01/10/2015 0:00\n",
       "Hidráulica                         11106  01/11/2015 0:00\n",
       "...                                  ...              ...\n",
       "Térmica                            24530  01/01/2019 0:00\n",
       "Hidráulica                         10789  01/04/2019 0:00\n",
       "Nuclear                             1755  01/04/2019 0:00\n",
       "Renovable                           1802  01/04/2019 0:00\n",
       "Térmica                            24557  01/04/2019 0:00\n",
       "\n",
       "[152 rows x 2 columns]"
      ]
     },
     "execution_count": 61,
     "metadata": {},
     "output_type": "execute_result"
    }
   ],
   "source": [
    "pd.concat(lista_dfs)"
   ]
  },
  {
   "cell_type": "markdown",
   "metadata": {},
   "source": [
    "**Resolución con `.groupby` (preferida)**"
   ]
  },
  {
   "cell_type": "markdown",
   "metadata": {},
   "source": [
    "Sin embargo, `.groupby` nos permite hacerlo de una manera más compacta. La idea es simplemente agrupar por dos columnas (`periodo` y `fuente_generacion`) en lugar de una sola:"
   ]
  },
  {
   "cell_type": "code",
   "execution_count": 86,
   "metadata": {},
   "outputs": [
    {
     "data": {
      "text/html": [
       "<div>\n",
       "<style scoped>\n",
       "    .dataframe tbody tr th:only-of-type {\n",
       "        vertical-align: middle;\n",
       "    }\n",
       "\n",
       "    .dataframe tbody tr th {\n",
       "        vertical-align: top;\n",
       "    }\n",
       "\n",
       "    .dataframe thead th {\n",
       "        text-align: right;\n",
       "    }\n",
       "</style>\n",
       "<table border=\"1\" class=\"dataframe\">\n",
       "  <thead>\n",
       "    <tr style=\"text-align: right;\">\n",
       "      <th></th>\n",
       "      <th></th>\n",
       "      <th>potencia_instalada_mw</th>\n",
       "    </tr>\n",
       "    <tr>\n",
       "      <th>periodo</th>\n",
       "      <th>fuente_generacion</th>\n",
       "      <th></th>\n",
       "    </tr>\n",
       "  </thead>\n",
       "  <tbody>\n",
       "    <tr>\n",
       "      <th rowspan=\"4\" valign=\"top\">2015-10-01</th>\n",
       "      <th>Hidráulica</th>\n",
       "      <td>11106</td>\n",
       "    </tr>\n",
       "    <tr>\n",
       "      <th>Nuclear</th>\n",
       "      <td>1730</td>\n",
       "    </tr>\n",
       "    <tr>\n",
       "      <th>Renovable</th>\n",
       "      <td>213</td>\n",
       "    </tr>\n",
       "    <tr>\n",
       "      <th>Térmica</th>\n",
       "      <td>20276</td>\n",
       "    </tr>\n",
       "    <tr>\n",
       "      <th>2015-11-01</th>\n",
       "      <th>Hidráulica</th>\n",
       "      <td>11106</td>\n",
       "    </tr>\n",
       "    <tr>\n",
       "      <th>...</th>\n",
       "      <th>...</th>\n",
       "      <td>...</td>\n",
       "    </tr>\n",
       "    <tr>\n",
       "      <th>2019-01-01</th>\n",
       "      <th>Térmica</th>\n",
       "      <td>24530</td>\n",
       "    </tr>\n",
       "    <tr>\n",
       "      <th rowspan=\"4\" valign=\"top\">2019-04-01</th>\n",
       "      <th>Hidráulica</th>\n",
       "      <td>10789</td>\n",
       "    </tr>\n",
       "    <tr>\n",
       "      <th>Nuclear</th>\n",
       "      <td>1755</td>\n",
       "    </tr>\n",
       "    <tr>\n",
       "      <th>Renovable</th>\n",
       "      <td>1802</td>\n",
       "    </tr>\n",
       "    <tr>\n",
       "      <th>Térmica</th>\n",
       "      <td>24557</td>\n",
       "    </tr>\n",
       "  </tbody>\n",
       "</table>\n",
       "<p>152 rows × 1 columns</p>\n",
       "</div>"
      ],
      "text/plain": [
       "                              potencia_instalada_mw\n",
       "periodo    fuente_generacion                       \n",
       "2015-10-01 Hidráulica                         11106\n",
       "           Nuclear                             1730\n",
       "           Renovable                            213\n",
       "           Térmica                            20276\n",
       "2015-11-01 Hidráulica                         11106\n",
       "...                                             ...\n",
       "2019-01-01 Térmica                            24530\n",
       "2019-04-01 Hidráulica                         10789\n",
       "           Nuclear                             1755\n",
       "           Renovable                           1802\n",
       "           Térmica                            24557\n",
       "\n",
       "[152 rows x 1 columns]"
      ]
     },
     "execution_count": 86,
     "metadata": {},
     "output_type": "execute_result"
    }
   ],
   "source": [
    "df.groupby(by=[\"periodo\", \"fuente_generacion\"]).agg({'potencia_instalada_mw': 'sum'})"
   ]
  },
  {
   "cell_type": "markdown",
   "metadata": {},
   "source": [
    "___"
   ]
  },
  {
   "cell_type": "markdown",
   "metadata": {},
   "source": [
    "### Unir dataframes"
   ]
  },
  {
   "cell_type": "markdown",
   "metadata": {},
   "source": [
    "Para unir dataframes, utilizamos los métodos `.append()` y `.merge()`. Para ejemplificar su uso, hagamos entre todos lo siguientes ejercicios:\n",
    " 1) Extraer los datos correspondientes al primer período y al último período, en dos Dataframes. Luego, unir los dos Dataframes con `.concat()`.\n",
    " 2) Tomar el DataFrame creado en el punto anterior, donde para cada período y fuente calculamos la potencia total correspondiente. Agregar como columna, para todas las filas, la potencia instala en el primer período para la fuente de energía correspondiente, llamándola `pot_1er_periodo`. Luego, calcular la diferencia entre la potencia instalada y la correspondiente al primer período, y agregarlo como una nueva columna, `diferencia`. "
   ]
  },
  {
   "cell_type": "markdown",
   "metadata": {},
   "source": [
    "1. **Resolución**: primero extraemos un subconjunto de las filas, correspondientes al primer período. Estamos usando el hecho de que las filas ya vienen ordenadas por período, con lo cual basta usar el índice 0."
   ]
  },
  {
   "cell_type": "code",
   "execution_count": 64,
   "metadata": {},
   "outputs": [],
   "source": [
    "# primer_periodo_df = df[df.periodo == df.periodo[0]]\n",
    "\n",
    "primer_periodo_df = df.query(\"periodo == periodo[0]\")"
   ]
  },
  {
   "cell_type": "markdown",
   "metadata": {},
   "source": [
    "Luego, extraemos las filas para el último período:"
   ]
  },
  {
   "cell_type": "code",
   "execution_count": 65,
   "metadata": {},
   "outputs": [],
   "source": [
    "# Dos formas equivalentes\n",
    "ultimo_periodo_df = df[df.periodo == df.periodo[len(df)-1]]\n",
    "ultimo_periodo_df = df[df.periodo == df.periodo.iloc[-1]]\n",
    "\n",
    "# Esta no funcionaría, ¿por qué?\n",
    "# ultimo_periodo_df = df[df.periodo == df.periodo.loc[-1]]\n",
    "\n",
    "# Esta es preferida porque es más legible\n",
    "ultimo_periodo_df = df.query(\"periodo == periodo.iloc[-1]\")"
   ]
  },
  {
   "cell_type": "markdown",
   "metadata": {},
   "source": [
    "Finalmente, concatenamos con `pd.concat`"
   ]
  },
  {
   "cell_type": "code",
   "execution_count": 66,
   "metadata": {},
   "outputs": [
    {
     "data": {
      "text/html": [
       "<div>\n",
       "<style scoped>\n",
       "    .dataframe tbody tr th:only-of-type {\n",
       "        vertical-align: middle;\n",
       "    }\n",
       "\n",
       "    .dataframe tbody tr th {\n",
       "        vertical-align: top;\n",
       "    }\n",
       "\n",
       "    .dataframe thead th {\n",
       "        text-align: right;\n",
       "    }\n",
       "</style>\n",
       "<table border=\"1\" class=\"dataframe\">\n",
       "  <thead>\n",
       "    <tr style=\"text-align: right;\">\n",
       "      <th></th>\n",
       "      <th>periodo</th>\n",
       "      <th>agente</th>\n",
       "      <th>agente_descripcion</th>\n",
       "      <th>fuente_generacion</th>\n",
       "      <th>potencia_instalada_mw</th>\n",
       "    </tr>\n",
       "  </thead>\n",
       "  <tbody>\n",
       "    <tr>\n",
       "      <th>0</th>\n",
       "      <td>01/10/2015 0:00</td>\n",
       "      <td>CTBROWNG</td>\n",
       "      <td>C.T. ALMIRANTE BROWN</td>\n",
       "      <td>Térmica</td>\n",
       "      <td>25</td>\n",
       "    </tr>\n",
       "    <tr>\n",
       "      <th>1</th>\n",
       "      <td>01/10/2015 0:00</td>\n",
       "      <td>CAPEXSAG</td>\n",
       "      <td>C.T. AGUA DEL CAJON</td>\n",
       "      <td>Térmica</td>\n",
       "      <td>184</td>\n",
       "    </tr>\n",
       "    <tr>\n",
       "      <th>2</th>\n",
       "      <td>01/10/2015 0:00</td>\n",
       "      <td>HIDIAMAG</td>\n",
       "      <td>H. DIAMANTE SA</td>\n",
       "      <td>Hidráulica</td>\n",
       "      <td>150</td>\n",
       "    </tr>\n",
       "    <tr>\n",
       "      <th>3</th>\n",
       "      <td>01/10/2015 0:00</td>\n",
       "      <td>CTAESPAG</td>\n",
       "      <td>C.T. AES PARANA</td>\n",
       "      <td>Térmica</td>\n",
       "      <td>526</td>\n",
       "    </tr>\n",
       "    <tr>\n",
       "      <th>4</th>\n",
       "      <td>01/10/2015 0:00</td>\n",
       "      <td>CTAESPAG</td>\n",
       "      <td>C.T. AES PARANA</td>\n",
       "      <td>Térmica</td>\n",
       "      <td>319</td>\n",
       "    </tr>\n",
       "    <tr>\n",
       "      <th>...</th>\n",
       "      <td>...</td>\n",
       "      <td>...</td>\n",
       "      <td>...</td>\n",
       "      <td>...</td>\n",
       "      <td>...</td>\n",
       "    </tr>\n",
       "    <tr>\n",
       "      <th>11492</th>\n",
       "      <td>01/04/2019 0:00</td>\n",
       "      <td>CTENSENG</td>\n",
       "      <td>BIOGAS RS CT ENSENADA SECCO</td>\n",
       "      <td>Renovable</td>\n",
       "      <td>5</td>\n",
       "    </tr>\n",
       "    <tr>\n",
       "      <th>11493</th>\n",
       "      <td>01/04/2019 0:00</td>\n",
       "      <td>CTAVELLG</td>\n",
       "      <td>BIOGAS CT AVELLANEDA SECCO</td>\n",
       "      <td>Renovable</td>\n",
       "      <td>6</td>\n",
       "    </tr>\n",
       "    <tr>\n",
       "      <th>11494</th>\n",
       "      <td>01/04/2019 0:00</td>\n",
       "      <td>PSTINO2G</td>\n",
       "      <td>PQUE SOLAR TINOGASTA II</td>\n",
       "      <td>Renovable</td>\n",
       "      <td>7</td>\n",
       "    </tr>\n",
       "    <tr>\n",
       "      <th>11495</th>\n",
       "      <td>01/04/2019 0:00</td>\n",
       "      <td>PEBICE2G</td>\n",
       "      <td>P.EOLICO BICENTENARIO 2</td>\n",
       "      <td>Renovable</td>\n",
       "      <td>25</td>\n",
       "    </tr>\n",
       "    <tr>\n",
       "      <th>11496</th>\n",
       "      <td>01/04/2019 0:00</td>\n",
       "      <td>PEBANDEG</td>\n",
       "      <td>P.EOLICO LA BANDERITA</td>\n",
       "      <td>Renovable</td>\n",
       "      <td>40</td>\n",
       "    </tr>\n",
       "  </tbody>\n",
       "</table>\n",
       "<p>633 rows × 5 columns</p>\n",
       "</div>"
      ],
      "text/plain": [
       "               periodo    agente           agente_descripcion  \\\n",
       "0      01/10/2015 0:00  CTBROWNG         C.T. ALMIRANTE BROWN   \n",
       "1      01/10/2015 0:00  CAPEXSAG          C.T. AGUA DEL CAJON   \n",
       "2      01/10/2015 0:00  HIDIAMAG               H. DIAMANTE SA   \n",
       "3      01/10/2015 0:00  CTAESPAG              C.T. AES PARANA   \n",
       "4      01/10/2015 0:00  CTAESPAG              C.T. AES PARANA   \n",
       "...                ...       ...                          ...   \n",
       "11492  01/04/2019 0:00  CTENSENG  BIOGAS RS CT ENSENADA SECCO   \n",
       "11493  01/04/2019 0:00  CTAVELLG   BIOGAS CT AVELLANEDA SECCO   \n",
       "11494  01/04/2019 0:00  PSTINO2G      PQUE SOLAR TINOGASTA II   \n",
       "11495  01/04/2019 0:00  PEBICE2G      P.EOLICO BICENTENARIO 2   \n",
       "11496  01/04/2019 0:00  PEBANDEG        P.EOLICO LA BANDERITA   \n",
       "\n",
       "      fuente_generacion  potencia_instalada_mw  \n",
       "0               Térmica                     25  \n",
       "1               Térmica                    184  \n",
       "2            Hidráulica                    150  \n",
       "3               Térmica                    526  \n",
       "4               Térmica                    319  \n",
       "...                 ...                    ...  \n",
       "11492         Renovable                      5  \n",
       "11493         Renovable                      6  \n",
       "11494         Renovable                      7  \n",
       "11495         Renovable                     25  \n",
       "11496         Renovable                     40  \n",
       "\n",
       "[633 rows x 5 columns]"
      ]
     },
     "execution_count": 66,
     "metadata": {},
     "output_type": "execute_result"
    }
   ],
   "source": [
    "pd.concat([primer_periodo_df, ultimo_periodo_df])"
   ]
  },
  {
   "cell_type": "markdown",
   "metadata": {},
   "source": [
    "2. **Resolución:** primero, calculemos la potencia por fuente, para el primer período, como hicimos antes."
   ]
  },
  {
   "cell_type": "code",
   "execution_count": 67,
   "metadata": {},
   "outputs": [
    {
     "data": {
      "text/html": [
       "<div>\n",
       "<style scoped>\n",
       "    .dataframe tbody tr th:only-of-type {\n",
       "        vertical-align: middle;\n",
       "    }\n",
       "\n",
       "    .dataframe tbody tr th {\n",
       "        vertical-align: top;\n",
       "    }\n",
       "\n",
       "    .dataframe thead th {\n",
       "        text-align: right;\n",
       "    }\n",
       "</style>\n",
       "<table border=\"1\" class=\"dataframe\">\n",
       "  <thead>\n",
       "    <tr style=\"text-align: right;\">\n",
       "      <th></th>\n",
       "      <th>pot_1er_periodo</th>\n",
       "    </tr>\n",
       "    <tr>\n",
       "      <th>fuente_generacion</th>\n",
       "      <th></th>\n",
       "    </tr>\n",
       "  </thead>\n",
       "  <tbody>\n",
       "    <tr>\n",
       "      <th>Hidráulica</th>\n",
       "      <td>11106</td>\n",
       "    </tr>\n",
       "    <tr>\n",
       "      <th>Nuclear</th>\n",
       "      <td>1730</td>\n",
       "    </tr>\n",
       "    <tr>\n",
       "      <th>Renovable</th>\n",
       "      <td>213</td>\n",
       "    </tr>\n",
       "    <tr>\n",
       "      <th>Térmica</th>\n",
       "      <td>20276</td>\n",
       "    </tr>\n",
       "  </tbody>\n",
       "</table>\n",
       "</div>"
      ],
      "text/plain": [
       "                   pot_1er_periodo\n",
       "fuente_generacion                 \n",
       "Hidráulica                   11106\n",
       "Nuclear                       1730\n",
       "Renovable                      213\n",
       "Térmica                      20276"
      ]
     },
     "execution_count": 67,
     "metadata": {},
     "output_type": "execute_result"
    }
   ],
   "source": [
    "pot_1er_periodo_df = primer_periodo_df.groupby(by=\"fuente_generacion\").agg({'potencia_instalada_mw': 'sum'})\n",
    "pot_1er_periodo_df.rename({\"potencia_instalada_mw\": \"pot_1er_periodo\"}, axis=1, inplace=True)\n",
    "pot_1er_periodo_df.head()"
   ]
  },
  {
   "cell_type": "markdown",
   "metadata": {},
   "source": [
    "Reiniciamos el índice, para que de esa manera la fuente de generación pase a ser una columna en lugar del índice:"
   ]
  },
  {
   "cell_type": "code",
   "execution_count": 68,
   "metadata": {},
   "outputs": [
    {
     "data": {
      "text/html": [
       "<div>\n",
       "<style scoped>\n",
       "    .dataframe tbody tr th:only-of-type {\n",
       "        vertical-align: middle;\n",
       "    }\n",
       "\n",
       "    .dataframe tbody tr th {\n",
       "        vertical-align: top;\n",
       "    }\n",
       "\n",
       "    .dataframe thead th {\n",
       "        text-align: right;\n",
       "    }\n",
       "</style>\n",
       "<table border=\"1\" class=\"dataframe\">\n",
       "  <thead>\n",
       "    <tr style=\"text-align: right;\">\n",
       "      <th></th>\n",
       "      <th>fuente_generacion</th>\n",
       "      <th>pot_1er_periodo</th>\n",
       "    </tr>\n",
       "  </thead>\n",
       "  <tbody>\n",
       "    <tr>\n",
       "      <th>0</th>\n",
       "      <td>Hidráulica</td>\n",
       "      <td>11106</td>\n",
       "    </tr>\n",
       "    <tr>\n",
       "      <th>1</th>\n",
       "      <td>Nuclear</td>\n",
       "      <td>1730</td>\n",
       "    </tr>\n",
       "    <tr>\n",
       "      <th>2</th>\n",
       "      <td>Renovable</td>\n",
       "      <td>213</td>\n",
       "    </tr>\n",
       "    <tr>\n",
       "      <th>3</th>\n",
       "      <td>Térmica</td>\n",
       "      <td>20276</td>\n",
       "    </tr>\n",
       "  </tbody>\n",
       "</table>\n",
       "</div>"
      ],
      "text/plain": [
       "  fuente_generacion  pot_1er_periodo\n",
       "0        Hidráulica            11106\n",
       "1           Nuclear             1730\n",
       "2         Renovable              213\n",
       "3           Térmica            20276"
      ]
     },
     "execution_count": 68,
     "metadata": {},
     "output_type": "execute_result"
    }
   ],
   "source": [
    "pot_1er_periodo_df = pot_1er_periodo_df.reset_index()\n",
    "pot_1er_periodo_df.head()"
   ]
  },
  {
   "cell_type": "markdown",
   "metadata": {},
   "source": [
    "Hacemos lo mismo, para todos los períodos. Como antes, agrupamos por las columnas `periodo` y `fuente_generacion`"
   ]
  },
  {
   "cell_type": "code",
   "execution_count": 69,
   "metadata": {},
   "outputs": [
    {
     "data": {
      "text/html": [
       "<div>\n",
       "<style scoped>\n",
       "    .dataframe tbody tr th:only-of-type {\n",
       "        vertical-align: middle;\n",
       "    }\n",
       "\n",
       "    .dataframe tbody tr th {\n",
       "        vertical-align: top;\n",
       "    }\n",
       "\n",
       "    .dataframe thead th {\n",
       "        text-align: right;\n",
       "    }\n",
       "</style>\n",
       "<table border=\"1\" class=\"dataframe\">\n",
       "  <thead>\n",
       "    <tr style=\"text-align: right;\">\n",
       "      <th></th>\n",
       "      <th>periodo</th>\n",
       "      <th>fuente_generacion</th>\n",
       "      <th>potencia_instalada_mw</th>\n",
       "    </tr>\n",
       "  </thead>\n",
       "  <tbody>\n",
       "    <tr>\n",
       "      <th>0</th>\n",
       "      <td>01/01/2016 0:00</td>\n",
       "      <td>Hidráulica</td>\n",
       "      <td>11106</td>\n",
       "    </tr>\n",
       "    <tr>\n",
       "      <th>1</th>\n",
       "      <td>01/01/2016 0:00</td>\n",
       "      <td>Nuclear</td>\n",
       "      <td>1755</td>\n",
       "    </tr>\n",
       "    <tr>\n",
       "      <th>2</th>\n",
       "      <td>01/01/2016 0:00</td>\n",
       "      <td>Renovable</td>\n",
       "      <td>213</td>\n",
       "    </tr>\n",
       "    <tr>\n",
       "      <th>3</th>\n",
       "      <td>01/01/2016 0:00</td>\n",
       "      <td>Térmica</td>\n",
       "      <td>20554</td>\n",
       "    </tr>\n",
       "    <tr>\n",
       "      <th>4</th>\n",
       "      <td>01/01/2017 0:00</td>\n",
       "      <td>Hidráulica</td>\n",
       "      <td>10681</td>\n",
       "    </tr>\n",
       "  </tbody>\n",
       "</table>\n",
       "</div>"
      ],
      "text/plain": [
       "           periodo fuente_generacion  potencia_instalada_mw\n",
       "0  01/01/2016 0:00        Hidráulica                  11106\n",
       "1  01/01/2016 0:00           Nuclear                   1755\n",
       "2  01/01/2016 0:00         Renovable                    213\n",
       "3  01/01/2016 0:00           Térmica                  20554\n",
       "4  01/01/2017 0:00        Hidráulica                  10681"
      ]
     },
     "execution_count": 69,
     "metadata": {},
     "output_type": "execute_result"
    }
   ],
   "source": [
    "pot_todos_los_periodos_df = df.groupby(by=[\"periodo\", \"fuente_generacion\"]).agg({'potencia_instalada_mw': 'sum'})\n",
    "pot_todos_los_periodos_df = pot_todos_los_periodos_df.reset_index()\n",
    "pot_todos_los_periodos_df.head()"
   ]
  },
  {
   "cell_type": "markdown",
   "metadata": {},
   "source": [
    "Ahora realizamos la unión de los dos Dataframes, con `pd.merge`."
   ]
  },
  {
   "cell_type": "code",
   "execution_count": 70,
   "metadata": {},
   "outputs": [
    {
     "data": {
      "text/html": [
       "<div>\n",
       "<style scoped>\n",
       "    .dataframe tbody tr th:only-of-type {\n",
       "        vertical-align: middle;\n",
       "    }\n",
       "\n",
       "    .dataframe tbody tr th {\n",
       "        vertical-align: top;\n",
       "    }\n",
       "\n",
       "    .dataframe thead th {\n",
       "        text-align: right;\n",
       "    }\n",
       "</style>\n",
       "<table border=\"1\" class=\"dataframe\">\n",
       "  <thead>\n",
       "    <tr style=\"text-align: right;\">\n",
       "      <th></th>\n",
       "      <th>periodo</th>\n",
       "      <th>fuente_generacion</th>\n",
       "      <th>potencia_instalada_mw</th>\n",
       "      <th>pot_1er_periodo</th>\n",
       "    </tr>\n",
       "  </thead>\n",
       "  <tbody>\n",
       "    <tr>\n",
       "      <th>0</th>\n",
       "      <td>01/01/2016 0:00</td>\n",
       "      <td>Hidráulica</td>\n",
       "      <td>11106</td>\n",
       "      <td>11106</td>\n",
       "    </tr>\n",
       "    <tr>\n",
       "      <th>1</th>\n",
       "      <td>01/01/2016 0:00</td>\n",
       "      <td>Nuclear</td>\n",
       "      <td>1755</td>\n",
       "      <td>1730</td>\n",
       "    </tr>\n",
       "    <tr>\n",
       "      <th>2</th>\n",
       "      <td>01/01/2016 0:00</td>\n",
       "      <td>Renovable</td>\n",
       "      <td>213</td>\n",
       "      <td>213</td>\n",
       "    </tr>\n",
       "    <tr>\n",
       "      <th>3</th>\n",
       "      <td>01/01/2016 0:00</td>\n",
       "      <td>Térmica</td>\n",
       "      <td>20554</td>\n",
       "      <td>20276</td>\n",
       "    </tr>\n",
       "    <tr>\n",
       "      <th>4</th>\n",
       "      <td>01/01/2017 0:00</td>\n",
       "      <td>Hidráulica</td>\n",
       "      <td>10681</td>\n",
       "      <td>11106</td>\n",
       "    </tr>\n",
       "  </tbody>\n",
       "</table>\n",
       "</div>"
      ],
      "text/plain": [
       "           periodo fuente_generacion  potencia_instalada_mw  pot_1er_periodo\n",
       "0  01/01/2016 0:00        Hidráulica                  11106            11106\n",
       "1  01/01/2016 0:00           Nuclear                   1755             1730\n",
       "2  01/01/2016 0:00         Renovable                    213              213\n",
       "3  01/01/2016 0:00           Térmica                  20554            20276\n",
       "4  01/01/2017 0:00        Hidráulica                  10681            11106"
      ]
     },
     "execution_count": 70,
     "metadata": {},
     "output_type": "execute_result"
    }
   ],
   "source": [
    "pot_todos_los_periodos_df = pd.merge(pot_todos_los_periodos_df, pot_1er_periodo_df, on=\"fuente_generacion\")\n",
    "pot_todos_los_periodos_df.head()"
   ]
  },
  {
   "cell_type": "markdown",
   "metadata": {},
   "source": [
    "Finalmente, calculamos la columna `diferencia` y mostramos el resultado:"
   ]
  },
  {
   "cell_type": "code",
   "execution_count": 71,
   "metadata": {},
   "outputs": [],
   "source": [
    "pot_todos_los_periodos_df[\"diferencia\"] = pot_todos_los_periodos_df.potencia_instalada_mw - pot_todos_los_periodos_df.pot_1er_periodo"
   ]
  },
  {
   "cell_type": "code",
   "execution_count": 73,
   "metadata": {},
   "outputs": [
    {
     "data": {
      "text/html": [
       "<div>\n",
       "<style scoped>\n",
       "    .dataframe tbody tr th:only-of-type {\n",
       "        vertical-align: middle;\n",
       "    }\n",
       "\n",
       "    .dataframe tbody tr th {\n",
       "        vertical-align: top;\n",
       "    }\n",
       "\n",
       "    .dataframe thead th {\n",
       "        text-align: right;\n",
       "    }\n",
       "</style>\n",
       "<table border=\"1\" class=\"dataframe\">\n",
       "  <thead>\n",
       "    <tr style=\"text-align: right;\">\n",
       "      <th></th>\n",
       "      <th>periodo</th>\n",
       "      <th>fuente_generacion</th>\n",
       "      <th>potencia_instalada_mw</th>\n",
       "      <th>pot_1er_periodo</th>\n",
       "      <th>diferencia</th>\n",
       "    </tr>\n",
       "  </thead>\n",
       "  <tbody>\n",
       "    <tr>\n",
       "      <th>0</th>\n",
       "      <td>01/01/2016 0:00</td>\n",
       "      <td>Hidráulica</td>\n",
       "      <td>11106</td>\n",
       "      <td>11106</td>\n",
       "      <td>0</td>\n",
       "    </tr>\n",
       "    <tr>\n",
       "      <th>1</th>\n",
       "      <td>01/01/2016 0:00</td>\n",
       "      <td>Nuclear</td>\n",
       "      <td>1755</td>\n",
       "      <td>1730</td>\n",
       "      <td>25</td>\n",
       "    </tr>\n",
       "    <tr>\n",
       "      <th>2</th>\n",
       "      <td>01/01/2016 0:00</td>\n",
       "      <td>Renovable</td>\n",
       "      <td>213</td>\n",
       "      <td>213</td>\n",
       "      <td>0</td>\n",
       "    </tr>\n",
       "    <tr>\n",
       "      <th>3</th>\n",
       "      <td>01/01/2016 0:00</td>\n",
       "      <td>Térmica</td>\n",
       "      <td>20554</td>\n",
       "      <td>20276</td>\n",
       "      <td>278</td>\n",
       "    </tr>\n",
       "    <tr>\n",
       "      <th>4</th>\n",
       "      <td>01/01/2017 0:00</td>\n",
       "      <td>Hidráulica</td>\n",
       "      <td>10681</td>\n",
       "      <td>11106</td>\n",
       "      <td>-425</td>\n",
       "    </tr>\n",
       "  </tbody>\n",
       "</table>\n",
       "</div>"
      ],
      "text/plain": [
       "           periodo fuente_generacion  potencia_instalada_mw  pot_1er_periodo  \\\n",
       "0  01/01/2016 0:00        Hidráulica                  11106            11106   \n",
       "1  01/01/2016 0:00           Nuclear                   1755             1730   \n",
       "2  01/01/2016 0:00         Renovable                    213              213   \n",
       "3  01/01/2016 0:00           Térmica                  20554            20276   \n",
       "4  01/01/2017 0:00        Hidráulica                  10681            11106   \n",
       "\n",
       "   diferencia  \n",
       "0           0  \n",
       "1          25  \n",
       "2           0  \n",
       "3         278  \n",
       "4        -425  "
      ]
     },
     "execution_count": 73,
     "metadata": {},
     "output_type": "execute_result"
    }
   ],
   "source": [
    "pot_todos_los_periodos_df.head()"
   ]
  },
  {
   "cell_type": "markdown",
   "metadata": {
    "id": "59PJh-FGsP9g"
   },
   "source": [
    "___\n",
    "## (4) Matplotlib"
   ]
  },
  {
   "cell_type": "markdown",
   "metadata": {},
   "source": [
    "Para instalar `matplotlib` (no viene con Python por defecto), pueden usar `conda` o `pip`:\n",
    "\n",
    "     conda install matplotlib -c anaconda\n",
    "\n",
    "o\n",
    "    `pip install matplotlib`\n",
    "    "
   ]
  },
  {
   "cell_type": "markdown",
   "metadata": {},
   "source": [
    "Ver la [Galería de Matplotlib](https://matplotlib.org/stable/gallery/index.html)"
   ]
  },
  {
   "cell_type": "code",
   "execution_count": 74,
   "metadata": {},
   "outputs": [],
   "source": [
    "import matplotlib.pyplot as plt"
   ]
  },
  {
   "cell_type": "code",
   "execution_count": 75,
   "metadata": {},
   "outputs": [],
   "source": [
    "# la siguiente linea de código hace que los gráficos se muestren en el mismo notebook (y no en una ventana nueva)\n",
    "%matplotlib inline\n",
    "# es una configuración de jupyter notebook"
   ]
  },
  {
   "cell_type": "code",
   "execution_count": 76,
   "metadata": {},
   "outputs": [],
   "source": [
    "import numpy as np"
   ]
  },
  {
   "cell_type": "code",
   "execution_count": 77,
   "metadata": {},
   "outputs": [],
   "source": [
    "y = np.random.randn(10)"
   ]
  },
  {
   "cell_type": "code",
   "execution_count": 78,
   "metadata": {},
   "outputs": [
    {
     "data": {
      "text/plain": [
       "array([ 1.48712808, -0.28829361,  0.65459544,  0.07699052,  0.3357122 ,\n",
       "        1.88276167, -1.32119947,  0.15197303, -0.76360044,  0.17884788])"
      ]
     },
     "execution_count": 78,
     "metadata": {},
     "output_type": "execute_result"
    }
   ],
   "source": [
    "y"
   ]
  },
  {
   "cell_type": "code",
   "execution_count": 79,
   "metadata": {},
   "outputs": [
    {
     "data": {
      "image/png": "[encoded data removed]",
      "text/plain": [
       "<Figure size 432x288 with 1 Axes>"
      ]
     },
     "metadata": {
      "needs_background": "light"
     },
     "output_type": "display_data"
    }
   ],
   "source": [
    "plt.plot(y)\n",
    "plt.show()"
   ]
  },
  {
   "cell_type": "code",
   "execution_count": 80,
   "metadata": {},
   "outputs": [],
   "source": [
    "x = np.random.rand(10)\n",
    "x.sort()"
   ]
  },
  {
   "cell_type": "code",
   "execution_count": 81,
   "metadata": {},
   "outputs": [
    {
     "data": {
      "image/png": "[encoded data removed]",
      "text/plain": [
       "<Figure size 432x288 with 1 Axes>"
      ]
     },
     "metadata": {
      "needs_background": "light"
     },
     "output_type": "display_data"
    }
   ],
   "source": [
    "plt.plot(x, y)\n",
    "plt.show()"
   ]
  },
  {
   "cell_type": "code",
   "execution_count": 82,
   "metadata": {},
   "outputs": [
    {
     "data": {
      "image/png": "[encoded data removed]",
      "text/plain": [
       "<Figure size 432x288 with 1 Axes>"
      ]
     },
     "metadata": {
      "needs_background": "light"
     },
     "output_type": "display_data"
    }
   ],
   "source": [
    "plt.scatter(x, y)\n",
    "plt.show()"
   ]
  },
  {
   "cell_type": "code",
   "execution_count": 83,
   "metadata": {},
   "outputs": [
    {
     "data": {
      "image/png": "[encoded data removed]",
      "text/plain": [
       "<Figure size 432x288 with 1 Axes>"
      ]
     },
     "metadata": {
      "needs_background": "light"
     },
     "output_type": "display_data"
    }
   ],
   "source": [
    "plt.plot(x, y, marker=\"o\", color=\"k\", linestyle=\"-.\")\n",
    "plt.xlabel(\"Eje X\")\n",
    "plt.ylabel(\"Eje Y\")\n",
    "plt.title(\"Gráfico de ejemplo\")\n",
    "plt.show()"
   ]
  },
  {
   "cell_type": "code",
   "execution_count": 84,
   "metadata": {},
   "outputs": [
    {
     "data": {
      "image/png": "[encoded data removed]",
      "text/plain": [
       "<Figure size 432x288 with 1 Axes>"
      ]
     },
     "metadata": {
      "needs_background": "light"
     },
     "output_type": "display_data"
    }
   ],
   "source": [
    "plt.plot(x, y, marker=\"o\", color=\"k\", linestyle=\"-.\")\n",
    "plt.xticks(ticks=x, labels=range(10))\n",
    "plt.xlabel(\"Eje X\")\n",
    "plt.ylabel(\"Eje Y\")\n",
    "plt.title(\"Gráfico de ejemplo\")\n",
    "plt.show()"
   ]
  },
  {
   "cell_type": "code",
   "execution_count": 87,
   "metadata": {},
   "outputs": [
    {
     "data": {
      "image/png": "[encoded data removed]",
      "text/plain": [
       "<Figure size 432x432 with 4 Axes>"
      ]
     },
     "metadata": {
      "needs_background": "light"
     },
     "output_type": "display_data"
    }
   ],
   "source": [
    "# Para generar una figura con varios ejes:\n",
    "x = np.random.rand(10)\n",
    "y = np.random.randn(10)\n",
    "\n",
    "fig, ax = plt.subplots(2,2, figsize=(6, 6))\n",
    "ax[0,0].plot(x)\n",
    "ax[0,1].plot(np.sort(x))\n",
    "ax[1,0].plot(y)\n",
    "ax[1,1].plot(np.sort(y));"
   ]
  },
  {
   "cell_type": "markdown",
   "metadata": {},
   "source": [
    "### Preparamos los datos para graficar"
   ]
  },
  {
   "cell_type": "code",
   "execution_count": 1,
   "metadata": {
    "tags": []
   },
   "outputs": [
    {
     "name": "stderr",
     "output_type": "stream",
     "text": [
      "/tmp/ipykernel_25712/3036890287.py:7: SettingWithCopyWarning: \n",
      "A value is trying to be set on a copy of a slice from a DataFrame.\n",
      "Try using .loc[row_indexer,col_indexer] = value instead\n",
      "\n",
      "See the caveats in the documentation: https://pandas.pydata.org/pandas-docs/stable/user_guide/indexing.html#returning-a-view-versus-a-copy\n",
      "  df.potencia_instalada_mw = round(df[\"potencia_instalada_mw\"]).astype(int)\n"
     ]
    }
   ],
   "source": [
    "# Volvemos a correr el código de más arriba\n",
    "import pandas as pd\n",
    "potencia_df = pd.read_csv(\"potencia_instalada_mod.csv\", encoding='latin1', sep=\"|\", index_col=\"Unnamed: 0\")\n",
    "potencia_df.index.name = \"indice\"\n",
    "columnas_deseadas = [\"periodo\", \"agente\", \"agente_descripcion\", \"fuente_generacion\", \"potencia_instalada_mw\"]\n",
    "df = potencia_df[columnas_deseadas]\n",
    "df.potencia_instalada_mw = round(df[\"potencia_instalada_mw\"]).astype(int)\n",
    "df = df.head(11497)"
   ]
  },
  {
   "cell_type": "code",
   "execution_count": 2,
   "metadata": {
    "id": "BQPpEHl2sP-A",
    "outputId": "a9607410-79f8-4b6b-d01b-7278e03fd6e9"
   },
   "outputs": [
    {
     "data": {
      "text/html": [
       "<div>\n",
       "<style scoped>\n",
       "    .dataframe tbody tr th:only-of-type {\n",
       "        vertical-align: middle;\n",
       "    }\n",
       "\n",
       "    .dataframe tbody tr th {\n",
       "        vertical-align: top;\n",
       "    }\n",
       "\n",
       "    .dataframe thead th {\n",
       "        text-align: right;\n",
       "    }\n",
       "</style>\n",
       "<table border=\"1\" class=\"dataframe\">\n",
       "  <thead>\n",
       "    <tr style=\"text-align: right;\">\n",
       "      <th></th>\n",
       "      <th>periodo</th>\n",
       "      <th>fuente_generacion</th>\n",
       "      <th>potencia_instalada_mw</th>\n",
       "    </tr>\n",
       "  </thead>\n",
       "  <tbody>\n",
       "    <tr>\n",
       "      <th>0</th>\n",
       "      <td>01/01/2016 0:00</td>\n",
       "      <td>Hidráulica</td>\n",
       "      <td>11106</td>\n",
       "    </tr>\n",
       "    <tr>\n",
       "      <th>1</th>\n",
       "      <td>01/01/2016 0:00</td>\n",
       "      <td>Nuclear</td>\n",
       "      <td>1755</td>\n",
       "    </tr>\n",
       "    <tr>\n",
       "      <th>2</th>\n",
       "      <td>01/01/2016 0:00</td>\n",
       "      <td>Renovable</td>\n",
       "      <td>213</td>\n",
       "    </tr>\n",
       "    <tr>\n",
       "      <th>3</th>\n",
       "      <td>01/01/2016 0:00</td>\n",
       "      <td>Térmica</td>\n",
       "      <td>20554</td>\n",
       "    </tr>\n",
       "    <tr>\n",
       "      <th>4</th>\n",
       "      <td>01/01/2017 0:00</td>\n",
       "      <td>Hidráulica</td>\n",
       "      <td>10681</td>\n",
       "    </tr>\n",
       "  </tbody>\n",
       "</table>\n",
       "</div>"
      ],
      "text/plain": [
       "           periodo fuente_generacion  potencia_instalada_mw\n",
       "0  01/01/2016 0:00        Hidráulica                  11106\n",
       "1  01/01/2016 0:00           Nuclear                   1755\n",
       "2  01/01/2016 0:00         Renovable                    213\n",
       "3  01/01/2016 0:00           Térmica                  20554\n",
       "4  01/01/2017 0:00        Hidráulica                  10681"
      ]
     },
     "execution_count": 2,
     "metadata": {},
     "output_type": "execute_result"
    }
   ],
   "source": [
    "# Volvemos a generar el dataframe agrupado por periodo/fuente\n",
    "df_fuente = df.groupby(by=[\"periodo\", \"fuente_generacion\"]).agg({'potencia_instalada_mw': 'sum'})\n",
    "df_fuente = df_fuente.reset_index()\n",
    "df_fuente.head()"
   ]
  },
  {
   "cell_type": "markdown",
   "metadata": {},
   "source": [
    "Veamos esta columna de tiempo"
   ]
  },
  {
   "cell_type": "code",
   "execution_count": 3,
   "metadata": {},
   "outputs": [
    {
     "data": {
      "text/plain": [
       "0      01/01/2016 0:00\n",
       "1      01/01/2016 0:00\n",
       "2      01/01/2016 0:00\n",
       "3      01/01/2016 0:00\n",
       "4      01/01/2017 0:00\n",
       "            ...       \n",
       "147    01/12/2016 0:00\n",
       "148    01/12/2017 0:00\n",
       "149    01/12/2017 0:00\n",
       "150    01/12/2017 0:00\n",
       "151    01/12/2017 0:00\n",
       "Name: periodo, Length: 152, dtype: object"
      ]
     },
     "execution_count": 3,
     "metadata": {},
     "output_type": "execute_result"
    }
   ],
   "source": [
    "df_fuente['periodo']"
   ]
  },
  {
   "cell_type": "markdown",
   "metadata": {},
   "source": [
    "Para cambiar de `str` a `datetime` podemos usar nuevamente `pd.to_datetime`. Para especificar formato ver: https://docs.python.org/3/library/datetime.html#strftime-and-strptime-behavior"
   ]
  },
  {
   "cell_type": "code",
   "execution_count": 4,
   "metadata": {},
   "outputs": [
    {
     "data": {
      "text/plain": [
       "0     2016-01-01\n",
       "1     2016-01-01\n",
       "2     2016-01-01\n",
       "3     2016-01-01\n",
       "4     2017-01-01\n",
       "         ...    \n",
       "147   2016-12-01\n",
       "148   2017-12-01\n",
       "149   2017-12-01\n",
       "150   2017-12-01\n",
       "151   2017-12-01\n",
       "Name: periodo, Length: 152, dtype: datetime64[ns]"
      ]
     },
     "execution_count": 4,
     "metadata": {},
     "output_type": "execute_result"
    }
   ],
   "source": [
    "pd.to_datetime(df_fuente['periodo'], format=\"%d/%m/%Y %H:%M\")"
   ]
  },
  {
   "cell_type": "markdown",
   "metadata": {},
   "source": [
    "Para transformar y realizar operaciones sobre datos de tiempo podemos usar la librería datetime."
   ]
  },
  {
   "cell_type": "code",
   "execution_count": 5,
   "metadata": {},
   "outputs": [
    {
     "data": {
      "text/plain": [
       "0      2016-01\n",
       "1      2016-01\n",
       "2      2016-01\n",
       "3      2016-01\n",
       "4      2017-01\n",
       "        ...   \n",
       "147    2016-12\n",
       "148    2017-12\n",
       "149    2017-12\n",
       "150    2017-12\n",
       "151    2017-12\n",
       "Name: periodo, Length: 152, dtype: object"
      ]
     },
     "execution_count": 5,
     "metadata": {},
     "output_type": "execute_result"
    }
   ],
   "source": [
    "pd.to_datetime(df_fuente['periodo'],format=\"%d/%m/%Y %H:%M\").dt.strftime(\"%Y-%m\")"
   ]
  },
  {
   "cell_type": "code",
   "execution_count": 6,
   "metadata": {},
   "outputs": [],
   "source": [
    "df_fuente['periodo'] = pd.to_datetime(\n",
    "    df_fuente['periodo'],format=\"%d/%m/%Y %H:%M\").dt.strftime(\"%Y-%m\")"
   ]
  },
  {
   "cell_type": "code",
   "execution_count": 7,
   "metadata": {},
   "outputs": [],
   "source": [
    "df_fuente.sort_values(by='periodo', ascending=True, inplace=True)"
   ]
  },
  {
   "cell_type": "code",
   "execution_count": 8,
   "metadata": {
    "id": "rD28nOKqsP-G"
   },
   "outputs": [],
   "source": [
    "# defino vectores de datos para serie 1\n",
    "y1 = df_fuente[df_fuente[\"fuente_generacion\"]==\"Renovable\"][\"potencia_instalada_mw\"]\n",
    "x1 = df_fuente[df_fuente[\"fuente_generacion\"]==\"Renovable\"][\"periodo\"]\n",
    "# defino vectores de datos para serie 2\n",
    "y2 = df_fuente[df_fuente[\"fuente_generacion\"]==\"Térmica\"][\"potencia_instalada_mw\"]\n",
    "x2 = df_fuente[df_fuente[\"fuente_generacion\"]==\"Térmica\"][\"periodo\"]"
   ]
  },
  {
   "cell_type": "markdown",
   "metadata": {
    "id": "zNxg0_4psP-R"
   },
   "source": [
    "### Matplotlib: ejercicio"
   ]
  },
  {
   "cell_type": "markdown",
   "metadata": {},
   "source": [
    "Practiquemos Matplotlib! Usando los vectores que acabamos de definir, construyamos un gráfico de linea con dos series: una graficando la evolución de producción energética de fuente renovable y otra de fuente térmica. El gráfico debe contener:\n",
    "- serie con datos de fuente renovable\n",
    "- serie con datos de fuente térmica\n",
    "- los ejes deben tener títulos\n",
    "- el gráfico debe tener título\n",
    "- rotar los ticks del eje x para que estén verticales\n",
    "- usar distintos colores para cada tipo de fuente, e incluir una leyenda describiendo éstos"
   ]
  },
  {
   "cell_type": "markdown",
   "metadata": {},
   "source": [
    "### Ejemplo"
   ]
  },
  {
   "cell_type": "code",
   "execution_count": 65,
   "metadata": {},
   "outputs": [
    {
     "data": {
      "image/png": "[encoded data removed]",
      "text/plain": [
       "<Figure size 432x288 with 1 Axes>"
      ]
     },
     "metadata": {
      "needs_background": "light"
     },
     "output_type": "display_data"
    }
   ],
   "source": [
    "# creo el grafico\n",
    "plt.plot(x1,y1, label='Renovable', linestyle='--', linewidth=3) # serie 1\n",
    "plt.plot(x2, y2, label='Térmica', linestyle='-.', linewidth=3) # serie 2 sobre mismos ejes\n",
    "\n",
    "# modifico labels\n",
    "plt.xlabel('Periodo',color='darkgrey')\n",
    "plt.ylabel('Potencia Instalada (MW)',color='darkgrey')\n",
    "\n",
    "\n",
    "tick_list = [\n",
    "    '2015-12',\n",
    "    '2016-03','2016-06','2016-09','2016-12',\n",
    "    '2017-03','2017-06','2017-09','2017-12',\n",
    "    '2018-03','2018-06','2018-09','2018-12'\n",
    "]\n",
    "plt.xticks(tick_list, rotation=45, horizontalalignment=\"right\")\n",
    "\n",
    "# agregamos linea horizontal con potencia termica promedio\n",
    "y2_promedio = y2.mean()\n",
    "plt.axhline(y2_promedio,\n",
    "    alpha=0.8, color='orange', \n",
    "    linestyle=':',linewidth=2)\n",
    "\n",
    "# escribo sobre el gráfico\n",
    "plt.annotate('Promedio', ('2018-06', y2_promedio-1400), color='orange')\n",
    "\n",
    "# apagamos los \"spines\"\n",
    "# plt.gca() trae las propiedades del current axes\n",
    "plt.gca().spines['top'].set_visible(False) \n",
    "plt.gca().spines['right'].set_visible(False)\n",
    "\n",
    "plt.title(\"Producción Energética Argentina\",\n",
    "          fontdict={\n",
    "              'size':16,\n",
    "              'color': 'darkred',\n",
    "              'weight': 'bold'\n",
    "          })\n",
    "# agrego leyenda\n",
    "plt.legend()\n",
    "plt.show() #esto es necesario para visualizar"
   ]
  },
  {
   "cell_type": "markdown",
   "metadata": {},
   "source": [
    "Acá link a un post donde explica comandos simples para mejorar los gráficos:  \n",
    "https://towardsdatascience.com/simple-ways-to-improve-your-matplotlib-b64eebccfd5"
   ]
  }
 ],
 "metadata": {
  "anaconda-cloud": {},
  "colab": {
   "name": "Clase 4 - asincronica.ipynb",
   "provenance": []
  },
  "kernelspec": {
   "display_name": "Python 3 (ipykernel)",
   "language": "python",
   "name": "python3"
  },
  "language_info": {
   "codemirror_mode": {
    "name": "ipython",
    "version": 3
   },
   "file_extension": ".py",
   "mimetype": "text/x-python",
   "name": "python",
   "nbconvert_exporter": "python",
   "pygments_lexer": "ipython3",
   "version": "3.9.12"
  }
 },
 "nbformat": 4,
 "nbformat_minor": 4
}

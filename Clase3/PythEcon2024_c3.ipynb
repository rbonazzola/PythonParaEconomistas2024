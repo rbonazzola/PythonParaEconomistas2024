{
 "cells": [
  {
   "cell_type": "markdown",
   "metadata": {},
   "source": [
    "# Python para Economistas - Clase 3"
   ]
  },
  {
   "cell_type": "markdown",
   "metadata": {},
   "source": [
    "**Plan de clase:**  \n",
    "**(1)** GitHub para entregar tarea \\\n",
    "**(2)** Repaso de `Pandas` \\\n",
    "**(3)** `Pandas`: temas nuevos \\\n",
    "**(4)** `Matplotlib` \\\n",
    "**(5)** Ejercicios"
   ]
  },
  {
   "cell_type": "markdown",
   "metadata": {},
   "source": [
    "___\n",
    "## (1) GitHub\n",
    "\n",
    "A partir de esta clase, **los trabajos prácticos se entregarán a través de GitHub** (ya no a través de Slack).\\\n",
    "Supondremos que ya tienen una cuenta personal de GitHub. Vamos a ver:\n",
    "\n",
    "\n",
    " **(a)** Cómo crear un repo privado: https://docs.github.com/en/get-started/quickstart/create-a-repo  \n",
    " **(b)** Cómo agregar colaboradores: https://docs.github.com/en/account-and-profile/setting-up-and-managing-your-github-user-account/managing-access-to-your-personal-repositories/inviting-collaborators-to-a-personal-repository  \n",
    " **(c)** Clonar repo en computadora  \n",
    " **(d)** Comandos nuevos: `status`, `add`, `commit`, `push` y `log`.\n",
    " \n",
    " _Sólo si es necesario: https://docs.github.com/en/authentication/keeping-your-account-and-data-secure/creating-a-personal-access-token_"
   ]
  },
  {
   "cell_type": "markdown",
   "metadata": {},
   "source": [
    "Los nombres de usuario de GitHub de los profesores están en el notebook correspondiente al trabajo práctico."
   ]
  },
  {
   "cell_type": "markdown",
   "metadata": {},
   "source": [
    "___"
   ]
  },
  {
   "cell_type": "markdown",
   "metadata": {},
   "source": [
    "**_Recordatorio:_**\n",
    "Como siempre, para seguir esta clase, pueden ejecutar `git pull` para bajarse este notebook. Recuerden guardar los cambios en los archivos del repositorio que hayan modificado (y que quieran preservar) con \"Save as...\", luego ejecutar `git reset --hard` para volver los archivos al estado original y así evitar conflictos al hacer el pull."
   ]
  },
  {
   "cell_type": "markdown",
   "metadata": {
    "id": "EcNl9ORpsP9e"
   },
   "source": [
    "___\n",
    "## (2) Repaso de Pandas\n",
    "Vamos a trabajar sobre un archivo CSV que contiene una serie temporal con la potencia de distintas centrales eléctricas de Argentina.\n",
    "\n",
    "- abrir archivos\n",
    "- inspeccionar los datos\n",
    "- crear columnas\n",
    "- seleccionar y dropear columnas\n",
    "- seleccionar segmentos de una base (filtrar, slice, loc)"
   ]
  },
  {
   "cell_type": "markdown",
   "metadata": {},
   "source": [
    "**(a)** cargar los datos en el archivo `potencia_instalada_mod.csv`. (_Nota: van a tener que definir el parámetro_ `encoding='latin1'`_)_  \n",
    "**(b)** identificar cuántas columnas y filas hay, cantidades según tipo de dato y si alguna tiene valores faltantes.  \n",
    "**(c)** inspeccionemos las primeras 5 líneas: ¿qué problema ven?  \n",
    "**(d)** armar un dataframe llamado `df` que tenga las siguientes columnas: periodo, el agente, la descripcion del agente, la fuente de generación y la potencia instalada.  \n",
    "**(e)** redondear la columna de potencia instalada al _entero más cercano_.  \n",
    "**(f)** cambiar el formato de la columna de potencia instalada a `int`. \\\n",
    "**(g)** cortar la base para quedarnos únicamente con las primeras 11497 filas"
   ]
  },
  {
   "cell_type": "code",
   "execution_count": null,
   "metadata": {},
   "outputs": [],
   "source": [
    "import pandas as pd"
   ]
  },
  {
   "cell_type": "code",
   "execution_count": null,
   "metadata": {},
   "outputs": [],
   "source": [
    "# a)"
   ]
  },
  {
   "cell_type": "code",
   "execution_count": null,
   "metadata": {},
   "outputs": [],
   "source": [
    "# b)"
   ]
  },
  {
   "cell_type": "code",
   "execution_count": null,
   "metadata": {},
   "outputs": [],
   "source": [
    "# c)"
   ]
  },
  {
   "cell_type": "code",
   "execution_count": null,
   "metadata": {},
   "outputs": [],
   "source": [
    "# d)"
   ]
  },
  {
   "cell_type": "code",
   "execution_count": null,
   "metadata": {},
   "outputs": [],
   "source": [
    "# e)"
   ]
  },
  {
   "cell_type": "code",
   "execution_count": null,
   "metadata": {},
   "outputs": [],
   "source": [
    "# f)"
   ]
  },
  {
   "cell_type": "code",
   "execution_count": null,
   "metadata": {},
   "outputs": [],
   "source": [
    "# g)"
   ]
  },
  {
   "cell_type": "code",
   "execution_count": null,
   "metadata": {},
   "outputs": [],
   "source": []
  },
  {
   "cell_type": "markdown",
   "metadata": {},
   "source": [
    "___\n",
    "## (3) Pandas: temas nuevos"
   ]
  },
  {
   "cell_type": "markdown",
   "metadata": {},
   "source": [
    "### Operaciones a nivel de grupos"
   ]
  },
  {
   "cell_type": "markdown",
   "metadata": {},
   "source": [
    "Si queremos agrupar nuestras filas de acuerdo al valor de alguna columna (o conjunto de columnas), debemos usar el método `.groupby()`.\n",
    "\n",
    "Usemos esto para calcular:\n",
    "1) la potencia total instalada en el primer período, para cada tipo de fuente de energía (_ayuda: tener en cuenta que las filas están ordenadas cronológicamente_).\n",
    "2) la potencia total instalada para cada período, para cada tipo de energía."
   ]
  },
  {
   "cell_type": "code",
   "execution_count": null,
   "metadata": {},
   "outputs": [],
   "source": [
    "# 1.\n",
    "# primer_periodo_df = ..."
   ]
  },
  {
   "cell_type": "code",
   "execution_count": null,
   "metadata": {},
   "outputs": [],
   "source": []
  },
  {
   "cell_type": "code",
   "execution_count": null,
   "metadata": {},
   "outputs": [],
   "source": []
  },
  {
   "cell_type": "code",
   "execution_count": null,
   "metadata": {},
   "outputs": [],
   "source": [
    "# 2.\n",
    "# todos_los_periodos_df = ..."
   ]
  },
  {
   "cell_type": "code",
   "execution_count": null,
   "metadata": {},
   "outputs": [],
   "source": []
  },
  {
   "cell_type": "code",
   "execution_count": null,
   "metadata": {},
   "outputs": [],
   "source": []
  },
  {
   "cell_type": "code",
   "execution_count": null,
   "metadata": {},
   "outputs": [],
   "source": []
  },
  {
   "cell_type": "markdown",
   "metadata": {},
   "source": [
    "___"
   ]
  },
  {
   "cell_type": "markdown",
   "metadata": {},
   "source": [
    "### Unir dataframes"
   ]
  },
  {
   "cell_type": "markdown",
   "metadata": {},
   "source": [
    "Para unir dataframes, utilizamos los métodos `.concat()` y `.merge()`. \n",
    "\n",
    "Hagamos entre todos lo siguientes ejercicios:\n",
    " 1) Extraer los datos correspondientes al primer período y al último período, en dos Dataframes. Luego, unir los dos Dataframes con `.concat()`.\n",
    " 2) Agregar como columna, para todas las filas, la potencia instala en el primer período para la fuente de energía correspondiente, `pot_1er_periodo`. Luego, calcular la diferencia entre la potencia instalada y la correspondiente al primer período, y agregarlo como una nueva columna, `diferencia`. "
   ]
  },
  {
   "cell_type": "code",
   "execution_count": null,
   "metadata": {},
   "outputs": [],
   "source": [
    "# 1. \n",
    "# primer_periodo_df = ... \n",
    "# ultimo_periodo_df = ..."
   ]
  },
  {
   "cell_type": "code",
   "execution_count": null,
   "metadata": {},
   "outputs": [],
   "source": [
    "# 2. \n",
    "# df_por_fuente = ..."
   ]
  },
  {
   "cell_type": "code",
   "execution_count": null,
   "metadata": {},
   "outputs": [],
   "source": []
  },
  {
   "cell_type": "code",
   "execution_count": null,
   "metadata": {},
   "outputs": [],
   "source": []
  },
  {
   "cell_type": "markdown",
   "metadata": {
    "id": "59PJh-FGsP9g"
   },
   "source": [
    "___\n",
    "## (4) Matplotlib"
   ]
  },
  {
   "cell_type": "markdown",
   "metadata": {},
   "source": [
    "Para instalar `matplotlib` (no viene con Python por defecto), pueden usar `conda` o `pip`:\n",
    "\n",
    "     conda install matplotlib -c anaconda\n",
    "\n",
    "o\n",
    "    `pip install matplotlib`\n",
    "    "
   ]
  },
  {
   "cell_type": "markdown",
   "metadata": {},
   "source": [
    "Ver la [Galería de Matplotlib](https://matplotlib.org/stable/gallery/index.html)"
   ]
  },
  {
   "cell_type": "code",
   "execution_count": null,
   "metadata": {},
   "outputs": [],
   "source": [
    "import numpy as np\n",
    "import matplotlib.pyplot as plt"
   ]
  },
  {
   "cell_type": "code",
   "execution_count": null,
   "metadata": {},
   "outputs": [],
   "source": [
    "x = np.random.rand(10)\n",
    "y = np.random.randn(10)"
   ]
  },
  {
   "cell_type": "code",
   "execution_count": null,
   "metadata": {},
   "outputs": [],
   "source": [
    "# Para generar una figura con varios ejes:\n",
    "fig, ax = plt.subplots(2,2, figsize=(6, 6))\n",
    "ax[0,0].plot(x)\n",
    "ax[0,1].plot(np.sort(x))\n",
    "ax[1,0].plot(y)\n",
    "ax[1,1].plot(np.sort(y))"
   ]
  },
  {
   "cell_type": "code",
   "execution_count": null,
   "metadata": {},
   "outputs": [],
   "source": [
    "plt.plot(x, y)\n",
    "plt.show()"
   ]
  },
  {
   "cell_type": "code",
   "execution_count": null,
   "metadata": {},
   "outputs": [],
   "source": [
    "plt.scatter(x, y)\n",
    "plt.show()"
   ]
  },
  {
   "cell_type": "code",
   "execution_count": null,
   "metadata": {},
   "outputs": [],
   "source": [
    "plt.plot(x, y, marker=\"o\", color=\"k\", linestyle=\"-.\")\n",
    "plt.xlabel(\"Eje X\")\n",
    "plt.ylabel(\"Eje Y\")\n",
    "plt.title(\"Gráfico de ejemplo\")\n",
    "plt.show()"
   ]
  },
  {
   "cell_type": "code",
   "execution_count": null,
   "metadata": {},
   "outputs": [],
   "source": [
    "plt.plot(x, y, marker=\"o\", color=\"k\", linestyle=\"-.\")\n",
    "plt.xticks(ticks=x, labels=range(10))\n",
    "plt.xlabel(\"Eje X\")\n",
    "plt.ylabel(\"Eje Y\")\n",
    "plt.title(\"Gráfico de ejemplo\")\n",
    "plt.show()"
   ]
  },
  {
   "cell_type": "markdown",
   "metadata": {},
   "source": [
    "### Preparamos los datos para graficar"
   ]
  },
  {
   "cell_type": "code",
   "execution_count": null,
   "metadata": {},
   "outputs": [],
   "source": [
    "import pandas as pd"
   ]
  },
  {
   "cell_type": "code",
   "execution_count": null,
   "metadata": {
    "tags": []
   },
   "outputs": [],
   "source": [
    "# Volvemos a correr el código de más arriba\n",
    "potencia_df = pd.read_csv(\"potencia_instalada_mod.csv\", encoding='latin1', sep=\"|\", index_col=\"Unnamed: 0\")\n",
    "potencia_df.index.name = \"indice\"\n",
    "columnas_deseadas = [\"periodo\", \"agente\", \"agente_descripcion\", \"fuente_generacion\", \"potencia_instalada_mw\"]\n",
    "df = potencia_df[columnas_deseadas]\n",
    "df.potencia_instalada_mw = round(df[\"potencia_instalada_mw\"]).astype(int)\n",
    "df = df.head(11497)"
   ]
  },
  {
   "cell_type": "code",
   "execution_count": null,
   "metadata": {
    "id": "BQPpEHl2sP-A",
    "outputId": "a9607410-79f8-4b6b-d01b-7278e03fd6e9"
   },
   "outputs": [],
   "source": [
    "# Volvemos a generar el dataframe agrupado por periodo/fuente\n",
    "df_fuente = df.groupby(by=[\"periodo\", \"fuente_generacion\"]).agg({'potencia_instalada_mw': 'sum'})\n",
    "df_fuente = df_fuente.reset_index()\n",
    "df_fuente.head()"
   ]
  },
  {
   "cell_type": "markdown",
   "metadata": {},
   "source": [
    "Veamos esta columna de tiempo"
   ]
  },
  {
   "cell_type": "code",
   "execution_count": null,
   "metadata": {},
   "outputs": [],
   "source": [
    "df_fuente['periodo']"
   ]
  },
  {
   "cell_type": "markdown",
   "metadata": {},
   "source": [
    "Para cambiar de `str` a `datetime` podemos usar nuevamente `pd.to_datetime`. Para especificar formato ver: https://docs.python.org/3/library/datetime.html#strftime-and-strptime-behavior"
   ]
  },
  {
   "cell_type": "code",
   "execution_count": null,
   "metadata": {},
   "outputs": [],
   "source": [
    "pd.to_datetime(df_fuente['periodo'], format=\"%d/%m/%Y %H:%M\")"
   ]
  },
  {
   "cell_type": "markdown",
   "metadata": {},
   "source": [
    "Para transformar y realizar operaciones sobre datos de tiempo podemos usar la librería datetime."
   ]
  },
  {
   "cell_type": "code",
   "execution_count": null,
   "metadata": {},
   "outputs": [],
   "source": [
    "pd.to_datetime(df_fuente['periodo'],format=\"%d/%m/%Y %H:%M\").dt.strftime(\"%Y-%m\")"
   ]
  },
  {
   "cell_type": "code",
   "execution_count": null,
   "metadata": {},
   "outputs": [],
   "source": [
    "df_fuente['periodo'] = pd.to_datetime(df_fuente['periodo'],format=\"%d/%m/%Y %H:%M\").dt.strftime(\"%Y-%m\")"
   ]
  },
  {
   "cell_type": "code",
   "execution_count": null,
   "metadata": {},
   "outputs": [],
   "source": [
    "df_fuente = df_fuente.sort_values(by='periodo', ascending=True)"
   ]
  },
  {
   "cell_type": "code",
   "execution_count": null,
   "metadata": {},
   "outputs": [],
   "source": [
    "# defino vectores de datos para serie 1\n",
    "y1 = df_fuente.query('fuente_generacion == \"Renovable\"')[\"potencia_instalada_mw\"]\n",
    "x1 = df_fuente.query('fuente_generacion == \"Renovable\"')[\"periodo\"]\n",
    "# defino vectores de datos para serie 2\n",
    "y2 = df_fuente.query('fuente_generacion == \"Térmica\"')[\"potencia_instalada_mw\"]\n",
    "x2 = df_fuente.query('fuente_generacion == \"Térmica\"')[\"periodo\"]"
   ]
  },
  {
   "cell_type": "markdown",
   "metadata": {},
   "source": [
    "Ya está listo para graficar!"
   ]
  },
  {
   "cell_type": "markdown",
   "metadata": {},
   "source": [
    "___"
   ]
  },
  {
   "cell_type": "markdown",
   "metadata": {
    "id": "zNxg0_4psP-R"
   },
   "source": [
    "### Matplotlib: ejercicio"
   ]
  },
  {
   "cell_type": "markdown",
   "metadata": {},
   "source": [
    "Practiquemos Matplotlib! Usando los vectores que acabamos de definir, construyamos un gráfico de linea con dos series: una graficando la evolución de producción energética de fuente renovable y otra de fuente térmica. El gráfico debe contener:\n",
    "- serie con datos de fuente renovable\n",
    "- serie con datos de fuente térmica\n",
    "- los ejes deben tener títulos\n",
    "- el gráfico debe tener título\n",
    "- rotar los ticks del eje x para que estén verticales\n",
    "- usar distintos colores para cada tipo de fuente, e incluir una leyenda describiendo éstos"
   ]
  },
  {
   "cell_type": "code",
   "execution_count": null,
   "metadata": {
    "id": "28firAFxsP-U",
    "outputId": "4a291a42-d5db-471c-ddc6-fc1b9dc0c3c4"
   },
   "outputs": [],
   "source": [
    "# plotear dos lineas, una para la fuente \"Renovable\" y otra para \"Térmica\"\n",
    "plt.figure(figsize=(12 , 5))\n",
    "# serie 1\n",
    "\n",
    "# serie 2 sobre mismos ejes\n",
    "\n",
    "# Modifiquen nombres de ejes y título\n",
    "\n",
    "# agregamos leyenda\n",
    "plt.legend()\n",
    "\n",
    "#show"
   ]
  },
  {
   "cell_type": "markdown",
   "metadata": {},
   "source": [
    "Acá link a un post que explica algunos comandos simples para mejorar los gráficos:  \n",
    "https://towardsdatascience.com/simple-ways-to-improve-your-matplotlib-b64eebccfd5"
   ]
  }
 ],
 "metadata": {
  "anaconda-cloud": {},
  "colab": {
   "name": "Clase 4 - asincronica.ipynb",
   "provenance": []
  },
  "kernelspec": {
   "display_name": "Python 3 (ipykernel)",
   "language": "python",
   "name": "python3"
  },
  "language_info": {
   "codemirror_mode": {
    "name": "ipython",
    "version": 3
   },
   "file_extension": ".py",
   "mimetype": "text/x-python",
   "name": "python",
   "nbconvert_exporter": "python",
   "pygments_lexer": "ipython3",
   "version": "3.10.12"
  }
 },
 "nbformat": 4,
 "nbformat_minor": 4
}

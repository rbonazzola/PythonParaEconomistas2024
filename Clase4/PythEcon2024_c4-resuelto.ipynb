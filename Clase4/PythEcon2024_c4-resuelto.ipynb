{
 "cells": [
  {
   "cell_type": "markdown",
   "id": "e0cba9f8",
   "metadata": {},
   "source": [
    "# Clase Nº 4"
   ]
  },
  {
   "cell_type": "markdown",
   "id": "d7529f4f-9728-4679-b9ae-f7b62bff5864",
   "metadata": {},
   "source": [
    "Esta clase cayó en día feriado, por lo tanto no se hizo de manera sincrónica. \n",
    "\n",
    "Deben revisar este material por su cuenta, y podemos hacer una clase de consulta en la semana que comienza el 14/10.\n",
    "\n",
    "Como siempre, también pueden consultar por Slack (pueden usar el canal `#dudas-zoom` como solemos hacer para la clase sincrónica)"
   ]
  },
  {
   "cell_type": "markdown",
   "id": "ca6dacef",
   "metadata": {},
   "source": [
    "**Plan de la clase:**  \n",
    "**(1)** Revisión el cuestionario. <br>\n",
    "**(2)** Comentarios sobre la modalidad de entrega del TP4. <br>\n",
    "**(3)** Repasar `pandas` y `seaborn` (y widgets) <br>\n",
    "**(4)** Repasar expresiones regulares (y widgets) <br>\n",
    "**(5)** _Fuzzy matching_ (opcional por ahora)"
   ]
  },
  {
   "cell_type": "markdown",
   "id": "7fe4cefb-b09f-4fb3-9d86-3d81d6df71af",
   "metadata": {},
   "source": [
    "___"
   ]
  },
  {
   "cell_type": "markdown",
   "id": "f2e6c347",
   "metadata": {},
   "source": [
    "### Revisión del cuestionario"
   ]
  },
  {
   "cell_type": "markdown",
   "id": "6f0be954",
   "metadata": {},
   "source": [
    "#### Ayudamemoria\n",
    "**Algunos caracteres especiales:** <br>\n",
    "`\\d`: match cumando el string contiene digitos (equivalente a [0-9]) <br>\n",
    "`\\D`: match cuando el string NO contiene digitos <br>\n",
    "`\\s`: match cuando el string contiene un espacio en blanco <br>\n",
    "`\\S`: match cuando el string NO contiene un espacio en blanco <br>\n",
    "`\\w`: match cuando el string contiene caracteres de alfanuméricos o \"\\_\" <br>\n",
    "`\\W`: match cuando el string NO contiene caracteres de alfanuméricos o \"\\_\" <br>"
   ]
  },
  {
   "cell_type": "markdown",
   "id": "e761c802-7273-4082-99c5-90a5d3ad44ba",
   "metadata": {},
   "source": [
    "**Cuantificadores:** <br>\n",
    "`?`: matchea 0 ó 1 instancias del patrón que precede. <br>\n",
    "`*`: 0 o más. <br>\n",
    "`+`: 1 o más. <br>\n",
    "`{n}` (_este y los siguientes no los vimos en la asincrónica_): matchea `n` repeticiones. <br>\n",
    "`{m,}`: matchea al menos `m` repeticiones. <br>\n",
    "`{m,n}`: matches entre `m` y `n` repeticiones. <br>"
   ]
  },
  {
   "cell_type": "markdown",
   "id": "2394fa5e-870b-448a-97c3-877b83b83d40",
   "metadata": {},
   "source": [
    "___"
   ]
  },
  {
   "cell_type": "markdown",
   "id": "6ab0919f",
   "metadata": {},
   "source": [
    "Revisemos la pregunta 3 del cuestionario, que consistía de los siguientes dos incisos."
   ]
  },
  {
   "cell_type": "markdown",
   "id": "d18e4225",
   "metadata": {},
   "source": [
    "3) Escribir una expresión regular que matchee con:"
   ]
  },
  {
   "cell_type": "markdown",
   "id": "e5023aee",
   "metadata": {},
   "source": [
    "a.  un string que _contiene_ una letra `a` seguida de cualesquiera  caracteres, y termina en una letra `b`."
   ]
  },
  {
   "cell_type": "code",
   "execution_count": 1,
   "id": "a7c7c6c5-6559-430b-9441-3dd605ce7710",
   "metadata": {},
   "outputs": [],
   "source": [
    "import re"
   ]
  },
  {
   "cell_type": "code",
   "execution_count": 2,
   "id": "f13039e2-d4d2-4796-aed9-e7504507edc4",
   "metadata": {},
   "outputs": [],
   "source": [
    "strings_prueba = [\n",
    "    \"12ab091a00abaaba---b\",\n",
    "    \"12ab 091a00ab aab a---b\",\n",
    "    \"ab abc abecedario\"\n",
    "]"
   ]
  },
  {
   "cell_type": "code",
   "execution_count": 3,
   "id": "0bbb8233-617f-4075-a411-b04b8fe94c78",
   "metadata": {},
   "outputs": [
    {
     "name": "stdout",
     "output_type": "stream",
     "text": [
      "String de prueba: 12ab091a00abaaba---b\n",
      "  a.*b: ['ab091a00abaaba---b']\n",
      "  a.+b: ['ab091a00abaaba---b']\n",
      "  a.*?b: ['ab', 'a00ab', 'aab', 'a---b']\n",
      "  a.+?b: ['ab091a00ab', 'aab', 'a---b']\n",
      "  a\\w*b: ['ab091a00abaab']\n",
      "  a\\w+b: ['ab091a00abaab']\n",
      "  \\w*a\\w+b\\w*: ['12ab091a00abaaba']\n",
      "  [a].*[b]: ['ab091a00abaaba---b']\n",
      "\n",
      "String de prueba: 12ab 091a00ab aab a---b\n",
      "  a.*b: ['ab 091a00ab aab a---b']\n",
      "  a.+b: ['ab 091a00ab aab a---b']\n",
      "  a.*?b: ['ab', 'a00ab', 'aab', 'a---b']\n",
      "  a.+?b: ['ab 091a00ab', 'aab', 'a---b']\n",
      "  a\\w*b: ['ab', 'a00ab', 'aab']\n",
      "  a\\w+b: ['a00ab', 'aab']\n",
      "  \\w*a\\w+b\\w*: ['091a00ab', 'aab']\n",
      "  [a].*[b]: ['ab 091a00ab aab a---b']\n",
      "\n",
      "String de prueba: ab abc abecedario\n",
      "  a.*b: ['ab abc ab']\n",
      "  a.+b: ['ab abc ab']\n",
      "  a.*?b: ['ab', 'ab', 'ab']\n",
      "  a.+?b: ['ab ab']\n",
      "  a\\w*b: ['ab', 'ab', 'ab']\n",
      "  a\\w+b: []\n",
      "  \\w*a\\w+b\\w*: []\n",
      "  [a].*[b]: ['ab abc ab']\n",
      "\n"
     ]
    }
   ],
   "source": [
    "varias_regex = [\n",
    "  \"a.*b\", # correcto\n",
    "  \"a.+b\", # correcto, si interpretan que debe haber 1 o más \"cualesquiera caracteres\", esta sería la expresión regular correcta.\n",
    "  \"a.*?b\", # el ? permite que re.findall encuentre submatches dentro de un match grande (por defecto devuelve el grande)\n",
    "  \"a.+?b\", # ídem arriba, pero no encuentre el primer match, \"ab\", porque no hay caracteres entre la \"a\" y la \"b\n",
    "  \"a\\w*b\", # \\w sólo tiene en cuenta caracteres alfanuméricos\n",
    "  \"a\\w+b\", # ídem arriba, pero debe haber al menos un carácter alfanumérico\n",
    "  \"\\w*a\\w+b\\w*\", # para que matchee los caracteres alfanuméricos que puedan venir antes y después de la \"b\" (como el espacio no es un carácter alfanumérico, esto \"corta\" en palabras)\n",
    "  \"[a].*[b]\", # los corchetes alrededor de un solo caracter no son necesarios, normalmente se usan para conjuntos de varios posibles caracteres\n",
    "]\n",
    "\n",
    "for string_prueba in strings_prueba:\n",
    "    print(f\"String de prueba: {string_prueba}\")\n",
    "    for regex in varias_regex:\n",
    "        print(f\"  {regex}: {re.findall(regex, string_prueba)}\")\n",
    "    print()"
   ]
  },
  {
   "cell_type": "markdown",
   "id": "4e5c162b",
   "metadata": {},
   "source": [
    "b. un string que _contiene_ una o más letras `a` seguidas inmediatamente de cero o más dı́gitos."
   ]
  },
  {
   "cell_type": "markdown",
   "id": "5d271306-aefe-4da0-804c-9f831171e511",
   "metadata": {},
   "source": [
    "Las dos formas que encontré de interpretar esta consigna son las siguientes:\n",
    "- Las letras `a`'s pueden ser una o más pero van juntas. Ejemplos: `\"aaaa124324\"`, `\"a\"`, `\"aa\"`, `\"a12\"`. Esta es la interpretación más fácil de resolver.\n",
    "- _Cada letra_ `a` va seguida de cero o más digitos. Ejemplos: `\"a\"`, `\"a1a12a123\"`, `\"a125a1324a123\"` y `\"aa12\"`. Esta interpretación es más difícil, y requiere una forma de expresar la repetición de una expresión regular (lo cual no vimos en la asincrónica)."
   ]
  },
  {
   "cell_type": "markdown",
   "id": "3d3f5c3a-30dd-4ce6-a735-6e24f2c83a11",
   "metadata": {},
   "source": [
    "Veamos cómo resolver el **primer caso**:"
   ]
  },
  {
   "cell_type": "code",
   "execution_count": 4,
   "id": "2f572d68-9102-46b3-8c72-9ff3c5b3b57e",
   "metadata": {},
   "outputs": [
    {
     "name": "stdout",
     "output_type": "stream",
     "text": [
      "['a', 'aa']\n",
      "['a0000']\n",
      "['a', 'a0000']\n"
     ]
    }
   ],
   "source": [
    "regex = \"a+\\d*\"\n",
    "# regex1 = \"a+[0-9]*\" # equivalente\n",
    "# regex2 = \"a+[0123456789]*\" # otra regex equivalente\n",
    "\n",
    "algunos_strings = [\"asaas0000\", \"a0000\", \"aba0000\"]\n",
    "\n",
    "for string in algunos_strings:\n",
    "    print(re.findall(regex, string))"
   ]
  },
  {
   "cell_type": "markdown",
   "id": "d395a0a2-e448-44e0-8a2c-3486faed5204",
   "metadata": {},
   "source": [
    "Ahora, sólo por completitud, resolvamos el **segundo caso**. Este es más complicado y pueden saltearlo, ya que para hacerlo, necesitamos algo que no vimos.\n",
    "Para expresar la repetición de una expresión regular, necesitamos un cuantificador, en este caso puede ser el `+` para indicar que la regex debe repetirse una o más veces."
   ]
  },
  {
   "cell_type": "code",
   "execution_count": 60,
   "id": "e81a688d-7d45-4a73-8606-0bda446bbc8b",
   "metadata": {},
   "outputs": [
    {
     "name": "stdout",
     "output_type": "stream",
     "text": [
      "['a123']\n"
     ]
    }
   ],
   "source": [
    "pattern = r'(a\\d*)+'\n",
    "regex = re.compile(pattern)\n",
    "print(regex.findall(\"a125a1324a123\"))"
   ]
  },
  {
   "cell_type": "markdown",
   "id": "7a1ae606-0074-43f9-b72a-c6e82faad01e",
   "metadata": {},
   "source": [
    "Sin embargo, vemos que `findall` nos devuelve la última ocurrencia del patrón entre paréntesis, que es `'a123'` (esto es simplemente cómo funciona `findall`, devuelve el último grupo). Para evitar este comportamiento, podemos agregar `?:` al comienzo."
   ]
  },
  {
   "cell_type": "code",
   "execution_count": 59,
   "id": "e6b825d9-2b70-4530-a71b-b360deb57988",
   "metadata": {},
   "outputs": [
    {
     "name": "stdout",
     "output_type": "stream",
     "text": [
      "['a125a1324a123']\n"
     ]
    }
   ],
   "source": [
    "pattern = r'(?:a\\d*)+'\n",
    "regex = re.compile(pattern)\n",
    "print(regex.findall(\"a125a1324a123\"))"
   ]
  },
  {
   "cell_type": "markdown",
   "id": "4a19deea-4cb1-4521-a759-485e6cfaa76e",
   "metadata": {},
   "source": [
    "y ahora nos devuelve el match completo."
   ]
  },
  {
   "cell_type": "markdown",
   "id": "391132b5-4581-4da6-b933-c6fa812b9928",
   "metadata": {},
   "source": [
    "___"
   ]
  },
  {
   "cell_type": "markdown",
   "id": "73e3e7ef",
   "metadata": {},
   "source": [
    "## Modalidad de entrega del TP Nº4"
   ]
  },
  {
   "cell_type": "markdown",
   "id": "8d2d12f4",
   "metadata": {},
   "source": [
    "El próximo TP va a ser entregado nuevamente a través de GitHub, pero en este caso va ser **grupal**."
   ]
  },
  {
   "cell_type": "markdown",
   "id": "509e3c4a",
   "metadata": {},
   "source": [
    "Un miembro del grupo debe crear un repositorio en GitHub como se hizo en el TP3, y agregar como colaboradores a sus dos compañeros y a los docentes."
   ]
  },
  {
   "cell_type": "markdown",
   "id": "aa9cd35c",
   "metadata": {},
   "source": [
    "Un requisito va ser que cada miembro del grupo haga al menos un commit, con contribuciones sustanciales.\n",
    "Para esto es importante que tengan configurado su nombre de usuario de `git` con el mismo nombre que el de GitHub, así los podemos identificar fácilmente."
   ]
  },
  {
   "cell_type": "markdown",
   "id": "43e2b086-32bc-4367-ad33-ba8770b2f634",
   "metadata": {},
   "source": [
    "___"
   ]
  },
  {
   "cell_type": "markdown",
   "id": "35a00fb2",
   "metadata": {},
   "source": [
    "## Pandas y Seaborn"
   ]
  },
  {
   "cell_type": "markdown",
   "id": "2b06c68c",
   "metadata": {},
   "source": [
    "### Reformateo de `DataFrame`'s"
   ]
  },
  {
   "cell_type": "markdown",
   "id": "145b133b",
   "metadata": {},
   "source": [
    "Sigamos trabajando con el DataFrame de centrales eléctricas."
   ]
  },
  {
   "cell_type": "code",
   "execution_count": 6,
   "id": "1ba5b6ee-f043-42e7-a363-942508fb6fbe",
   "metadata": {},
   "outputs": [],
   "source": [
    "import pandas as pd"
   ]
  },
  {
   "cell_type": "code",
   "execution_count": 7,
   "id": "2760fe82",
   "metadata": {},
   "outputs": [],
   "source": [
    "potencia_df = pd.read_csv(\"archivos/potencia_instalada_mod.csv\", sep=\"|\", encoding=\"latin1\")"
   ]
  },
  {
   "cell_type": "code",
   "execution_count": 8,
   "id": "3ec31a9d",
   "metadata": {},
   "outputs": [
    {
     "data": {
      "text/plain": [
       "region\n",
       "NOROESTE         2740\n",
       "BUENOS AIRES     2283\n",
       "CENTRO           1880\n",
       "CUYO             1809\n",
       "COMAHUE          1642\n",
       "GRAN BS.AS.      1532\n",
       "NORESTE          1374\n",
       "LITORAL           971\n",
       "PATAGONICA        958\n",
       "GENERAC MOVIL     580\n",
       "(en blanco)        24\n",
       "Name: count, dtype: int64"
      ]
     },
     "execution_count": 8,
     "metadata": {},
     "output_type": "execute_result"
    }
   ],
   "source": [
    "potencia_df.region.value_counts()"
   ]
  },
  {
   "cell_type": "code",
   "execution_count": 9,
   "id": "177d0f8b",
   "metadata": {},
   "outputs": [
    {
     "data": {
      "text/plain": [
       "fuente_generacion\n",
       "Térmica       11191\n",
       "Renovable      3186\n",
       "Hidráulica     1266\n",
       "Nuclear         150\n",
       "Name: count, dtype: int64"
      ]
     },
     "execution_count": 9,
     "metadata": {},
     "output_type": "execute_result"
    }
   ],
   "source": [
    "potencia_df.fuente_generacion.value_counts()"
   ]
  },
  {
   "cell_type": "markdown",
   "id": "4129d9c0",
   "metadata": {},
   "source": [
    "1. Primero, calculemos la potencia total instalada en cada región en un período dado, haciendo un `groupby` y usando la función de agregación adecuada."
   ]
  },
  {
   "cell_type": "code",
   "execution_count": 10,
   "id": "866f06f0-58ef-4eae-871d-f735ebccf386",
   "metadata": {},
   "outputs": [],
   "source": [
    "potencia_df['periodo_formateado'] = pd.to_datetime(potencia_df['periodo'],format=\"%d/%m/%Y %H:%M\").dt.strftime(\"%Y-%m\") "
   ]
  },
  {
   "cell_type": "code",
   "execution_count": 11,
   "id": "c9cbde55-238d-4d15-a9b2-e34e136cf301",
   "metadata": {},
   "outputs": [],
   "source": [
    "df = potencia_df.groupby(by=[\"periodo_formateado\", \"region\"]).agg({'potencia_instalada_mw': 'sum'}).reset_index()"
   ]
  },
  {
   "cell_type": "code",
   "execution_count": 12,
   "id": "56cf85c8",
   "metadata": {},
   "outputs": [
    {
     "data": {
      "text/html": [
       "<div>\n",
       "<style scoped>\n",
       "    .dataframe tbody tr th:only-of-type {\n",
       "        vertical-align: middle;\n",
       "    }\n",
       "\n",
       "    .dataframe tbody tr th {\n",
       "        vertical-align: top;\n",
       "    }\n",
       "\n",
       "    .dataframe thead th {\n",
       "        text-align: right;\n",
       "    }\n",
       "</style>\n",
       "<table border=\"1\" class=\"dataframe\">\n",
       "  <thead>\n",
       "    <tr style=\"text-align: right;\">\n",
       "      <th></th>\n",
       "      <th>periodo_formateado</th>\n",
       "      <th>region</th>\n",
       "      <th>potencia_instalada_mw</th>\n",
       "    </tr>\n",
       "  </thead>\n",
       "  <tbody>\n",
       "    <tr>\n",
       "      <th>0</th>\n",
       "      <td>2015-10</td>\n",
       "      <td>(en blanco)</td>\n",
       "      <td>558.097</td>\n",
       "    </tr>\n",
       "    <tr>\n",
       "      <th>1</th>\n",
       "      <td>2015-10</td>\n",
       "      <td>BUENOS AIRES</td>\n",
       "      <td>5530.320</td>\n",
       "    </tr>\n",
       "    <tr>\n",
       "      <th>2</th>\n",
       "      <td>2015-10</td>\n",
       "      <td>CENTRO</td>\n",
       "      <td>2911.284</td>\n",
       "    </tr>\n",
       "    <tr>\n",
       "      <th>3</th>\n",
       "      <td>2015-10</td>\n",
       "      <td>COMAHUE</td>\n",
       "      <td>6279.200</td>\n",
       "    </tr>\n",
       "    <tr>\n",
       "      <th>4</th>\n",
       "      <td>2015-10</td>\n",
       "      <td>CUYO</td>\n",
       "      <td>1664.430</td>\n",
       "    </tr>\n",
       "  </tbody>\n",
       "</table>\n",
       "</div>"
      ],
      "text/plain": [
       "  periodo_formateado        region  potencia_instalada_mw\n",
       "0            2015-10   (en blanco)                558.097\n",
       "1            2015-10  BUENOS AIRES               5530.320\n",
       "2            2015-10        CENTRO               2911.284\n",
       "3            2015-10       COMAHUE               6279.200\n",
       "4            2015-10          CUYO               1664.430"
      ]
     },
     "execution_count": 12,
     "metadata": {},
     "output_type": "execute_result"
    }
   ],
   "source": [
    "df.head()"
   ]
  },
  {
   "cell_type": "markdown",
   "id": "3122611e",
   "metadata": {},
   "source": [
    "2. Luego, formateemos el `DataFrame` de manera que los nombres de las regiones sean ahora los nombres de nuevas columnas, y el contenido de la celda sea la potencia instalada en esa región en el período correspondiente (dado en filas). <br>\n",
    "Hay que ir de un formato \"largo\" a uno \"ancho\".\n",
    "Pueden consultar la documentación acerca de reformateo de dataframes aquí: https://pandas.pydata.org/pandas-docs/stable/user_guide/reshaping.html, para ver qué método necesitarían usar."
   ]
  },
  {
   "cell_type": "markdown",
   "id": "7248714a-712b-4060-8c79-8595e7147ae6",
   "metadata": {},
   "source": [
    "Lo que necesitamos es `.pivot`:"
   ]
  },
  {
   "cell_type": "code",
   "execution_count": 13,
   "id": "c32263b3",
   "metadata": {},
   "outputs": [],
   "source": [
    "df_pivoteado = df.pivot(index = \"periodo_formateado\", columns='region', values=\"potencia_instalada_mw\") \n",
    "df_pivoteado = df_pivoteado.drop(\"(en blanco)\", axis=1)"
   ]
  },
  {
   "cell_type": "code",
   "execution_count": 14,
   "id": "2f560917-20ad-4d06-a1fa-86ec374820ae",
   "metadata": {},
   "outputs": [
    {
     "data": {
      "text/html": [
       "<div>\n",
       "<style scoped>\n",
       "    .dataframe tbody tr th:only-of-type {\n",
       "        vertical-align: middle;\n",
       "    }\n",
       "\n",
       "    .dataframe tbody tr th {\n",
       "        vertical-align: top;\n",
       "    }\n",
       "\n",
       "    .dataframe thead th {\n",
       "        text-align: right;\n",
       "    }\n",
       "</style>\n",
       "<table border=\"1\" class=\"dataframe\">\n",
       "  <thead>\n",
       "    <tr style=\"text-align: right;\">\n",
       "      <th>region</th>\n",
       "      <th>BUENOS AIRES</th>\n",
       "      <th>CENTRO</th>\n",
       "      <th>COMAHUE</th>\n",
       "      <th>CUYO</th>\n",
       "      <th>GENERAC MOVIL</th>\n",
       "      <th>GRAN BS.AS.</th>\n",
       "      <th>LITORAL</th>\n",
       "      <th>NORESTE</th>\n",
       "      <th>NOROESTE</th>\n",
       "      <th>PATAGONICA</th>\n",
       "    </tr>\n",
       "    <tr>\n",
       "      <th>periodo_formateado</th>\n",
       "      <th></th>\n",
       "      <th></th>\n",
       "      <th></th>\n",
       "      <th></th>\n",
       "      <th></th>\n",
       "      <th></th>\n",
       "      <th></th>\n",
       "      <th></th>\n",
       "      <th></th>\n",
       "      <th></th>\n",
       "    </tr>\n",
       "  </thead>\n",
       "  <tbody>\n",
       "    <tr>\n",
       "      <th>2018-01</th>\n",
       "      <td>6426.369</td>\n",
       "      <td>3210.920</td>\n",
       "      <td>6788.40</td>\n",
       "      <td>1761.11</td>\n",
       "      <td>199.536</td>\n",
       "      <td>7363.988</td>\n",
       "      <td>3275.48</td>\n",
       "      <td>3080.866</td>\n",
       "      <td>3374.494</td>\n",
       "      <td>1243.90</td>\n",
       "    </tr>\n",
       "    <tr>\n",
       "      <th>2018-02</th>\n",
       "      <td>6549.953</td>\n",
       "      <td>3210.920</td>\n",
       "      <td>6788.40</td>\n",
       "      <td>1761.11</td>\n",
       "      <td>NaN</td>\n",
       "      <td>7373.444</td>\n",
       "      <td>3447.48</td>\n",
       "      <td>3080.866</td>\n",
       "      <td>3401.472</td>\n",
       "      <td>1243.90</td>\n",
       "    </tr>\n",
       "    <tr>\n",
       "      <th>2018-03</th>\n",
       "      <td>6557.953</td>\n",
       "      <td>3210.920</td>\n",
       "      <td>6788.40</td>\n",
       "      <td>1761.11</td>\n",
       "      <td>NaN</td>\n",
       "      <td>7373.444</td>\n",
       "      <td>3727.48</td>\n",
       "      <td>3080.866</td>\n",
       "      <td>3405.062</td>\n",
       "      <td>1280.90</td>\n",
       "    </tr>\n",
       "    <tr>\n",
       "      <th>2018-04</th>\n",
       "      <td>6755.053</td>\n",
       "      <td>3210.920</td>\n",
       "      <td>6788.40</td>\n",
       "      <td>1761.11</td>\n",
       "      <td>NaN</td>\n",
       "      <td>7373.444</td>\n",
       "      <td>3727.48</td>\n",
       "      <td>3080.866</td>\n",
       "      <td>3405.062</td>\n",
       "      <td>1280.90</td>\n",
       "    </tr>\n",
       "    <tr>\n",
       "      <th>2018-05</th>\n",
       "      <td>6769.893</td>\n",
       "      <td>3210.920</td>\n",
       "      <td>6788.40</td>\n",
       "      <td>1761.59</td>\n",
       "      <td>NaN</td>\n",
       "      <td>7627.444</td>\n",
       "      <td>3727.48</td>\n",
       "      <td>3080.866</td>\n",
       "      <td>3405.562</td>\n",
       "      <td>1280.90</td>\n",
       "    </tr>\n",
       "    <tr>\n",
       "      <th>2018-06</th>\n",
       "      <td>6869.893</td>\n",
       "      <td>3210.920</td>\n",
       "      <td>6788.40</td>\n",
       "      <td>1761.59</td>\n",
       "      <td>NaN</td>\n",
       "      <td>7627.444</td>\n",
       "      <td>3727.48</td>\n",
       "      <td>3080.866</td>\n",
       "      <td>3405.562</td>\n",
       "      <td>1302.90</td>\n",
       "    </tr>\n",
       "    <tr>\n",
       "      <th>2018-07</th>\n",
       "      <td>6874.593</td>\n",
       "      <td>3244.139</td>\n",
       "      <td>6848.40</td>\n",
       "      <td>1761.59</td>\n",
       "      <td>NaN</td>\n",
       "      <td>7627.444</td>\n",
       "      <td>3727.48</td>\n",
       "      <td>3080.866</td>\n",
       "      <td>3405.562</td>\n",
       "      <td>1352.40</td>\n",
       "    </tr>\n",
       "    <tr>\n",
       "      <th>2018-08</th>\n",
       "      <td>6975.393</td>\n",
       "      <td>3244.139</td>\n",
       "      <td>6848.40</td>\n",
       "      <td>1761.59</td>\n",
       "      <td>NaN</td>\n",
       "      <td>7627.444</td>\n",
       "      <td>3727.48</td>\n",
       "      <td>3080.866</td>\n",
       "      <td>3405.562</td>\n",
       "      <td>1352.40</td>\n",
       "    </tr>\n",
       "    <tr>\n",
       "      <th>2018-09</th>\n",
       "      <td>7129.503</td>\n",
       "      <td>3293.339</td>\n",
       "      <td>6848.40</td>\n",
       "      <td>1763.29</td>\n",
       "      <td>NaN</td>\n",
       "      <td>7627.444</td>\n",
       "      <td>3727.48</td>\n",
       "      <td>3080.866</td>\n",
       "      <td>3405.562</td>\n",
       "      <td>1352.40</td>\n",
       "    </tr>\n",
       "    <tr>\n",
       "      <th>2019-01</th>\n",
       "      <td>7136.353</td>\n",
       "      <td>3316.539</td>\n",
       "      <td>6848.40</td>\n",
       "      <td>1845.29</td>\n",
       "      <td>NaN</td>\n",
       "      <td>7627.444</td>\n",
       "      <td>3727.48</td>\n",
       "      <td>3064.366</td>\n",
       "      <td>3447.062</td>\n",
       "      <td>1525.95</td>\n",
       "    </tr>\n",
       "    <tr>\n",
       "      <th>2019-04</th>\n",
       "      <td>7166.003</td>\n",
       "      <td>3320.539</td>\n",
       "      <td>6888.00</td>\n",
       "      <td>1925.29</td>\n",
       "      <td>NaN</td>\n",
       "      <td>7632.744</td>\n",
       "      <td>3733.78</td>\n",
       "      <td>3064.366</td>\n",
       "      <td>3489.062</td>\n",
       "      <td>1702.35</td>\n",
       "    </tr>\n",
       "    <tr>\n",
       "      <th>2019-05</th>\n",
       "      <td>7263.503</td>\n",
       "      <td>3370.039</td>\n",
       "      <td>6888.00</td>\n",
       "      <td>1898.29</td>\n",
       "      <td>NaN</td>\n",
       "      <td>7632.744</td>\n",
       "      <td>3733.78</td>\n",
       "      <td>3064.366</td>\n",
       "      <td>3489.062</td>\n",
       "      <td>1702.35</td>\n",
       "    </tr>\n",
       "    <tr>\n",
       "      <th>2019-06</th>\n",
       "      <td>7270.703</td>\n",
       "      <td>3370.039</td>\n",
       "      <td>6888.00</td>\n",
       "      <td>1911.79</td>\n",
       "      <td>NaN</td>\n",
       "      <td>7837.804</td>\n",
       "      <td>3733.78</td>\n",
       "      <td>3064.366</td>\n",
       "      <td>3489.062</td>\n",
       "      <td>1702.35</td>\n",
       "    </tr>\n",
       "    <tr>\n",
       "      <th>2019-07</th>\n",
       "      <td>14668.466</td>\n",
       "      <td>6740.078</td>\n",
       "      <td>13978.80</td>\n",
       "      <td>3836.58</td>\n",
       "      <td>NaN</td>\n",
       "      <td>15675.608</td>\n",
       "      <td>7467.56</td>\n",
       "      <td>6128.732</td>\n",
       "      <td>7138.124</td>\n",
       "      <td>3404.70</td>\n",
       "    </tr>\n",
       "    <tr>\n",
       "      <th>2019-08</th>\n",
       "      <td>7293.689</td>\n",
       "      <td>3308.555</td>\n",
       "      <td>7001.10</td>\n",
       "      <td>1918.29</td>\n",
       "      <td>NaN</td>\n",
       "      <td>7828.348</td>\n",
       "      <td>3733.78</td>\n",
       "      <td>3061.494</td>\n",
       "      <td>3542.624</td>\n",
       "      <td>1702.35</td>\n",
       "    </tr>\n",
       "    <tr>\n",
       "      <th>2019-09</th>\n",
       "      <td>14670.978</td>\n",
       "      <td>6628.062</td>\n",
       "      <td>14002.20</td>\n",
       "      <td>3833.22</td>\n",
       "      <td>NaN</td>\n",
       "      <td>15606.696</td>\n",
       "      <td>7467.56</td>\n",
       "      <td>6122.988</td>\n",
       "      <td>7113.248</td>\n",
       "      <td>3762.30</td>\n",
       "    </tr>\n",
       "    <tr>\n",
       "      <th>2019-11</th>\n",
       "      <td>7357.209</td>\n",
       "      <td>3082.031</td>\n",
       "      <td>6989.80</td>\n",
       "      <td>1981.93</td>\n",
       "      <td>NaN</td>\n",
       "      <td>7803.348</td>\n",
       "      <td>3733.78</td>\n",
       "      <td>3061.494</td>\n",
       "      <td>3561.510</td>\n",
       "      <td>1964.35</td>\n",
       "    </tr>\n",
       "    <tr>\n",
       "      <th>2019-12</th>\n",
       "      <td>7480.869</td>\n",
       "      <td>3126.681</td>\n",
       "      <td>6989.80</td>\n",
       "      <td>1981.93</td>\n",
       "      <td>NaN</td>\n",
       "      <td>7803.348</td>\n",
       "      <td>3733.78</td>\n",
       "      <td>3061.494</td>\n",
       "      <td>3561.510</td>\n",
       "      <td>1964.35</td>\n",
       "    </tr>\n",
       "    <tr>\n",
       "      <th>2020-01</th>\n",
       "      <td>14963.738</td>\n",
       "      <td>6286.962</td>\n",
       "      <td>13979.60</td>\n",
       "      <td>3967.46</td>\n",
       "      <td>NaN</td>\n",
       "      <td>15606.696</td>\n",
       "      <td>7467.56</td>\n",
       "      <td>6122.988</td>\n",
       "      <td>7139.020</td>\n",
       "      <td>4129.50</td>\n",
       "    </tr>\n",
       "    <tr>\n",
       "      <th>2020-02</th>\n",
       "      <td>7638.419</td>\n",
       "      <td>3166.281</td>\n",
       "      <td>6992.93</td>\n",
       "      <td>1988.73</td>\n",
       "      <td>NaN</td>\n",
       "      <td>7803.348</td>\n",
       "      <td>3733.78</td>\n",
       "      <td>3061.494</td>\n",
       "      <td>3569.510</td>\n",
       "      <td>2065.95</td>\n",
       "    </tr>\n",
       "  </tbody>\n",
       "</table>\n",
       "</div>"
      ],
      "text/plain": [
       "region              BUENOS AIRES    CENTRO   COMAHUE     CUYO  GENERAC MOVIL  \\\n",
       "periodo_formateado                                                             \n",
       "2018-01                 6426.369  3210.920   6788.40  1761.11        199.536   \n",
       "2018-02                 6549.953  3210.920   6788.40  1761.11            NaN   \n",
       "2018-03                 6557.953  3210.920   6788.40  1761.11            NaN   \n",
       "2018-04                 6755.053  3210.920   6788.40  1761.11            NaN   \n",
       "2018-05                 6769.893  3210.920   6788.40  1761.59            NaN   \n",
       "2018-06                 6869.893  3210.920   6788.40  1761.59            NaN   \n",
       "2018-07                 6874.593  3244.139   6848.40  1761.59            NaN   \n",
       "2018-08                 6975.393  3244.139   6848.40  1761.59            NaN   \n",
       "2018-09                 7129.503  3293.339   6848.40  1763.29            NaN   \n",
       "2019-01                 7136.353  3316.539   6848.40  1845.29            NaN   \n",
       "2019-04                 7166.003  3320.539   6888.00  1925.29            NaN   \n",
       "2019-05                 7263.503  3370.039   6888.00  1898.29            NaN   \n",
       "2019-06                 7270.703  3370.039   6888.00  1911.79            NaN   \n",
       "2019-07                14668.466  6740.078  13978.80  3836.58            NaN   \n",
       "2019-08                 7293.689  3308.555   7001.10  1918.29            NaN   \n",
       "2019-09                14670.978  6628.062  14002.20  3833.22            NaN   \n",
       "2019-11                 7357.209  3082.031   6989.80  1981.93            NaN   \n",
       "2019-12                 7480.869  3126.681   6989.80  1981.93            NaN   \n",
       "2020-01                14963.738  6286.962  13979.60  3967.46            NaN   \n",
       "2020-02                 7638.419  3166.281   6992.93  1988.73            NaN   \n",
       "\n",
       "region              GRAN BS.AS.  LITORAL   NORESTE  NOROESTE  PATAGONICA  \n",
       "periodo_formateado                                                        \n",
       "2018-01                7363.988  3275.48  3080.866  3374.494     1243.90  \n",
       "2018-02                7373.444  3447.48  3080.866  3401.472     1243.90  \n",
       "2018-03                7373.444  3727.48  3080.866  3405.062     1280.90  \n",
       "2018-04                7373.444  3727.48  3080.866  3405.062     1280.90  \n",
       "2018-05                7627.444  3727.48  3080.866  3405.562     1280.90  \n",
       "2018-06                7627.444  3727.48  3080.866  3405.562     1302.90  \n",
       "2018-07                7627.444  3727.48  3080.866  3405.562     1352.40  \n",
       "2018-08                7627.444  3727.48  3080.866  3405.562     1352.40  \n",
       "2018-09                7627.444  3727.48  3080.866  3405.562     1352.40  \n",
       "2019-01                7627.444  3727.48  3064.366  3447.062     1525.95  \n",
       "2019-04                7632.744  3733.78  3064.366  3489.062     1702.35  \n",
       "2019-05                7632.744  3733.78  3064.366  3489.062     1702.35  \n",
       "2019-06                7837.804  3733.78  3064.366  3489.062     1702.35  \n",
       "2019-07               15675.608  7467.56  6128.732  7138.124     3404.70  \n",
       "2019-08                7828.348  3733.78  3061.494  3542.624     1702.35  \n",
       "2019-09               15606.696  7467.56  6122.988  7113.248     3762.30  \n",
       "2019-11                7803.348  3733.78  3061.494  3561.510     1964.35  \n",
       "2019-12                7803.348  3733.78  3061.494  3561.510     1964.35  \n",
       "2020-01               15606.696  7467.56  6122.988  7139.020     4129.50  \n",
       "2020-02                7803.348  3733.78  3061.494  3569.510     2065.95  "
      ]
     },
     "execution_count": 14,
     "metadata": {},
     "output_type": "execute_result"
    }
   ],
   "source": [
    "df_pivoteado.tail(20)"
   ]
  },
  {
   "cell_type": "markdown",
   "id": "a732a4d3",
   "metadata": {},
   "source": [
    "3. Escribamos una función que reciba como argumento el `DataFrame` formateado como en el punto anterior y un string que represente una región, y utilicemos `seaborn` para hacer un gráfico de la potencia instalada para esa región. Pueden usar, por ejemplo, el tipo de plot `lineplot` (el argumento `data` de la función debe ser el `DataFrame` formateado). Pueden usar los comandos vistos en matplotlib para formatear un plot de Seaborn."
   ]
  },
  {
   "cell_type": "code",
   "execution_count": null,
   "id": "6d53b97c-a781-4a76-a394-111eb92d6d46",
   "metadata": {},
   "outputs": [],
   "source": [
    "import seaborn as sns\n",
    "import matplotlib.pyplot as plt"
   ]
  },
  {
   "cell_type": "code",
   "execution_count": 28,
   "id": "9fcbdc14-afa6-435b-add4-455d75718ad0",
   "metadata": {},
   "outputs": [],
   "source": [
    "def plot(df, region):\n",
    "    sns.set_theme(rc={'figure.figsize':(10, 4)})\n",
    "    \n",
    "    # podemos usar matplotlib.pyplot para modificar el plot\n",
    "    # (recordar que Seaborn es tan sólo un \"wrapper\" de matplotlib)\n",
    "    plt.xticks(rotation=45, horizontalalignment=\"right\", fontsize=8) \n",
    "    plt.xlabel(\"Periodo\") \n",
    "    plt.ylabel(\"Generación móvil (MW)\") \n",
    "    sns.lineplot(x=\"periodo_formateado\", y=region, data=df)"
   ]
  },
  {
   "cell_type": "markdown",
   "id": "aecb89fa-0ed9-4356-bb41-075d5a9e89f8",
   "metadata": {},
   "source": [
    "Probemos la función:"
   ]
  },
  {
   "cell_type": "code",
   "execution_count": 29,
   "id": "d921b0ca",
   "metadata": {},
   "outputs": [
    {
     "data": {
      "image/png": "[encoded data removed]",
      "text/plain": [
       "<Figure size 1000x400 with 1 Axes>"
      ]
     },
     "metadata": {},
     "output_type": "display_data"
    }
   ],
   "source": [
    "plot(df_pivoteado.reset_index(), \"GENERAC MOVIL\")"
   ]
  },
  {
   "cell_type": "markdown",
   "id": "a12816d7",
   "metadata": {},
   "source": [
    "4. Finalmente, usemos un widget reactivo para elegir qué región graficar. Pueden consultar la documentación de widget acá: https://ipywidgets.readthedocs.io/en/latest/examples/Widget%20List.html."
   ]
  },
  {
   "cell_type": "code",
   "execution_count": 30,
   "id": "d3e44c72",
   "metadata": {},
   "outputs": [],
   "source": [
    "import ipywidgets as widgets\n",
    "from ipywidgets import interact"
   ]
  },
  {
   "cell_type": "markdown",
   "id": "50cecdae-d5af-4fa2-89c8-871c50672303",
   "metadata": {},
   "source": [
    "Definimos el widget (debe ser de tipo `Select`)"
   ]
  },
  {
   "cell_type": "code",
   "execution_count": 31,
   "id": "9496a8fe-ca34-4dfc-9edd-85020d012d0e",
   "metadata": {},
   "outputs": [],
   "source": [
    "# Podríamos hacerlo de esta manera pero habría que eliminar el elemento \"(en blanco)\"\n",
    "# region_w = widgets.Select(options=sorted(potencia_df.region.unique()))\n",
    "\n",
    "# De esta manera no hace falta hacerlo\n",
    "region_w = widgets.Select(options=sorted(df_pivoteado.columns))"
   ]
  },
  {
   "cell_type": "code",
   "execution_count": 32,
   "id": "bea29d3f-bc4d-4406-ab76-67c66af06660",
   "metadata": {},
   "outputs": [
    {
     "data": {
      "application/vnd.jupyter.widget-view+json": {
       "model_id": "3b7b680a058a4bf49141ba84eedfaa14",
       "version_major": 2,
       "version_minor": 0
      },
      "text/plain": [
       "interactive(children=(Select(description='region', options=('BUENOS AIRES', 'CENTRO', 'COMAHUE', 'CUYO', 'GENE…"
      ]
     },
     "metadata": {},
     "output_type": "display_data"
    }
   ],
   "source": [
    "def plot_por_region(region):\n",
    "    sns.set_theme(rc={'figure.figsize':(20, 4)})\n",
    "    plot(df_pivoteado, region)\n",
    "        \n",
    "interact(plot_por_region, region=region_w);"
   ]
  },
  {
   "cell_type": "markdown",
   "id": "46b763ec-9714-42bf-bf42-49e24b7e2087",
   "metadata": {},
   "source": [
    "Esta forma usa algo que se llama \"decoradores\" (es un aspecto más avanzado de Python que no cubrimos, pueden leer al respecto [aquí](https://www.geeksforgeeks.org/decorators-in-python/) por ejemplo). Es equivalente a lo de arriba, pero basta agregar `@interact` antes de la definición de la función."
   ]
  },
  {
   "cell_type": "code",
   "execution_count": 33,
   "id": "b1fda0d5-efc4-479b-8710-10d96fa9dd16",
   "metadata": {},
   "outputs": [
    {
     "data": {
      "application/vnd.jupyter.widget-view+json": {
       "model_id": "e5194273e5eb4e169684e12c2ec3392e",
       "version_major": 2,
       "version_minor": 0
      },
      "text/plain": [
       "interactive(children=(Select(description='region', options=('BUENOS AIRES', 'CENTRO', 'COMAHUE', 'CUYO', 'GENE…"
      ]
     },
     "metadata": {},
     "output_type": "display_data"
    }
   ],
   "source": [
    "@interact\n",
    "def plot_por_region(region=region_w):\n",
    "    sns.set_theme(rc={'figure.figsize':(15, 4)})\n",
    "    plot(df_pivoteado, region)"
   ]
  },
  {
   "cell_type": "markdown",
   "id": "ab473e84",
   "metadata": {},
   "source": [
    "___________________________________________________"
   ]
  },
  {
   "cell_type": "markdown",
   "id": "8965adc4",
   "metadata": {},
   "source": [
    "## Expresiones regulares"
   ]
  },
  {
   "cell_type": "markdown",
   "id": "a7693ab7",
   "metadata": {},
   "source": [
    "#### Ejercicio:\n",
    "Vamos a seguir trabajando con el Martín Fierro. <br>\n",
    "Primero repitamos el proceso de _parseo_ realizado durante la clase asincrónica"
   ]
  },
  {
   "cell_type": "code",
   "execution_count": 35,
   "id": "90c42fbe",
   "metadata": {},
   "outputs": [],
   "source": [
    "with open(\"archivos/martin_fierro.txt\") as archivo:\n",
    "    martin_fierro = archivo.read()"
   ]
  },
  {
   "cell_type": "code",
   "execution_count": 63,
   "id": "50759fb2",
   "metadata": {},
   "outputs": [],
   "source": [
    "def parsear_martin_fierro(martin_fierro):\n",
    "    partes = re.split(\"[IVX]+ - .*\\n\", martin_fierro)\n",
    "    partes.pop(0)\n",
    "    \n",
    "    estrofas = partes.copy()\n",
    "    for i in range(len(estrofas)):\n",
    "        estrofas[i] = re.split(\"\\n\\d+\\n\", estrofas[i])\n",
    "        estrofas[i].pop(0)\n",
    "    \n",
    "    versos = estrofas.copy()\n",
    "    for i in range(len(versos)):\n",
    "        for j in range(len(versos[i])):\n",
    "            versos[i][j] = versos[i][j].split(\"\\n\")\n",
    "            del versos[i][j][-1] # Agregué esto para eliminar el string vacío al final de cada estrofa\n",
    "    \n",
    "    # Quitamos la última parte que no corresponde a versos del Martín Fierro\n",
    "    versos[-1][-1] = versos[-1][-1][0:6]\n",
    "    \n",
    "    return versos"
   ]
  },
  {
   "cell_type": "code",
   "execution_count": 64,
   "id": "00a00ec1",
   "metadata": {},
   "outputs": [],
   "source": [
    "versos = parsear_martin_fierro(martin_fierro)"
   ]
  },
  {
   "cell_type": "markdown",
   "id": "deadb2d6",
   "metadata": {},
   "source": [
    "**Consigna**\n",
    "\n",
    "Construir un _widget_ reactivo tal que uno pueda escribir una expresión regular y, si tal expresión regular matchea con alguna parte del libro, muestre todos los números de parte, estrofa y verso en los que aparece (así como el verso mismo). Si no aparecen en ningún lado, debe imprimir un mensaje diciendo `\"La expresión regular <EXPRESIÓN REGULAR> no matchea con ningún verso del Martín Fierro.`\n",
    "\n",
    "_Ayudas_: \n",
    "- El widget que deberían usar es de tipo `Textarea`. \n",
    "- Dentro de la función que se le pasa a `interact` debería haber loops `for` anidados (como se hizo en la clase asincrónica), para iterar sobre las estructuras jerárquicas que componen el libro.\n",
    "- Recordar, por ejemplo, el método `enumerate` que devuelve tanto los índices como los elementos sobre los cuales se itera (no es estrictamente necesario usarlo, pero puede ser útil).\n"
   ]
  },
  {
   "cell_type": "code",
   "execution_count": 70,
   "id": "18c5a760-95e1-45c4-8bbd-8b976873920e",
   "metadata": {},
   "outputs": [],
   "source": [
    "regex_w = widgets.Textarea(value=\"[Aa]qu[eí´]\")"
   ]
  },
  {
   "cell_type": "code",
   "execution_count": 71,
   "id": "fa0b08e8-9c90-4ddb-bc31-dc031415dac2",
   "metadata": {
    "tags": []
   },
   "outputs": [
    {
     "data": {
      "application/vnd.jupyter.widget-view+json": {
       "model_id": "fef7c348e0d34d988131c4c940fb93be",
       "version_major": 2,
       "version_minor": 0
      },
      "text/plain": [
       "interactive(children=(Textarea(value='[Aa]qu[eí´]', description='pattern'), Output()), _dom_classes=('widget-i…"
      ]
     },
     "metadata": {},
     "output_type": "display_data"
    }
   ],
   "source": [
    "@interact\n",
    "def encontrar_ocurrencia(pattern=regex_w):\n",
    "    regex = re.compile(pattern)\n",
    "\n",
    "    if len(pattern) == 0:\n",
    "        print(\"Ninguna expresión regular ha sido ingresada\")\n",
    "        return\n",
    "    \n",
    "    print(f\"Regex seleccionada: {pattern}\\n\")\n",
    "    hay_match = False\n",
    "    \n",
    "    for i, parte in enumerate(versos):\n",
    "      for j, estrofa in enumerate(parte):\n",
    "        for k, verso in enumerate(estrofa):\n",
    "            if regex.findall(verso):\n",
    "                hay_match = True\n",
    "                print(f\"parte {i}, estrofa {j}, verso {k}: {verso}\")        \n",
    "    \n",
    "    if not hay_match:\n",
    "        print(f\"La expresión regular {pattern} no matchea con ningún verso del Martín Fierro.\")"
   ]
  },
  {
   "cell_type": "markdown",
   "id": "11cd86f1",
   "metadata": {},
   "source": [
    "_______________________________________________________________"
   ]
  },
  {
   "cell_type": "markdown",
   "id": "a3e0e861",
   "metadata": {},
   "source": [
    "## _Fuzzy matching_ (opcional por ahora)"
   ]
  },
  {
   "cell_type": "markdown",
   "id": "6bdadade",
   "metadata": {},
   "source": [
    "_Fuzzy matching_ refiere al concepto de encontrar correspondencias entre strings que no son exactamente iguales."
   ]
  },
  {
   "cell_type": "markdown",
   "id": "b7db62c4",
   "metadata": {},
   "source": [
    "Instalemos el módulo `fuzzywuzzy` con `pip install fuzzywuzzy`."
   ]
  },
  {
   "cell_type": "code",
   "execution_count": 66,
   "id": "b379e3d7",
   "metadata": {},
   "outputs": [
    {
     "name": "stderr",
     "output_type": "stream",
     "text": [
      "/home/rodrigo/anaconda3/lib/python3.9/site-packages/fuzzywuzzy/fuzz.py:11: UserWarning: Using slow pure-python SequenceMatcher. Install python-Levenshtein to remove this warning\n",
      "  warnings.warn('Using slow pure-python SequenceMatcher. Install python-Levenshtein to remove this warning')\n"
     ]
    }
   ],
   "source": [
    "from fuzzywuzzy import fuzz, process"
   ]
  },
  {
   "cell_type": "markdown",
   "id": "d9e8a778",
   "metadata": {},
   "source": [
    "### Distancia de Levenshtein"
   ]
  },
  {
   "cell_type": "markdown",
   "id": "d782969a",
   "metadata": {},
   "source": [
    "Es la cantidad mínima de caracteres que deben editarse en un string para equipararlo a otro. Una edición puede ser una inserción, una eliminación o una substitución."
   ]
  },
  {
   "cell_type": "markdown",
   "id": "9266a732",
   "metadata": {},
   "source": [
    "`fuzzywuzzy` es una librería de Python que tiene funciones para medir distancias entre `string`'s. Estima la distancia y devuelve un indicador de similitud entre 0 (menor similitud) y 100 (máxima similitud)."
   ]
  },
  {
   "cell_type": "markdown",
   "id": "f2d5bffc",
   "metadata": {},
   "source": [
    "Documentación (es algo básica): https://github.com/seatgeek/fuzzywuzzy"
   ]
  },
  {
   "cell_type": "code",
   "execution_count": 67,
   "id": "dde6f741",
   "metadata": {},
   "outputs": [
    {
     "data": {
      "text/plain": [
       "93"
      ]
     },
     "execution_count": 67,
     "metadata": {},
     "output_type": "execute_result"
    }
   ],
   "source": [
    "# Simple Ratio\n",
    "fuzz.ratio(\"Energía Termica\", \"Energía Térmica\")"
   ]
  },
  {
   "cell_type": "code",
   "execution_count": 68,
   "id": "45cb4e9c",
   "metadata": {},
   "outputs": [
    {
     "data": {
      "text/plain": [
       "93"
      ]
     },
     "execution_count": 68,
     "metadata": {},
     "output_type": "execute_result"
    }
   ],
   "source": [
    "# Partial Ratio\n",
    "fuzz.partial_ratio(\"Energía Termica\", \"La Energía Térmica es la más común\")"
   ]
  },
  {
   "cell_type": "code",
   "execution_count": 69,
   "id": "22109a38",
   "metadata": {},
   "outputs": [
    {
     "data": {
      "text/plain": [
       "100"
      ]
     },
     "execution_count": 69,
     "metadata": {},
     "output_type": "execute_result"
    }
   ],
   "source": [
    "# Token set ratio\n",
    "fuzz.token_sort_ratio(\"La Energía Térmica es la más común\", \"La más común es Energía Térmica la\")"
   ]
  },
  {
   "cell_type": "code",
   "execution_count": 70,
   "id": "11b806be",
   "metadata": {},
   "outputs": [
    {
     "data": {
      "text/plain": [
       "100"
      ]
     },
     "execution_count": 70,
     "metadata": {},
     "output_type": "execute_result"
    }
   ],
   "source": [
    "# Token set ratio\n",
    "fuzz.token_set_ratio(\"La Energía Térmica es la más común\", \"La más más común es Energía Térmica la la \")"
   ]
  },
  {
   "cell_type": "code",
   "execution_count": 71,
   "id": "ca9bda35",
   "metadata": {},
   "outputs": [],
   "source": [
    "from fuzzywuzzy import process"
   ]
  },
  {
   "cell_type": "code",
   "execution_count": 72,
   "id": "1cebb92f",
   "metadata": {},
   "outputs": [
    {
     "data": {
      "text/plain": [
       "\u001b[0;31mSignature:\u001b[0m\n",
       "\u001b[0mprocess\u001b[0m\u001b[0;34m.\u001b[0m\u001b[0mextractOne\u001b[0m\u001b[0;34m(\u001b[0m\u001b[0;34m\u001b[0m\n",
       "\u001b[0;34m\u001b[0m    \u001b[0mquery\u001b[0m\u001b[0;34m,\u001b[0m\u001b[0;34m\u001b[0m\n",
       "\u001b[0;34m\u001b[0m    \u001b[0mchoices\u001b[0m\u001b[0;34m,\u001b[0m\u001b[0;34m\u001b[0m\n",
       "\u001b[0;34m\u001b[0m    \u001b[0mprocessor\u001b[0m\u001b[0;34m=\u001b[0m\u001b[0;34m<\u001b[0m\u001b[0mfunction\u001b[0m \u001b[0mfull_process\u001b[0m \u001b[0mat\u001b[0m \u001b[0;36m0x7f09e16bd940\u001b[0m\u001b[0;34m>\u001b[0m\u001b[0;34m,\u001b[0m\u001b[0;34m\u001b[0m\n",
       "\u001b[0;34m\u001b[0m    \u001b[0mscorer\u001b[0m\u001b[0;34m=\u001b[0m\u001b[0;34m<\u001b[0m\u001b[0mfunction\u001b[0m \u001b[0mWRatio\u001b[0m \u001b[0mat\u001b[0m \u001b[0;36m0x7f09e1d02430\u001b[0m\u001b[0;34m>\u001b[0m\u001b[0;34m,\u001b[0m\u001b[0;34m\u001b[0m\n",
       "\u001b[0;34m\u001b[0m    \u001b[0mscore_cutoff\u001b[0m\u001b[0;34m=\u001b[0m\u001b[0;36m0\u001b[0m\u001b[0;34m,\u001b[0m\u001b[0;34m\u001b[0m\n",
       "\u001b[0;34m\u001b[0m\u001b[0;34m)\u001b[0m\u001b[0;34m\u001b[0m\u001b[0;34m\u001b[0m\u001b[0m\n",
       "\u001b[0;31mDocstring:\u001b[0m\n",
       "Find the single best match above a score in a list of choices.\n",
       "\n",
       "This is a convenience method which returns the single best choice.\n",
       "See extract() for the full arguments list.\n",
       "\n",
       "Args:\n",
       "    query: A string to match against\n",
       "    choices: A list or dictionary of choices, suitable for use with\n",
       "        extract().\n",
       "    processor: Optional function for transforming choices before matching.\n",
       "        See extract().\n",
       "    scorer: Scoring function for extract().\n",
       "    score_cutoff: Optional argument for score threshold. If the best\n",
       "        match is found, but it is not greater than this number, then\n",
       "        return None anyway (\"not a good enough match\").  Defaults to 0.\n",
       "\n",
       "Returns:\n",
       "    A tuple containing a single match and its score, if a match\n",
       "    was found that was above score_cutoff. Otherwise, returns None.\n",
       "\u001b[0;31mFile:\u001b[0m      ~/anaconda3/lib/python3.9/site-packages/fuzzywuzzy/process.py\n",
       "\u001b[0;31mType:\u001b[0m      function\n"
      ]
     },
     "metadata": {},
     "output_type": "display_data"
    }
   ],
   "source": [
    "?process.extractOne"
   ]
  },
  {
   "cell_type": "code",
   "execution_count": 73,
   "id": "9956f214",
   "metadata": {},
   "outputs": [],
   "source": [
    "fuentes_validas = ['Térmica','Renovable','Hidráulica','Nuclear']"
   ]
  },
  {
   "cell_type": "code",
   "execution_count": 74,
   "id": "fd90ed07",
   "metadata": {},
   "outputs": [
    {
     "data": {
      "text/plain": [
       "('Térmica', 83)"
      ]
     },
     "execution_count": 74,
     "metadata": {},
     "output_type": "execute_result"
    }
   ],
   "source": [
    "process.extractOne(\"Temica\", fuentes_validas)"
   ]
  },
  {
   "cell_type": "code",
   "execution_count": 75,
   "id": "a2cc88a2",
   "metadata": {},
   "outputs": [
    {
     "data": {
      "text/plain": [
       "'Térmica'"
      ]
     },
     "execution_count": 75,
     "metadata": {},
     "output_type": "execute_result"
    }
   ],
   "source": [
    "process.extractOne(\"Temica\", fuentes_validas)[0]"
   ]
  },
  {
   "cell_type": "markdown",
   "id": "5d1f3c9d",
   "metadata": {},
   "source": [
    "**Aplicación**: examinemos la tabla de potencia instalada:"
   ]
  },
  {
   "cell_type": "code",
   "execution_count": 76,
   "id": "14584379",
   "metadata": {},
   "outputs": [],
   "source": [
    "df = pd.read_csv(\"archivos/potencia_instalada_con_errores.csv\", sep=\"|\", encoding=\"latin1\")"
   ]
  },
  {
   "cell_type": "code",
   "execution_count": 77,
   "id": "420420ba",
   "metadata": {},
   "outputs": [
    {
     "data": {
      "text/plain": [
       "Térmica       6833\n",
       "Tmica         2219\n",
       "Termica       1815\n",
       "Renovable     1781\n",
       "Hidráulica     918\n",
       "Renovale       784\n",
       "Renobavle      621\n",
       "Temica         324\n",
       "Hidrulica      263\n",
       "Nuclear        150\n",
       "Hidráulia       85\n",
       "Name: fuente_generacion, dtype: int64"
      ]
     },
     "execution_count": 77,
     "metadata": {},
     "output_type": "execute_result"
    }
   ],
   "source": [
    "df['fuente_generacion'].value_counts()"
   ]
  },
  {
   "cell_type": "code",
   "execution_count": 78,
   "id": "7b7240f6",
   "metadata": {},
   "outputs": [],
   "source": [
    "def limpiar_fuente(fuente_generacion, fuentes_validas=['Térmica','Renovable','Hidráulica','Nuclear']):\n",
    "    '''\n",
    "    Función toma como input un string que identifica una fuente\n",
    "    de generación eléctrica mal escrita y la reemplaza por la fuente\n",
    "    válida más parecida.\n",
    "    '''\n",
    "            \n",
    "    fuente_procesada = process.extractOne(fuente_generacion, fuentes_validas)[0]    \n",
    "    return fuente_procesada"
   ]
  },
  {
   "cell_type": "code",
   "execution_count": 79,
   "id": "de5230df",
   "metadata": {},
   "outputs": [],
   "source": [
    "df['fuente_generacion'] = df['fuente_generacion'].apply(limpiar_fuente)"
   ]
  },
  {
   "cell_type": "code",
   "execution_count": 80,
   "id": "3349ef58",
   "metadata": {},
   "outputs": [
    {
     "data": {
      "text/plain": [
       "Térmica       11191\n",
       "Renovable      3186\n",
       "Hidráulica     1266\n",
       "Nuclear         150\n",
       "Name: fuente_generacion, dtype: int64"
      ]
     },
     "execution_count": 80,
     "metadata": {},
     "output_type": "execute_result"
    }
   ],
   "source": [
    "df['fuente_generacion'].value_counts()"
   ]
  }
 ],
 "metadata": {
  "kernelspec": {
   "display_name": "PPE2024",
   "language": "python",
   "name": "ppe2024"
  },
  "language_info": {
   "codemirror_mode": {
    "name": "ipython",
    "version": 3
   },
   "file_extension": ".py",
   "mimetype": "text/x-python",
   "name": "python",
   "nbconvert_exporter": "python",
   "pygments_lexer": "ipython3",
   "version": "3.10.12"
  }
 },
 "nbformat": 4,
 "nbformat_minor": 5
}
